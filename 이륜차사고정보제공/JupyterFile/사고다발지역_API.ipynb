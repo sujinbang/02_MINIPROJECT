{
 "cells": [
  {
   "cell_type": "code",
   "execution_count": 1,
   "id": "5c9a2e1a-2798-416b-9277-302a15953b05",
   "metadata": {},
   "outputs": [
    {
     "name": "stdout",
     "output_type": "stream",
     "text": [
      "http://apis.data.go.kr/B552468/acdntFreqocZone/getAcdntFreqocZone?serviceKey=cT%2BYkjvIHbeOxm1pvHB%2B00ZWqRmWcBPdjMryZWdGMvWmU%2BqyhRGLJW8y55hv4PgZ%2B8hrkRfn1rcP5hxYUefTlA%3D%3D&numOfRows=100&pageNo=1&signguCode=11680&datatype=json\n"
     ]
    },
    {
     "name": "stderr",
     "output_type": "stream",
     "text": [
      "C:\\Users\\admin\\AppData\\Local\\Temp\\ipykernel_12348\\3275151434.py:52: FutureWarning: pandas.io.json.json_normalize is deprecated, use pandas.json_normalize instead.\n",
      "  dataframe = json_normalize(body)\n"
     ]
    },
    {
     "name": "stdout",
     "output_type": "stream",
     "text": [
      "http://apis.data.go.kr/B552468/acdntFreqocZone/getAcdntFreqocZone?serviceKey=cT%2BYkjvIHbeOxm1pvHB%2B00ZWqRmWcBPdjMryZWdGMvWmU%2BqyhRGLJW8y55hv4PgZ%2B8hrkRfn1rcP5hxYUefTlA%3D%3D&numOfRows=100&pageNo=1&signguCode=11740&datatype=json\n"
     ]
    },
    {
     "name": "stderr",
     "output_type": "stream",
     "text": [
      "C:\\Users\\admin\\AppData\\Local\\Temp\\ipykernel_12348\\3275151434.py:52: FutureWarning: pandas.io.json.json_normalize is deprecated, use pandas.json_normalize instead.\n",
      "  dataframe = json_normalize(body)\n"
     ]
    },
    {
     "name": "stdout",
     "output_type": "stream",
     "text": [
      "http://apis.data.go.kr/B552468/acdntFreqocZone/getAcdntFreqocZone?serviceKey=cT%2BYkjvIHbeOxm1pvHB%2B00ZWqRmWcBPdjMryZWdGMvWmU%2BqyhRGLJW8y55hv4PgZ%2B8hrkRfn1rcP5hxYUefTlA%3D%3D&numOfRows=100&pageNo=1&signguCode=11305&datatype=json\n"
     ]
    },
    {
     "name": "stderr",
     "output_type": "stream",
     "text": [
      "C:\\Users\\admin\\AppData\\Local\\Temp\\ipykernel_12348\\3275151434.py:52: FutureWarning: pandas.io.json.json_normalize is deprecated, use pandas.json_normalize instead.\n",
      "  dataframe = json_normalize(body)\n"
     ]
    },
    {
     "name": "stdout",
     "output_type": "stream",
     "text": [
      "http://apis.data.go.kr/B552468/acdntFreqocZone/getAcdntFreqocZone?serviceKey=cT%2BYkjvIHbeOxm1pvHB%2B00ZWqRmWcBPdjMryZWdGMvWmU%2BqyhRGLJW8y55hv4PgZ%2B8hrkRfn1rcP5hxYUefTlA%3D%3D&numOfRows=100&pageNo=1&signguCode=11500&datatype=json\n"
     ]
    },
    {
     "name": "stderr",
     "output_type": "stream",
     "text": [
      "C:\\Users\\admin\\AppData\\Local\\Temp\\ipykernel_12348\\3275151434.py:52: FutureWarning: pandas.io.json.json_normalize is deprecated, use pandas.json_normalize instead.\n",
      "  dataframe = json_normalize(body)\n"
     ]
    },
    {
     "name": "stdout",
     "output_type": "stream",
     "text": [
      "http://apis.data.go.kr/B552468/acdntFreqocZone/getAcdntFreqocZone?serviceKey=cT%2BYkjvIHbeOxm1pvHB%2B00ZWqRmWcBPdjMryZWdGMvWmU%2BqyhRGLJW8y55hv4PgZ%2B8hrkRfn1rcP5hxYUefTlA%3D%3D&numOfRows=100&pageNo=1&signguCode=11620&datatype=json\n"
     ]
    },
    {
     "name": "stderr",
     "output_type": "stream",
     "text": [
      "C:\\Users\\admin\\AppData\\Local\\Temp\\ipykernel_12348\\3275151434.py:52: FutureWarning: pandas.io.json.json_normalize is deprecated, use pandas.json_normalize instead.\n",
      "  dataframe = json_normalize(body)\n"
     ]
    },
    {
     "name": "stdout",
     "output_type": "stream",
     "text": [
      "http://apis.data.go.kr/B552468/acdntFreqocZone/getAcdntFreqocZone?serviceKey=cT%2BYkjvIHbeOxm1pvHB%2B00ZWqRmWcBPdjMryZWdGMvWmU%2BqyhRGLJW8y55hv4PgZ%2B8hrkRfn1rcP5hxYUefTlA%3D%3D&numOfRows=100&pageNo=1&signguCode=11215&datatype=json\n"
     ]
    },
    {
     "name": "stderr",
     "output_type": "stream",
     "text": [
      "C:\\Users\\admin\\AppData\\Local\\Temp\\ipykernel_12348\\3275151434.py:52: FutureWarning: pandas.io.json.json_normalize is deprecated, use pandas.json_normalize instead.\n",
      "  dataframe = json_normalize(body)\n"
     ]
    },
    {
     "name": "stdout",
     "output_type": "stream",
     "text": [
      "http://apis.data.go.kr/B552468/acdntFreqocZone/getAcdntFreqocZone?serviceKey=cT%2BYkjvIHbeOxm1pvHB%2B00ZWqRmWcBPdjMryZWdGMvWmU%2BqyhRGLJW8y55hv4PgZ%2B8hrkRfn1rcP5hxYUefTlA%3D%3D&numOfRows=100&pageNo=1&signguCode=11530&datatype=json\n"
     ]
    },
    {
     "name": "stderr",
     "output_type": "stream",
     "text": [
      "C:\\Users\\admin\\AppData\\Local\\Temp\\ipykernel_12348\\3275151434.py:52: FutureWarning: pandas.io.json.json_normalize is deprecated, use pandas.json_normalize instead.\n",
      "  dataframe = json_normalize(body)\n"
     ]
    }
   ],
   "source": [
    "from bs4 import BeautifulSoup\n",
    "import requests\n",
    "import json\n",
    "from pandas.io.json import json_normalize\n",
    "#http://apis.data.go.kr/B552468/acdntFreqocZone/getAcdntFreqocZone?serviceKey=cT%2BYkjvIHbeOxm1pvHB%2B00ZWqRmWcBPdjMryZWdGMvWmU%2BqyhRGLJW8y55hv4PgZ%2B8hrkRfn1rcP5hxYUefTlA%3D%3D&numOfRows=10&pageNo=1&signguCode=11110&datatype=json\n",
    "\n",
    "import pandas as pd\n",
    "import requests\n",
    "import time\n",
    "\n",
    "\n",
    "apikey = \"cT%2BYkjvIHbeOxm1pvHB%2B00ZWqRmWcBPdjMryZWdGMvWmU%2BqyhRGLJW8y55hv4PgZ%2B8hrkRfn1rcP5hxYUefTlA%3D%3D\"\n",
    "\n",
    "pageNo = 1\n",
    "numOfRows = 100\n",
    "signguCode = ['11680','11740','11305','11500','11620','11215','11530']\n",
    "\n",
    "#['11680','11740','11305','11500','11620','11215','11530','11545','11350','11320','11230','11590','11440','11410','11650','11200','11290','11710','11470','11560','11170','11380','11110','11140','11260']\n",
    "datatype = 'json'\n",
    "\n",
    "\n",
    "\n",
    "api = \"http://apis.data.go.kr/B552468/acdntFreqocZone/getAcdntFreqocZone?serviceKey={key}&numOfRows={row}&pageNo={no}&signguCode={sgguCd}&datatype={dtype}\"\n",
    "\n",
    "# f.\"{pageNo}{sidoCd}\"\n",
    "# \"{}{}\".format(pageNo,sidoCd)\n",
    "\n",
    "df = pd.DataFrame()\n",
    "for acode in signguCode :\n",
    "    time.sleep(3)\n",
    "    url = api.format(no=pageNo,\n",
    "                     row=numOfRows,\n",
    "                     sgguCd=acode,\n",
    "                     dtype=datatype,\n",
    "                     key=apikey)\n",
    "\n",
    "\n",
    "    response = requests.get(url)\n",
    "    #print(response.content)\n",
    "    print(url)\n",
    "    re = response.text\n",
    "    soup = BeautifulSoup(re, \"html.parser\")\n",
    "    contents = response.text\n",
    "\n",
    "    json_ob = json.loads(contents) # json을 딕셔너리로\n",
    "    #print(json_ob)\n",
    "\n",
    "\n",
    "    body = json_ob['response']['body']['items']['item']\n",
    "    #print(body)\n",
    "\n",
    "    dataframe = json_normalize(body)\n",
    "    df = pd.concat([df, dataframe])\n",
    "    #dataframe = json_normalize(body)\n",
    "    \n",
    "# url = api.format(no=pageNo,\n",
    "#                  row=numOfRows,\n",
    "#                  sgguCd=signguCode,\n",
    "#                  dtype=datatype,\n",
    "#                  key=apikey)\n",
    "\n",
    "# #response = requests.get(url, params=params)"
   ]
  },
  {
   "cell_type": "code",
   "execution_count": 2,
   "id": "d26d6c1b-96fd-45dd-b638-6de7dabc5560",
   "metadata": {},
   "outputs": [
    {
     "data": {
      "text/html": [
       "<div>\n",
       "<style scoped>\n",
       "    .dataframe tbody tr th:only-of-type {\n",
       "        vertical-align: middle;\n",
       "    }\n",
       "\n",
       "    .dataframe tbody tr th {\n",
       "        vertical-align: top;\n",
       "    }\n",
       "\n",
       "    .dataframe thead th {\n",
       "        text-align: right;\n",
       "    }\n",
       "</style>\n",
       "<table border=\"1\" class=\"dataframe\">\n",
       "  <thead>\n",
       "    <tr style=\"text-align: right;\">\n",
       "      <th></th>\n",
       "      <th>freqocZoneVer</th>\n",
       "      <th>freqocZoneId</th>\n",
       "      <th>freqocZoneNm</th>\n",
       "      <th>signguCode</th>\n",
       "      <th>signguNm</th>\n",
       "      <th>acdntCo</th>\n",
       "      <th>centerX</th>\n",
       "      <th>centerY</th>\n",
       "      <th>zoneRds</th>\n",
       "    </tr>\n",
       "  </thead>\n",
       "  <tbody>\n",
       "    <tr>\n",
       "      <th>0</th>\n",
       "      <td>2021090301</td>\n",
       "      <td>1168000456</td>\n",
       "      <td>도이</td>\n",
       "      <td>11680</td>\n",
       "      <td>서울특별시 강남구</td>\n",
       "      <td>3</td>\n",
       "      <td>127.057900</td>\n",
       "      <td>37.492987</td>\n",
       "      <td>40</td>\n",
       "    </tr>\n",
       "    <tr>\n",
       "      <th>1</th>\n",
       "      <td>2021090301</td>\n",
       "      <td>1168000457</td>\n",
       "      <td>래미안도곡카운터 104동</td>\n",
       "      <td>11680</td>\n",
       "      <td>서울특별시 강남구</td>\n",
       "      <td>5</td>\n",
       "      <td>127.050250</td>\n",
       "      <td>37.495400</td>\n",
       "      <td>40</td>\n",
       "    </tr>\n",
       "    <tr>\n",
       "      <th>2</th>\n",
       "      <td>2021090301</td>\n",
       "      <td>1168000458</td>\n",
       "      <td>필다스코리아</td>\n",
       "      <td>11680</td>\n",
       "      <td>서울특별시 강남구</td>\n",
       "      <td>11</td>\n",
       "      <td>127.042604</td>\n",
       "      <td>37.485880</td>\n",
       "      <td>40</td>\n",
       "    </tr>\n",
       "    <tr>\n",
       "      <th>3</th>\n",
       "      <td>2021090301</td>\n",
       "      <td>1168000459</td>\n",
       "      <td>간단하지만특별한화피디Cafe</td>\n",
       "      <td>11680</td>\n",
       "      <td>서울특별시 강남구</td>\n",
       "      <td>3</td>\n",
       "      <td>127.034801</td>\n",
       "      <td>37.491104</td>\n",
       "      <td>40</td>\n",
       "    </tr>\n",
       "    <tr>\n",
       "      <th>4</th>\n",
       "      <td>2021090301</td>\n",
       "      <td>1168000460</td>\n",
       "      <td>에본빌딩입구</td>\n",
       "      <td>11680</td>\n",
       "      <td>서울특별시 강남구</td>\n",
       "      <td>3</td>\n",
       "      <td>127.045694</td>\n",
       "      <td>37.507957</td>\n",
       "      <td>40</td>\n",
       "    </tr>\n",
       "    <tr>\n",
       "      <th>...</th>\n",
       "      <td>...</td>\n",
       "      <td>...</td>\n",
       "      <td>...</td>\n",
       "      <td>...</td>\n",
       "      <td>...</td>\n",
       "      <td>...</td>\n",
       "      <td>...</td>\n",
       "      <td>...</td>\n",
       "      <td>...</td>\n",
       "    </tr>\n",
       "    <tr>\n",
       "      <th>17</th>\n",
       "      <td>2021090301</td>\n",
       "      <td>1153000350</td>\n",
       "      <td>천왕역광역환승센터</td>\n",
       "      <td>11530</td>\n",
       "      <td>서울특별시 구로구</td>\n",
       "      <td>4</td>\n",
       "      <td>126.839547</td>\n",
       "      <td>37.486965</td>\n",
       "      <td>40</td>\n",
       "    </tr>\n",
       "    <tr>\n",
       "      <th>18</th>\n",
       "      <td>2021090301</td>\n",
       "      <td>1153000351</td>\n",
       "      <td>성원빌딩입구</td>\n",
       "      <td>11530</td>\n",
       "      <td>서울특별시 구로구</td>\n",
       "      <td>6</td>\n",
       "      <td>126.846038</td>\n",
       "      <td>37.501414</td>\n",
       "      <td>40</td>\n",
       "    </tr>\n",
       "    <tr>\n",
       "      <th>19</th>\n",
       "      <td>2021090301</td>\n",
       "      <td>1153000352</td>\n",
       "      <td>햇빛치과의원</td>\n",
       "      <td>11530</td>\n",
       "      <td>서울특별시 구로구</td>\n",
       "      <td>7</td>\n",
       "      <td>126.843530</td>\n",
       "      <td>37.495857</td>\n",
       "      <td>40</td>\n",
       "    </tr>\n",
       "    <tr>\n",
       "      <th>20</th>\n",
       "      <td>2021090301</td>\n",
       "      <td>1153000353</td>\n",
       "      <td>구로디지털단지역(중)</td>\n",
       "      <td>11530</td>\n",
       "      <td>서울특별시 구로구</td>\n",
       "      <td>25</td>\n",
       "      <td>126.902304</td>\n",
       "      <td>37.483919</td>\n",
       "      <td>40</td>\n",
       "    </tr>\n",
       "    <tr>\n",
       "      <th>21</th>\n",
       "      <td>2021090301</td>\n",
       "      <td>1153000354</td>\n",
       "      <td>(주)청우</td>\n",
       "      <td>11530</td>\n",
       "      <td>서울특별시 구로구</td>\n",
       "      <td>3</td>\n",
       "      <td>126.893505</td>\n",
       "      <td>37.482333</td>\n",
       "      <td>40</td>\n",
       "    </tr>\n",
       "  </tbody>\n",
       "</table>\n",
       "<p>163 rows × 9 columns</p>\n",
       "</div>"
      ],
      "text/plain": [
       "   freqocZoneVer freqocZoneId     freqocZoneNm signguCode   signguNm  acdntCo  \\\n",
       "0     2021090301   1168000456               도이      11680  서울특별시 강남구        3   \n",
       "1     2021090301   1168000457    래미안도곡카운터 104동      11680  서울특별시 강남구        5   \n",
       "2     2021090301   1168000458           필다스코리아      11680  서울특별시 강남구       11   \n",
       "3     2021090301   1168000459  간단하지만특별한화피디Cafe      11680  서울특별시 강남구        3   \n",
       "4     2021090301   1168000460           에본빌딩입구      11680  서울특별시 강남구        3   \n",
       "..           ...          ...              ...        ...        ...      ...   \n",
       "17    2021090301   1153000350        천왕역광역환승센터      11530  서울특별시 구로구        4   \n",
       "18    2021090301   1153000351           성원빌딩입구      11530  서울특별시 구로구        6   \n",
       "19    2021090301   1153000352           햇빛치과의원      11530  서울특별시 구로구        7   \n",
       "20    2021090301   1153000353      구로디지털단지역(중)      11530  서울특별시 구로구       25   \n",
       "21    2021090301   1153000354            (주)청우      11530  서울특별시 구로구        3   \n",
       "\n",
       "       centerX    centerY  zoneRds  \n",
       "0   127.057900  37.492987       40  \n",
       "1   127.050250  37.495400       40  \n",
       "2   127.042604  37.485880       40  \n",
       "3   127.034801  37.491104       40  \n",
       "4   127.045694  37.507957       40  \n",
       "..         ...        ...      ...  \n",
       "17  126.839547  37.486965       40  \n",
       "18  126.846038  37.501414       40  \n",
       "19  126.843530  37.495857       40  \n",
       "20  126.902304  37.483919       40  \n",
       "21  126.893505  37.482333       40  \n",
       "\n",
       "[163 rows x 9 columns]"
      ]
     },
     "execution_count": 2,
     "metadata": {},
     "output_type": "execute_result"
    }
   ],
   "source": [
    "df"
   ]
  },
  {
   "cell_type": "code",
   "execution_count": null,
   "id": "d16bbf8d-110e-44e6-a02b-73b31ef0cb1d",
   "metadata": {},
   "outputs": [],
   "source": []
  }
 ],
 "metadata": {
  "kernelspec": {
   "display_name": "Python 3 (ipykernel)",
   "language": "python",
   "name": "python3"
  },
  "language_info": {
   "codemirror_mode": {
    "name": "ipython",
    "version": 3
   },
   "file_extension": ".py",
   "mimetype": "text/x-python",
   "name": "python",
   "nbconvert_exporter": "python",
   "pygments_lexer": "ipython3",
   "version": "3.9.12"
  }
 },
 "nbformat": 4,
 "nbformat_minor": 5
}
