{
 "cells": [
  {
   "cell_type": "code",
   "execution_count": 2,
   "id": "ed7bef93",
   "metadata": {},
   "outputs": [],
   "source": [
    "import pandas as pd"
   ]
  },
  {
   "cell_type": "markdown",
   "id": "e4852742",
   "metadata": {},
   "source": [
    "### 2021년 서울 월별 교통사고 데이터"
   ]
  },
  {
   "cell_type": "code",
   "execution_count": 3,
   "id": "94e69c17",
   "metadata": {},
   "outputs": [],
   "source": [
    "seoul_ac = pd.read_excel('./minidata/21서울월별교통사고.xls')\n",
    "seoul_ac = seoul_ac.rename(columns = seoul_ac.iloc[0])"
   ]
  },
  {
   "cell_type": "code",
   "execution_count": 4,
   "id": "fae52545",
   "metadata": {},
   "outputs": [
    {
     "data": {
      "text/html": [
       "<div>\n",
       "<style scoped>\n",
       "    .dataframe tbody tr th:only-of-type {\n",
       "        vertical-align: middle;\n",
       "    }\n",
       "\n",
       "    .dataframe tbody tr th {\n",
       "        vertical-align: top;\n",
       "    }\n",
       "\n",
       "    .dataframe thead th {\n",
       "        text-align: right;\n",
       "    }\n",
       "</style>\n",
       "<table border=\"1\" class=\"dataframe\">\n",
       "  <thead>\n",
       "    <tr style=\"text-align: right;\">\n",
       "      <th></th>\n",
       "      <th>시도</th>\n",
       "      <th>합계</th>\n",
       "      <th>01월</th>\n",
       "      <th>02월</th>\n",
       "      <th>03월</th>\n",
       "      <th>04월</th>\n",
       "      <th>05월</th>\n",
       "      <th>06월</th>\n",
       "      <th>07월</th>\n",
       "      <th>08월</th>\n",
       "      <th>09월</th>\n",
       "      <th>10월</th>\n",
       "      <th>11월</th>\n",
       "      <th>12월</th>\n",
       "    </tr>\n",
       "  </thead>\n",
       "  <tbody>\n",
       "    <tr>\n",
       "      <th>1</th>\n",
       "      <td>합계</td>\n",
       "      <td>4035</td>\n",
       "      <td>290</td>\n",
       "      <td>241</td>\n",
       "      <td>282</td>\n",
       "      <td>362</td>\n",
       "      <td>347</td>\n",
       "      <td>383</td>\n",
       "      <td>422</td>\n",
       "      <td>368</td>\n",
       "      <td>342</td>\n",
       "      <td>356</td>\n",
       "      <td>290</td>\n",
       "      <td>352</td>\n",
       "    </tr>\n",
       "    <tr>\n",
       "      <th>4</th>\n",
       "      <td>서울</td>\n",
       "      <td>4035</td>\n",
       "      <td>290</td>\n",
       "      <td>241</td>\n",
       "      <td>282</td>\n",
       "      <td>362</td>\n",
       "      <td>347</td>\n",
       "      <td>383</td>\n",
       "      <td>422</td>\n",
       "      <td>368</td>\n",
       "      <td>342</td>\n",
       "      <td>356</td>\n",
       "      <td>290</td>\n",
       "      <td>352</td>\n",
       "    </tr>\n",
       "  </tbody>\n",
       "</table>\n",
       "</div>"
      ],
      "text/plain": [
       "   시도    합계  01월  02월  03월  04월  05월  06월  07월  08월  09월  10월  11월  12월\n",
       "1  합계  4035  290  241  282  362  347  383  422  368  342  356  290  352\n",
       "4  서울  4035  290  241  282  362  347  383  422  368  342  356  290  352"
      ]
     },
     "execution_count": 4,
     "metadata": {},
     "output_type": "execute_result"
    }
   ],
   "source": [
    "seoul_ac = seoul_ac.loc[[1,4]]\n",
    "seoul_ac = seoul_ac.drop(['시군구','사고년도'], axis=1)\n",
    "seoul_ac"
   ]
  },
  {
   "cell_type": "code",
   "execution_count": 5,
   "id": "8eb0b99c",
   "metadata": {},
   "outputs": [],
   "source": [
    "seoul_ac = seoul_ac.set_index(['시도'])"
   ]
  },
  {
   "cell_type": "code",
   "execution_count": 6,
   "id": "413eea6d",
   "metadata": {},
   "outputs": [],
   "source": [
    "seoul_ac = seoul_ac.drop('합계')"
   ]
  },
  {
   "cell_type": "code",
   "execution_count": 7,
   "id": "5dfbc5e7",
   "metadata": {
    "scrolled": true
   },
   "outputs": [
    {
     "data": {
      "text/html": [
       "<div>\n",
       "<style scoped>\n",
       "    .dataframe tbody tr th:only-of-type {\n",
       "        vertical-align: middle;\n",
       "    }\n",
       "\n",
       "    .dataframe tbody tr th {\n",
       "        vertical-align: top;\n",
       "    }\n",
       "\n",
       "    .dataframe thead th {\n",
       "        text-align: right;\n",
       "    }\n",
       "</style>\n",
       "<table border=\"1\" class=\"dataframe\">\n",
       "  <thead>\n",
       "    <tr style=\"text-align: right;\">\n",
       "      <th></th>\n",
       "      <th>01월</th>\n",
       "      <th>02월</th>\n",
       "      <th>03월</th>\n",
       "      <th>04월</th>\n",
       "      <th>05월</th>\n",
       "      <th>06월</th>\n",
       "      <th>07월</th>\n",
       "      <th>08월</th>\n",
       "      <th>09월</th>\n",
       "      <th>10월</th>\n",
       "      <th>11월</th>\n",
       "      <th>12월</th>\n",
       "    </tr>\n",
       "    <tr>\n",
       "      <th>시도</th>\n",
       "      <th></th>\n",
       "      <th></th>\n",
       "      <th></th>\n",
       "      <th></th>\n",
       "      <th></th>\n",
       "      <th></th>\n",
       "      <th></th>\n",
       "      <th></th>\n",
       "      <th></th>\n",
       "      <th></th>\n",
       "      <th></th>\n",
       "      <th></th>\n",
       "    </tr>\n",
       "  </thead>\n",
       "  <tbody>\n",
       "    <tr>\n",
       "      <th>서울</th>\n",
       "      <td>290</td>\n",
       "      <td>241</td>\n",
       "      <td>282</td>\n",
       "      <td>362</td>\n",
       "      <td>347</td>\n",
       "      <td>383</td>\n",
       "      <td>422</td>\n",
       "      <td>368</td>\n",
       "      <td>342</td>\n",
       "      <td>356</td>\n",
       "      <td>290</td>\n",
       "      <td>352</td>\n",
       "    </tr>\n",
       "  </tbody>\n",
       "</table>\n",
       "</div>"
      ],
      "text/plain": [
       "    01월  02월  03월  04월  05월  06월  07월  08월  09월  10월  11월  12월\n",
       "시도                                                            \n",
       "서울  290  241  282  362  347  383  422  368  342  356  290  352"
      ]
     },
     "execution_count": 7,
     "metadata": {},
     "output_type": "execute_result"
    }
   ],
   "source": [
    "seoul_ac = seoul_ac.drop(['합계'], axis=1)\n",
    "seoul_ac"
   ]
  },
  {
   "cell_type": "code",
   "execution_count": 8,
   "id": "67e2d9e0",
   "metadata": {
    "scrolled": false
   },
   "outputs": [
    {
     "data": {
      "text/html": [
       "<div>\n",
       "<style scoped>\n",
       "    .dataframe tbody tr th:only-of-type {\n",
       "        vertical-align: middle;\n",
       "    }\n",
       "\n",
       "    .dataframe tbody tr th {\n",
       "        vertical-align: top;\n",
       "    }\n",
       "\n",
       "    .dataframe thead th {\n",
       "        text-align: right;\n",
       "    }\n",
       "</style>\n",
       "<table border=\"1\" class=\"dataframe\">\n",
       "  <thead>\n",
       "    <tr style=\"text-align: right;\">\n",
       "      <th>시도</th>\n",
       "      <th>서울</th>\n",
       "    </tr>\n",
       "  </thead>\n",
       "  <tbody>\n",
       "    <tr>\n",
       "      <th>01월</th>\n",
       "      <td>290</td>\n",
       "    </tr>\n",
       "    <tr>\n",
       "      <th>02월</th>\n",
       "      <td>241</td>\n",
       "    </tr>\n",
       "    <tr>\n",
       "      <th>03월</th>\n",
       "      <td>282</td>\n",
       "    </tr>\n",
       "    <tr>\n",
       "      <th>04월</th>\n",
       "      <td>362</td>\n",
       "    </tr>\n",
       "    <tr>\n",
       "      <th>05월</th>\n",
       "      <td>347</td>\n",
       "    </tr>\n",
       "    <tr>\n",
       "      <th>06월</th>\n",
       "      <td>383</td>\n",
       "    </tr>\n",
       "    <tr>\n",
       "      <th>07월</th>\n",
       "      <td>422</td>\n",
       "    </tr>\n",
       "    <tr>\n",
       "      <th>08월</th>\n",
       "      <td>368</td>\n",
       "    </tr>\n",
       "    <tr>\n",
       "      <th>09월</th>\n",
       "      <td>342</td>\n",
       "    </tr>\n",
       "    <tr>\n",
       "      <th>10월</th>\n",
       "      <td>356</td>\n",
       "    </tr>\n",
       "    <tr>\n",
       "      <th>11월</th>\n",
       "      <td>290</td>\n",
       "    </tr>\n",
       "    <tr>\n",
       "      <th>12월</th>\n",
       "      <td>352</td>\n",
       "    </tr>\n",
       "  </tbody>\n",
       "</table>\n",
       "</div>"
      ],
      "text/plain": [
       "시도    서울\n",
       "01월  290\n",
       "02월  241\n",
       "03월  282\n",
       "04월  362\n",
       "05월  347\n",
       "06월  383\n",
       "07월  422\n",
       "08월  368\n",
       "09월  342\n",
       "10월  356\n",
       "11월  290\n",
       "12월  352"
      ]
     },
     "execution_count": 8,
     "metadata": {},
     "output_type": "execute_result"
    }
   ],
   "source": [
    "seoul_ac = seoul_ac.T\n",
    "seoul_ac"
   ]
  },
  {
   "cell_type": "code",
   "execution_count": 9,
   "id": "02a10d28",
   "metadata": {},
   "outputs": [
    {
     "data": {
      "text/html": [
       "<div>\n",
       "<style scoped>\n",
       "    .dataframe tbody tr th:only-of-type {\n",
       "        vertical-align: middle;\n",
       "    }\n",
       "\n",
       "    .dataframe tbody tr th {\n",
       "        vertical-align: top;\n",
       "    }\n",
       "\n",
       "    .dataframe thead th {\n",
       "        text-align: right;\n",
       "    }\n",
       "</style>\n",
       "<table border=\"1\" class=\"dataframe\">\n",
       "  <thead>\n",
       "    <tr style=\"text-align: right;\">\n",
       "      <th>시도</th>\n",
       "      <th>사고건수</th>\n",
       "    </tr>\n",
       "  </thead>\n",
       "  <tbody>\n",
       "    <tr>\n",
       "      <th>0</th>\n",
       "      <td>290</td>\n",
       "    </tr>\n",
       "    <tr>\n",
       "      <th>1</th>\n",
       "      <td>241</td>\n",
       "    </tr>\n",
       "    <tr>\n",
       "      <th>2</th>\n",
       "      <td>282</td>\n",
       "    </tr>\n",
       "    <tr>\n",
       "      <th>3</th>\n",
       "      <td>362</td>\n",
       "    </tr>\n",
       "    <tr>\n",
       "      <th>4</th>\n",
       "      <td>347</td>\n",
       "    </tr>\n",
       "    <tr>\n",
       "      <th>5</th>\n",
       "      <td>383</td>\n",
       "    </tr>\n",
       "    <tr>\n",
       "      <th>6</th>\n",
       "      <td>422</td>\n",
       "    </tr>\n",
       "    <tr>\n",
       "      <th>7</th>\n",
       "      <td>368</td>\n",
       "    </tr>\n",
       "    <tr>\n",
       "      <th>8</th>\n",
       "      <td>342</td>\n",
       "    </tr>\n",
       "    <tr>\n",
       "      <th>9</th>\n",
       "      <td>356</td>\n",
       "    </tr>\n",
       "    <tr>\n",
       "      <th>10</th>\n",
       "      <td>290</td>\n",
       "    </tr>\n",
       "    <tr>\n",
       "      <th>11</th>\n",
       "      <td>352</td>\n",
       "    </tr>\n",
       "  </tbody>\n",
       "</table>\n",
       "</div>"
      ],
      "text/plain": [
       "시도 사고건수\n",
       "0   290\n",
       "1   241\n",
       "2   282\n",
       "3   362\n",
       "4   347\n",
       "5   383\n",
       "6   422\n",
       "7   368\n",
       "8   342\n",
       "9   356\n",
       "10  290\n",
       "11  352"
      ]
     },
     "execution_count": 9,
     "metadata": {},
     "output_type": "execute_result"
    }
   ],
   "source": [
    "seoul_ac = seoul_ac.reset_index(drop=True)\n",
    "seoul_ac = seoul_ac.rename(columns = {'서울' : '사고건수'})\n",
    "seoul_ac"
   ]
  },
  {
   "cell_type": "code",
   "execution_count": null,
   "id": "c891818c",
   "metadata": {},
   "outputs": [],
   "source": []
  },
  {
   "cell_type": "markdown",
   "id": "e88587b3",
   "metadata": {},
   "source": [
    "### 2021 서울 월별 강수량 데이터"
   ]
  },
  {
   "cell_type": "code",
   "execution_count": 10,
   "id": "72cfb281",
   "metadata": {},
   "outputs": [
    {
     "data": {
      "text/html": [
       "<div>\n",
       "<style scoped>\n",
       "    .dataframe tbody tr th:only-of-type {\n",
       "        vertical-align: middle;\n",
       "    }\n",
       "\n",
       "    .dataframe tbody tr th {\n",
       "        vertical-align: top;\n",
       "    }\n",
       "\n",
       "    .dataframe thead th {\n",
       "        text-align: right;\n",
       "    }\n",
       "</style>\n",
       "<table border=\"1\" class=\"dataframe\">\n",
       "  <thead>\n",
       "    <tr style=\"text-align: right;\">\n",
       "      <th></th>\n",
       "      <th>지점명</th>\n",
       "      <th>일시</th>\n",
       "      <th>강수량(mm)</th>\n",
       "      <th>일최다강수량(mm)</th>\n",
       "      <th>일최다강수량일자</th>\n",
       "      <th>1시간최다강수량(mm)</th>\n",
       "      <th>1시간최다강수량일자</th>\n",
       "    </tr>\n",
       "  </thead>\n",
       "  <tbody>\n",
       "    <tr>\n",
       "      <th>0</th>\n",
       "      <td>서울</td>\n",
       "      <td>2021-01</td>\n",
       "      <td>18.9</td>\n",
       "      <td>9.2</td>\n",
       "      <td>2021-01-21</td>\n",
       "      <td>NaN</td>\n",
       "      <td>NaN</td>\n",
       "    </tr>\n",
       "    <tr>\n",
       "      <th>1</th>\n",
       "      <td>서울</td>\n",
       "      <td>2021-02</td>\n",
       "      <td>7.1</td>\n",
       "      <td>3.4</td>\n",
       "      <td>2021-02-03</td>\n",
       "      <td>NaN</td>\n",
       "      <td>NaN</td>\n",
       "    </tr>\n",
       "    <tr>\n",
       "      <th>2</th>\n",
       "      <td>서울</td>\n",
       "      <td>2021-03</td>\n",
       "      <td>110.9</td>\n",
       "      <td>67.5</td>\n",
       "      <td>2021-03-01</td>\n",
       "      <td>NaN</td>\n",
       "      <td>NaN</td>\n",
       "    </tr>\n",
       "    <tr>\n",
       "      <th>3</th>\n",
       "      <td>서울</td>\n",
       "      <td>2021-04</td>\n",
       "      <td>124.1</td>\n",
       "      <td>56.2</td>\n",
       "      <td>2021-04-03</td>\n",
       "      <td>11.5</td>\n",
       "      <td>2021-04-03</td>\n",
       "    </tr>\n",
       "    <tr>\n",
       "      <th>4</th>\n",
       "      <td>서울</td>\n",
       "      <td>2021-05</td>\n",
       "      <td>183.1</td>\n",
       "      <td>66.9</td>\n",
       "      <td>2021-05-16</td>\n",
       "      <td>11.3</td>\n",
       "      <td>2021-05-30</td>\n",
       "    </tr>\n",
       "    <tr>\n",
       "      <th>5</th>\n",
       "      <td>서울</td>\n",
       "      <td>2021-06</td>\n",
       "      <td>104.6</td>\n",
       "      <td>38.2</td>\n",
       "      <td>2021-06-27</td>\n",
       "      <td>37.7</td>\n",
       "      <td>2021-06-27</td>\n",
       "    </tr>\n",
       "    <tr>\n",
       "      <th>6</th>\n",
       "      <td>서울</td>\n",
       "      <td>2021-07</td>\n",
       "      <td>168.3</td>\n",
       "      <td>67.4</td>\n",
       "      <td>2021-07-19</td>\n",
       "      <td>65.7</td>\n",
       "      <td>2021-07-19</td>\n",
       "    </tr>\n",
       "    <tr>\n",
       "      <th>7</th>\n",
       "      <td>서울</td>\n",
       "      <td>2021-08</td>\n",
       "      <td>211.2</td>\n",
       "      <td>77.4</td>\n",
       "      <td>2021-08-31</td>\n",
       "      <td>27.9</td>\n",
       "      <td>2021-08-21</td>\n",
       "    </tr>\n",
       "    <tr>\n",
       "      <th>8</th>\n",
       "      <td>서울</td>\n",
       "      <td>2021-09</td>\n",
       "      <td>131.0</td>\n",
       "      <td>68.1</td>\n",
       "      <td>2021-09-21</td>\n",
       "      <td>27.1</td>\n",
       "      <td>2021-09-21</td>\n",
       "    </tr>\n",
       "    <tr>\n",
       "      <th>9</th>\n",
       "      <td>서울</td>\n",
       "      <td>2021-10</td>\n",
       "      <td>57.0</td>\n",
       "      <td>14.2</td>\n",
       "      <td>2021-10-10</td>\n",
       "      <td>12.7</td>\n",
       "      <td>2021-10-01</td>\n",
       "    </tr>\n",
       "    <tr>\n",
       "      <th>10</th>\n",
       "      <td>서울</td>\n",
       "      <td>2021-11</td>\n",
       "      <td>62.4</td>\n",
       "      <td>27.2</td>\n",
       "      <td>2021-11-30</td>\n",
       "      <td>NaN</td>\n",
       "      <td>NaN</td>\n",
       "    </tr>\n",
       "    <tr>\n",
       "      <th>11</th>\n",
       "      <td>서울</td>\n",
       "      <td>2021-12</td>\n",
       "      <td>7.9</td>\n",
       "      <td>2.8</td>\n",
       "      <td>2021-12-18</td>\n",
       "      <td>NaN</td>\n",
       "      <td>NaN</td>\n",
       "    </tr>\n",
       "  </tbody>\n",
       "</table>\n",
       "</div>"
      ],
      "text/plain": [
       "   지점명       일시  강수량(mm)  일최다강수량(mm)    일최다강수량일자  1시간최다강수량(mm)  1시간최다강수량일자\n",
       "0   서울  2021-01     18.9         9.2  2021-01-21           NaN         NaN\n",
       "1   서울  2021-02      7.1         3.4  2021-02-03           NaN         NaN\n",
       "2   서울  2021-03    110.9        67.5  2021-03-01           NaN         NaN\n",
       "3   서울  2021-04    124.1        56.2  2021-04-03          11.5  2021-04-03\n",
       "4   서울  2021-05    183.1        66.9  2021-05-16          11.3  2021-05-30\n",
       "5   서울  2021-06    104.6        38.2  2021-06-27          37.7  2021-06-27\n",
       "6   서울  2021-07    168.3        67.4  2021-07-19          65.7  2021-07-19\n",
       "7   서울  2021-08    211.2        77.4  2021-08-31          27.9  2021-08-21\n",
       "8   서울  2021-09    131.0        68.1  2021-09-21          27.1  2021-09-21\n",
       "9   서울  2021-10     57.0        14.2  2021-10-10          12.7  2021-10-01\n",
       "10  서울  2021-11     62.4        27.2  2021-11-30           NaN         NaN\n",
       "11  서울  2021-12      7.9         2.8  2021-12-18           NaN         NaN"
      ]
     },
     "execution_count": 10,
     "metadata": {},
     "output_type": "execute_result"
    }
   ],
   "source": [
    "seoul_w = pd.read_csv('./minidata/21서울월별강수량.csv', encoding='euc-kr', skiprows = 12)\n",
    "seoul_w = seoul_w.drop(['\\t지점번호','Unnamed: 8'], axis=1)\n",
    "seoul_w"
   ]
  },
  {
   "cell_type": "code",
   "execution_count": 11,
   "id": "b838ca93",
   "metadata": {},
   "outputs": [
    {
     "data": {
      "text/html": [
       "<div>\n",
       "<style scoped>\n",
       "    .dataframe tbody tr th:only-of-type {\n",
       "        vertical-align: middle;\n",
       "    }\n",
       "\n",
       "    .dataframe tbody tr th {\n",
       "        vertical-align: top;\n",
       "    }\n",
       "\n",
       "    .dataframe thead th {\n",
       "        text-align: right;\n",
       "    }\n",
       "</style>\n",
       "<table border=\"1\" class=\"dataframe\">\n",
       "  <thead>\n",
       "    <tr style=\"text-align: right;\">\n",
       "      <th></th>\n",
       "      <th>지점명</th>\n",
       "      <th>일시</th>\n",
       "      <th>강수량(mm)</th>\n",
       "      <th>일최다강수량(mm)</th>\n",
       "      <th>일최다강수량일자</th>\n",
       "      <th>1시간최다강수량(mm)</th>\n",
       "      <th>1시간최다강수량일자</th>\n",
       "      <th>사고건수</th>\n",
       "    </tr>\n",
       "  </thead>\n",
       "  <tbody>\n",
       "    <tr>\n",
       "      <th>0</th>\n",
       "      <td>서울</td>\n",
       "      <td>2021-01</td>\n",
       "      <td>18.9</td>\n",
       "      <td>9.2</td>\n",
       "      <td>2021-01-21</td>\n",
       "      <td>NaN</td>\n",
       "      <td>NaN</td>\n",
       "      <td>290</td>\n",
       "    </tr>\n",
       "    <tr>\n",
       "      <th>1</th>\n",
       "      <td>서울</td>\n",
       "      <td>2021-02</td>\n",
       "      <td>7.1</td>\n",
       "      <td>3.4</td>\n",
       "      <td>2021-02-03</td>\n",
       "      <td>NaN</td>\n",
       "      <td>NaN</td>\n",
       "      <td>241</td>\n",
       "    </tr>\n",
       "    <tr>\n",
       "      <th>2</th>\n",
       "      <td>서울</td>\n",
       "      <td>2021-03</td>\n",
       "      <td>110.9</td>\n",
       "      <td>67.5</td>\n",
       "      <td>2021-03-01</td>\n",
       "      <td>NaN</td>\n",
       "      <td>NaN</td>\n",
       "      <td>282</td>\n",
       "    </tr>\n",
       "    <tr>\n",
       "      <th>3</th>\n",
       "      <td>서울</td>\n",
       "      <td>2021-04</td>\n",
       "      <td>124.1</td>\n",
       "      <td>56.2</td>\n",
       "      <td>2021-04-03</td>\n",
       "      <td>11.5</td>\n",
       "      <td>2021-04-03</td>\n",
       "      <td>362</td>\n",
       "    </tr>\n",
       "    <tr>\n",
       "      <th>4</th>\n",
       "      <td>서울</td>\n",
       "      <td>2021-05</td>\n",
       "      <td>183.1</td>\n",
       "      <td>66.9</td>\n",
       "      <td>2021-05-16</td>\n",
       "      <td>11.3</td>\n",
       "      <td>2021-05-30</td>\n",
       "      <td>347</td>\n",
       "    </tr>\n",
       "    <tr>\n",
       "      <th>5</th>\n",
       "      <td>서울</td>\n",
       "      <td>2021-06</td>\n",
       "      <td>104.6</td>\n",
       "      <td>38.2</td>\n",
       "      <td>2021-06-27</td>\n",
       "      <td>37.7</td>\n",
       "      <td>2021-06-27</td>\n",
       "      <td>383</td>\n",
       "    </tr>\n",
       "    <tr>\n",
       "      <th>6</th>\n",
       "      <td>서울</td>\n",
       "      <td>2021-07</td>\n",
       "      <td>168.3</td>\n",
       "      <td>67.4</td>\n",
       "      <td>2021-07-19</td>\n",
       "      <td>65.7</td>\n",
       "      <td>2021-07-19</td>\n",
       "      <td>422</td>\n",
       "    </tr>\n",
       "    <tr>\n",
       "      <th>7</th>\n",
       "      <td>서울</td>\n",
       "      <td>2021-08</td>\n",
       "      <td>211.2</td>\n",
       "      <td>77.4</td>\n",
       "      <td>2021-08-31</td>\n",
       "      <td>27.9</td>\n",
       "      <td>2021-08-21</td>\n",
       "      <td>368</td>\n",
       "    </tr>\n",
       "    <tr>\n",
       "      <th>8</th>\n",
       "      <td>서울</td>\n",
       "      <td>2021-09</td>\n",
       "      <td>131.0</td>\n",
       "      <td>68.1</td>\n",
       "      <td>2021-09-21</td>\n",
       "      <td>27.1</td>\n",
       "      <td>2021-09-21</td>\n",
       "      <td>342</td>\n",
       "    </tr>\n",
       "    <tr>\n",
       "      <th>9</th>\n",
       "      <td>서울</td>\n",
       "      <td>2021-10</td>\n",
       "      <td>57.0</td>\n",
       "      <td>14.2</td>\n",
       "      <td>2021-10-10</td>\n",
       "      <td>12.7</td>\n",
       "      <td>2021-10-01</td>\n",
       "      <td>356</td>\n",
       "    </tr>\n",
       "    <tr>\n",
       "      <th>10</th>\n",
       "      <td>서울</td>\n",
       "      <td>2021-11</td>\n",
       "      <td>62.4</td>\n",
       "      <td>27.2</td>\n",
       "      <td>2021-11-30</td>\n",
       "      <td>NaN</td>\n",
       "      <td>NaN</td>\n",
       "      <td>290</td>\n",
       "    </tr>\n",
       "    <tr>\n",
       "      <th>11</th>\n",
       "      <td>서울</td>\n",
       "      <td>2021-12</td>\n",
       "      <td>7.9</td>\n",
       "      <td>2.8</td>\n",
       "      <td>2021-12-18</td>\n",
       "      <td>NaN</td>\n",
       "      <td>NaN</td>\n",
       "      <td>352</td>\n",
       "    </tr>\n",
       "  </tbody>\n",
       "</table>\n",
       "</div>"
      ],
      "text/plain": [
       "   지점명       일시  강수량(mm)  일최다강수량(mm)    일최다강수량일자  1시간최다강수량(mm)  1시간최다강수량일자  \\\n",
       "0   서울  2021-01     18.9         9.2  2021-01-21           NaN         NaN   \n",
       "1   서울  2021-02      7.1         3.4  2021-02-03           NaN         NaN   \n",
       "2   서울  2021-03    110.9        67.5  2021-03-01           NaN         NaN   \n",
       "3   서울  2021-04    124.1        56.2  2021-04-03          11.5  2021-04-03   \n",
       "4   서울  2021-05    183.1        66.9  2021-05-16          11.3  2021-05-30   \n",
       "5   서울  2021-06    104.6        38.2  2021-06-27          37.7  2021-06-27   \n",
       "6   서울  2021-07    168.3        67.4  2021-07-19          65.7  2021-07-19   \n",
       "7   서울  2021-08    211.2        77.4  2021-08-31          27.9  2021-08-21   \n",
       "8   서울  2021-09    131.0        68.1  2021-09-21          27.1  2021-09-21   \n",
       "9   서울  2021-10     57.0        14.2  2021-10-10          12.7  2021-10-01   \n",
       "10  서울  2021-11     62.4        27.2  2021-11-30           NaN         NaN   \n",
       "11  서울  2021-12      7.9         2.8  2021-12-18           NaN         NaN   \n",
       "\n",
       "   사고건수  \n",
       "0   290  \n",
       "1   241  \n",
       "2   282  \n",
       "3   362  \n",
       "4   347  \n",
       "5   383  \n",
       "6   422  \n",
       "7   368  \n",
       "8   342  \n",
       "9   356  \n",
       "10  290  \n",
       "11  352  "
      ]
     },
     "execution_count": 11,
     "metadata": {},
     "output_type": "execute_result"
    }
   ],
   "source": [
    "seoul = pd.concat([seoul_w, seoul_ac], axis=1)\n",
    "seoul"
   ]
  },
  {
   "cell_type": "code",
   "execution_count": 12,
   "id": "989e8ca1",
   "metadata": {},
   "outputs": [],
   "source": [
    "seoul = seoul[['일시','강수량(mm)','사고건수']]"
   ]
  },
  {
   "cell_type": "code",
   "execution_count": 13,
   "id": "f9ff4d82",
   "metadata": {},
   "outputs": [
    {
     "data": {
      "text/html": [
       "<div>\n",
       "<style scoped>\n",
       "    .dataframe tbody tr th:only-of-type {\n",
       "        vertical-align: middle;\n",
       "    }\n",
       "\n",
       "    .dataframe tbody tr th {\n",
       "        vertical-align: top;\n",
       "    }\n",
       "\n",
       "    .dataframe thead th {\n",
       "        text-align: right;\n",
       "    }\n",
       "</style>\n",
       "<table border=\"1\" class=\"dataframe\">\n",
       "  <thead>\n",
       "    <tr style=\"text-align: right;\">\n",
       "      <th></th>\n",
       "      <th>일시</th>\n",
       "      <th>강수량(mm)</th>\n",
       "      <th>사고건수</th>\n",
       "    </tr>\n",
       "  </thead>\n",
       "  <tbody>\n",
       "    <tr>\n",
       "      <th>0</th>\n",
       "      <td>2021-01</td>\n",
       "      <td>18.9</td>\n",
       "      <td>290</td>\n",
       "    </tr>\n",
       "    <tr>\n",
       "      <th>1</th>\n",
       "      <td>2021-02</td>\n",
       "      <td>7.1</td>\n",
       "      <td>241</td>\n",
       "    </tr>\n",
       "    <tr>\n",
       "      <th>2</th>\n",
       "      <td>2021-03</td>\n",
       "      <td>110.9</td>\n",
       "      <td>282</td>\n",
       "    </tr>\n",
       "    <tr>\n",
       "      <th>3</th>\n",
       "      <td>2021-04</td>\n",
       "      <td>124.1</td>\n",
       "      <td>362</td>\n",
       "    </tr>\n",
       "    <tr>\n",
       "      <th>4</th>\n",
       "      <td>2021-05</td>\n",
       "      <td>183.1</td>\n",
       "      <td>347</td>\n",
       "    </tr>\n",
       "    <tr>\n",
       "      <th>5</th>\n",
       "      <td>2021-06</td>\n",
       "      <td>104.6</td>\n",
       "      <td>383</td>\n",
       "    </tr>\n",
       "    <tr>\n",
       "      <th>6</th>\n",
       "      <td>2021-07</td>\n",
       "      <td>168.3</td>\n",
       "      <td>422</td>\n",
       "    </tr>\n",
       "    <tr>\n",
       "      <th>7</th>\n",
       "      <td>2021-08</td>\n",
       "      <td>211.2</td>\n",
       "      <td>368</td>\n",
       "    </tr>\n",
       "    <tr>\n",
       "      <th>8</th>\n",
       "      <td>2021-09</td>\n",
       "      <td>131.0</td>\n",
       "      <td>342</td>\n",
       "    </tr>\n",
       "    <tr>\n",
       "      <th>9</th>\n",
       "      <td>2021-10</td>\n",
       "      <td>57.0</td>\n",
       "      <td>356</td>\n",
       "    </tr>\n",
       "    <tr>\n",
       "      <th>10</th>\n",
       "      <td>2021-11</td>\n",
       "      <td>62.4</td>\n",
       "      <td>290</td>\n",
       "    </tr>\n",
       "    <tr>\n",
       "      <th>11</th>\n",
       "      <td>2021-12</td>\n",
       "      <td>7.9</td>\n",
       "      <td>352</td>\n",
       "    </tr>\n",
       "  </tbody>\n",
       "</table>\n",
       "</div>"
      ],
      "text/plain": [
       "         일시  강수량(mm) 사고건수\n",
       "0   2021-01     18.9  290\n",
       "1   2021-02      7.1  241\n",
       "2   2021-03    110.9  282\n",
       "3   2021-04    124.1  362\n",
       "4   2021-05    183.1  347\n",
       "5   2021-06    104.6  383\n",
       "6   2021-07    168.3  422\n",
       "7   2021-08    211.2  368\n",
       "8   2021-09    131.0  342\n",
       "9   2021-10     57.0  356\n",
       "10  2021-11     62.4  290\n",
       "11  2021-12      7.9  352"
      ]
     },
     "execution_count": 13,
     "metadata": {},
     "output_type": "execute_result"
    }
   ],
   "source": [
    "seoul"
   ]
  },
  {
   "cell_type": "code",
   "execution_count": 27,
   "id": "8a7f0e2c",
   "metadata": {
    "scrolled": true
   },
   "outputs": [
    {
     "name": "stderr",
     "output_type": "stream",
     "text": [
      "C:\\Users\\admin\\AppData\\Local\\Temp\\ipykernel_14544\\3923190359.py:1: SettingWithCopyWarning: \n",
      "A value is trying to be set on a copy of a slice from a DataFrame.\n",
      "Try using .loc[row_indexer,col_indexer] = value instead\n",
      "\n",
      "See the caveats in the documentation: https://pandas.pydata.org/pandas-docs/stable/user_guide/indexing.html#returning-a-view-versus-a-copy\n",
      "  seoul['사고건수'] = seoul['사고건수'].astype(int)\n"
     ]
    }
   ],
   "source": [
    "seoul['사고건수'] = seoul['사고건수'].astype(int)"
   ]
  },
  {
   "cell_type": "code",
   "execution_count": 28,
   "id": "4a93027e",
   "metadata": {},
   "outputs": [
    {
     "name": "stdout",
     "output_type": "stream",
     "text": [
      "<class 'pandas.core.frame.DataFrame'>\n",
      "RangeIndex: 12 entries, 0 to 11\n",
      "Data columns (total 3 columns):\n",
      " #   Column   Non-Null Count  Dtype  \n",
      "---  ------   --------------  -----  \n",
      " 0   일시       12 non-null     object \n",
      " 1   강수량(mm)  12 non-null     float64\n",
      " 2   사고건수     12 non-null     int32  \n",
      "dtypes: float64(1), int32(1), object(1)\n",
      "memory usage: 368.0+ bytes\n"
     ]
    }
   ],
   "source": [
    "seoul.info()"
   ]
  },
  {
   "cell_type": "code",
   "execution_count": 15,
   "id": "4074e2a8",
   "metadata": {},
   "outputs": [],
   "source": [
    "import seaborn as sns\n",
    "import matplotlib.pyplot as plt\n",
    "import numpy as np"
   ]
  },
  {
   "cell_type": "code",
   "execution_count": 17,
   "id": "4be7d526",
   "metadata": {
    "scrolled": false
   },
   "outputs": [
    {
     "data": {
      "text/plain": [
       "<seaborn.axisgrid.PairGrid at 0x2b73b6196a0>"
      ]
     },
     "execution_count": 17,
     "metadata": {},
     "output_type": "execute_result"
    },
    {
     "data": {
      "image/png": "[encoded data removed]",
      "text/plain": [
       "<Figure size 360x360 with 6 Axes>"
      ]
     },
     "metadata": {
      "needs_background": "light"
     },
     "output_type": "display_data"
    }
   ],
   "source": [
    "plt.rc('font', family = 'Malgun Gothic', size = 10)\n",
    "sns.pairplot(seoul)"
   ]
  },
  {
   "cell_type": "code",
   "execution_count": 77,
   "id": "6759a653",
   "metadata": {},
   "outputs": [
    {
     "data": {
      "image/png": "[encoded data removed]",
      "text/plain": [
       "<Figure size 720x648 with 2 Axes>"
      ]
     },
     "metadata": {
      "needs_background": "light"
     },
     "output_type": "display_data"
    }
   ],
   "source": [
    "fig, ax = plt.subplots(1,1, figsize=(10,9))\n",
    "\n",
    "mask = np.zeros_like(seoul.corr())\n",
    "mask[np.triu_indices_from(mask)] = True\n",
    "\n",
    "sns.heatmap(seoul.corr(), annot=True, cmap='YlGnBu', linewidth=0.1, mask=mask)\n",
    "plt.show()"
   ]
  },
  {
   "cell_type": "code",
   "execution_count": 61,
   "id": "2f3316ab",
   "metadata": {},
   "outputs": [
    {
     "data": {
      "text/html": [
       "<div>\n",
       "<style scoped>\n",
       "    .dataframe tbody tr th:only-of-type {\n",
       "        vertical-align: middle;\n",
       "    }\n",
       "\n",
       "    .dataframe tbody tr th {\n",
       "        vertical-align: top;\n",
       "    }\n",
       "\n",
       "    .dataframe thead th {\n",
       "        text-align: right;\n",
       "    }\n",
       "</style>\n",
       "<table border=\"1\" class=\"dataframe\">\n",
       "  <thead>\n",
       "    <tr style=\"text-align: right;\">\n",
       "      <th></th>\n",
       "      <th>강수량</th>\n",
       "      <th>사고건수</th>\n",
       "    </tr>\n",
       "  </thead>\n",
       "  <tbody>\n",
       "    <tr>\n",
       "      <th>0</th>\n",
       "      <td>18.9</td>\n",
       "      <td>290</td>\n",
       "    </tr>\n",
       "    <tr>\n",
       "      <th>1</th>\n",
       "      <td>7.1</td>\n",
       "      <td>241</td>\n",
       "    </tr>\n",
       "    <tr>\n",
       "      <th>2</th>\n",
       "      <td>110.9</td>\n",
       "      <td>282</td>\n",
       "    </tr>\n",
       "    <tr>\n",
       "      <th>3</th>\n",
       "      <td>124.1</td>\n",
       "      <td>362</td>\n",
       "    </tr>\n",
       "    <tr>\n",
       "      <th>4</th>\n",
       "      <td>183.1</td>\n",
       "      <td>347</td>\n",
       "    </tr>\n",
       "    <tr>\n",
       "      <th>5</th>\n",
       "      <td>104.6</td>\n",
       "      <td>383</td>\n",
       "    </tr>\n",
       "    <tr>\n",
       "      <th>6</th>\n",
       "      <td>168.3</td>\n",
       "      <td>422</td>\n",
       "    </tr>\n",
       "    <tr>\n",
       "      <th>7</th>\n",
       "      <td>211.2</td>\n",
       "      <td>368</td>\n",
       "    </tr>\n",
       "    <tr>\n",
       "      <th>8</th>\n",
       "      <td>131.0</td>\n",
       "      <td>342</td>\n",
       "    </tr>\n",
       "    <tr>\n",
       "      <th>9</th>\n",
       "      <td>57.0</td>\n",
       "      <td>356</td>\n",
       "    </tr>\n",
       "    <tr>\n",
       "      <th>10</th>\n",
       "      <td>62.4</td>\n",
       "      <td>290</td>\n",
       "    </tr>\n",
       "    <tr>\n",
       "      <th>11</th>\n",
       "      <td>7.9</td>\n",
       "      <td>352</td>\n",
       "    </tr>\n",
       "  </tbody>\n",
       "</table>\n",
       "</div>"
      ],
      "text/plain": [
       "      강수량  사고건수\n",
       "0    18.9   290\n",
       "1     7.1   241\n",
       "2   110.9   282\n",
       "3   124.1   362\n",
       "4   183.1   347\n",
       "5   104.6   383\n",
       "6   168.3   422\n",
       "7   211.2   368\n",
       "8   131.0   342\n",
       "9    57.0   356\n",
       "10   62.4   290\n",
       "11    7.9   352"
      ]
     },
     "execution_count": 61,
     "metadata": {},
     "output_type": "execute_result"
    }
   ],
   "source": [
    "s = seoul[['강수량(mm)','사고건수']]\n",
    "s= s.rename(columns={'강수량(mm)':'강수량'})\n",
    "s"
   ]
  },
  {
   "cell_type": "markdown",
   "id": "0adf4228",
   "metadata": {},
   "source": [
    "### 그래프 그리기"
   ]
  },
  {
   "cell_type": "code",
   "execution_count": 57,
   "id": "e5f6c849",
   "metadata": {
    "scrolled": false
   },
   "outputs": [
    {
     "data": {
      "text/plain": [
       "<matplotlib.legend.Legend at 0x2b742f61100>"
      ]
     },
     "execution_count": 57,
     "metadata": {},
     "output_type": "execute_result"
    },
    {
     "data": {
      "image/png": "[encoded data removed]",
      "text/plain": [
       "<Figure size 432x288 with 1 Axes>"
      ]
     },
     "metadata": {
      "needs_background": "light"
     },
     "output_type": "display_data"
    }
   ],
   "source": [
    "plt.rc('font', family = 'Malgun Gothic', size = 10)\n",
    "plt.plot(s['강수량'],marker='o', ls='-',  \n",
    "         lw=2, ms=2, mec='r',mew=2, mfc='r', label='강수량')\n",
    "\n",
    "plt.plot(s['사고건수'],marker='o', ls='-',  \n",
    "         lw=2, ms=2, mec='b',mew=2, mfc='b', label='사고건수')\n",
    "plt.title('2021년 서울 사고건수 및 강수량', fontsize=15)\n",
    "\n",
    "plt.legend()"
   ]
  },
  {
   "cell_type": "markdown",
   "id": "213be309",
   "metadata": {},
   "source": [
    "### 검정"
   ]
  },
  {
   "cell_type": "code",
   "execution_count": 19,
   "id": "8a5ac591",
   "metadata": {},
   "outputs": [],
   "source": [
    "import scipy.stats as stats"
   ]
  },
  {
   "cell_type": "code",
   "execution_count": 23,
   "id": "b29c96ab",
   "metadata": {
    "scrolled": true
   },
   "outputs": [
    {
     "name": "stdout",
     "output_type": "stream",
     "text": [
      "검정 결과 = Ttest_relResult(statistic=-14.50293336477923, pvalue=1.624078355537696e-08)\n",
      "검정 통계량 = -14.503, p-value = 0.000\n"
     ]
    }
   ],
   "source": [
    "# 2021년 서울 강수량과 이륜차교통사고 검정\n",
    "result = stats.ttest_rel(seoul['강수량(mm)'], seoul['사고건수'])\n",
    "print('검정 결과 =', result)\n",
    "print('검정 통계량 = %.3f, p-value = %.3f' %(result))"
   ]
  },
  {
   "cell_type": "markdown",
   "id": "f8d33548",
   "metadata": {},
   "source": [
    "### 단순회귀(사용x)"
   ]
  },
  {
   "cell_type": "code",
   "execution_count": 25,
   "id": "38146841",
   "metadata": {},
   "outputs": [],
   "source": [
    "# 단순선형회귀분석"
   ]
  },
  {
   "cell_type": "code",
   "execution_count": 29,
   "id": "f15ffae1",
   "metadata": {
    "scrolled": false
   },
   "outputs": [
    {
     "data": {
      "text/html": [
       "<div>\n",
       "<style scoped>\n",
       "    .dataframe tbody tr th:only-of-type {\n",
       "        vertical-align: middle;\n",
       "    }\n",
       "\n",
       "    .dataframe tbody tr th {\n",
       "        vertical-align: top;\n",
       "    }\n",
       "\n",
       "    .dataframe thead th {\n",
       "        text-align: right;\n",
       "    }\n",
       "</style>\n",
       "<table border=\"1\" class=\"dataframe\">\n",
       "  <thead>\n",
       "    <tr style=\"text-align: right;\">\n",
       "      <th></th>\n",
       "      <th>강수량(mm)</th>\n",
       "      <th>사고건수</th>\n",
       "    </tr>\n",
       "  </thead>\n",
       "  <tbody>\n",
       "    <tr>\n",
       "      <th>강수량(mm)</th>\n",
       "      <td>1.000000</td>\n",
       "      <td>0.589795</td>\n",
       "    </tr>\n",
       "    <tr>\n",
       "      <th>사고건수</th>\n",
       "      <td>0.589795</td>\n",
       "      <td>1.000000</td>\n",
       "    </tr>\n",
       "  </tbody>\n",
       "</table>\n",
       "</div>"
      ],
      "text/plain": [
       "          강수량(mm)      사고건수\n",
       "강수량(mm)  1.000000  0.589795\n",
       "사고건수     0.589795  1.000000"
      ]
     },
     "execution_count": 29,
     "metadata": {},
     "output_type": "execute_result"
    }
   ],
   "source": [
    "seoul.corr()"
   ]
  },
  {
   "cell_type": "code",
   "execution_count": 59,
   "id": "ddcc9eb8",
   "metadata": {},
   "outputs": [],
   "source": [
    "### 라이브러리 불러오기\n",
    "import pandas as pd\n",
    "import numpy as np\n",
    "import matplotlib.pyplot as plt\n",
    "\n",
    "plt.rc('font', family='Malgun Gothic')"
   ]
  },
  {
   "cell_type": "code",
   "execution_count": 62,
   "id": "3a913919",
   "metadata": {},
   "outputs": [
    {
     "name": "stdout",
     "output_type": "stream",
     "text": [
      "12 \n",
      "      강수량  사고건수\n",
      "0   18.9   290\n",
      "1    7.1   241\n",
      "2  110.9   282 \n",
      "               강수량        사고건수\n",
      "count   12.000000   12.000000\n",
      "mean    98.875000  336.250000\n",
      "std     69.121318   50.713321\n",
      "min      7.100000  241.000000\n",
      "25%     47.475000  290.000000\n",
      "50%    107.750000  349.500000\n",
      "75%    140.325000  363.500000\n",
      "max    211.200000  422.000000\n"
     ]
    }
   ],
   "source": [
    "print(len(s), \"\\n\", s.head(3), '\\n', s.describe())"
   ]
  },
  {
   "cell_type": "code",
   "execution_count": 64,
   "id": "df72cd58",
   "metadata": {},
   "outputs": [
    {
     "name": "stdout",
     "output_type": "stream",
     "text": [
      "           강수량      사고건수\n",
      "강수량   1.000000  0.589795\n",
      "사고건수  0.589795  1.000000\n"
     ]
    }
   ],
   "source": [
    "print(s.corr())"
   ]
  },
  {
   "cell_type": "code",
   "execution_count": 63,
   "id": "d62915dc",
   "metadata": {},
   "outputs": [],
   "source": [
    "# 모델 생성에 사용할 라이브러리 불러들이기\n",
    "import statsmodels.formula.api as smf"
   ]
  },
  {
   "cell_type": "code",
   "execution_count": 69,
   "id": "5fc31f05",
   "metadata": {},
   "outputs": [
    {
     "name": "stdout",
     "output_type": "stream",
     "text": [
      "model = \n",
      " <statsmodels.regression.linear_model.RegressionResultsWrapper object at 0x000002B7430A6820>\n",
      "---------------------------\n",
      "학습모델 결과 = \n",
      "                             OLS Regression Results                            \n",
      "==============================================================================\n",
      "Dep. Variable:                   사고건수   R-squared:                       0.348\n",
      "Model:                            OLS   Adj. R-squared:                  0.283\n",
      "Method:                 Least Squares   F-statistic:                     5.334\n",
      "Date:                Wed, 27 Jul 2022   Prob (F-statistic):             0.0435\n",
      "Time:                        10:14:28   Log-Likelihood:                -61.054\n",
      "No. Observations:                  12   AIC:                             126.1\n",
      "Df Residuals:                      10   BIC:                             127.1\n",
      "Df Model:                           1                                         \n",
      "Covariance Type:            nonrobust                                         \n",
      "==============================================================================\n",
      "                 coef    std err          t      P>|t|      [0.025      0.975]\n",
      "------------------------------------------------------------------------------\n",
      "Intercept    293.4644     22.292     13.165      0.000     243.795     343.134\n",
      "강수량            0.4327      0.187      2.310      0.044       0.015       0.850\n",
      "==============================================================================\n",
      "Omnibus:                        1.840   Durbin-Watson:                   1.820\n",
      "Prob(Omnibus):                  0.399   Jarque-Bera (JB):                0.855\n",
      "Skew:                           0.071   Prob(JB):                        0.652\n",
      "Kurtosis:                       1.700   Cond. No.                         214.\n",
      "==============================================================================\n",
      "\n",
      "Notes:\n",
      "[1] Standard Errors assume that the covariance matrix of the errors is correctly specified.\n",
      "-------------------------------\n",
      "y절편(b) = 293.46436628754407 / 기울기(a) = 0.43272448761017474\n",
      "-------------------------------\n",
      "결정계수(R-squared) =  0.3478586961627559\n",
      "-------------------------------\n"
     ]
    },
    {
     "name": "stderr",
     "output_type": "stream",
     "text": [
      "C:\\Users\\admin\\anaconda3\\lib\\site-packages\\scipy\\stats\\stats.py:1541: UserWarning: kurtosistest only valid for n>=20 ... continuing anyway, n=12\n",
      "  warnings.warn(\"kurtosistest only valid for n>=20 ... continuing \"\n"
     ]
    }
   ],
   "source": [
    "### 모델 객체 생성 및 학습모델 생성하기\n",
    "\n",
    "# 만족도와 상관관계가 높은 적절성 데이터를 사용하여\n",
    "#  - 종속변수(y) = 사고건수 사용\n",
    "#  - 독립변수(x) = 강수량 사용\n",
    "formulas = \"사고건수 ~ 강수량\"\n",
    "\n",
    "### 학습모델 생성하기\n",
    "model = smf.ols(formula = formulas, data=s).fit()\n",
    "print(\"model = \\n\", model)\n",
    "print(\"---------------------------\")\n",
    "\n",
    "### 학습모델 결과 확인하기 : summary()\n",
    "print(\"학습모델 결과 = \\n\", model.summary())\n",
    "print(\"-------------------------------\")\n",
    "\n",
    "# print(\"지수값을 실수값으로 표현 : 7.29e-15 = {:.9f}\".format(7.29e-15))\n",
    "# print(\"-------------------------------\")\n",
    "\n",
    "# - R-squared : 결정계수(1에 까가울 수록 학습모델이 좋은 것임)\n",
    "#   (결정계수는 예측을 얼마나 잘 할 수 있을까로 해설할 수도 있다.)\n",
    "# - Adj. R-squared : 수정결정계수(1에 까가울 수록 학습모델이 좋은 것임) : 0.588\n",
    "# - *** 독립변수가 많을 경우 R-squared과 Adj. R-squared의 차이가 클 경우 \n",
    "#       독립변수 [이상치를 확인]해야한다. ***\n",
    "\n",
    "# - 적절성의 p-value : 0.000 < 0.05 => 모델은 유효하다.\n",
    "# - 적절성의 std err(표준 오차) : 0.038\n",
    "# - 적절성의 Intercept(y절편) : 0.7789\n",
    "# - 적정성의 coef(기울기) : 0.7393\n",
    "# - 적정성의 Kurtosis : 4.012 => 일반적으로 3보다 클경우,\n",
    "#   평균에 데이터가 몰려있다고 판단한다.\n",
    "#   kurtosis() 첨도는 확률분포에서 분포의 [뾰족한 정도]를 나타내는 [척도]입니다. \n",
    "#   --> 첨도가 높은 경우: 데이터의 분포가 평균(혹은 중심)에 많이 몰려 있어 뾰족하다\n",
    "\n",
    "\n",
    "### 위 학습결과(summary())의 내용의 데이터 추출해 보기.....\n",
    "\n",
    "# y절편(b)과 기울기(a) 산출\n",
    "# 회귀식 y = a * x + b\n",
    "b, a = model.params\n",
    "print(\"y절편(b) = {} / 기울기(a) = {}\".format(b, a)) \n",
    "print(\"-------------------------------\")\n",
    "\n",
    "### 결정계수(R-squared)\n",
    "rsquared = model.rsquared\n",
    "print(\"결정계수(R-squared) = \", rsquared) \n",
    "print(\"-------------------------------\")\n",
    "\n",
    "# ### 유의수준(p-value)\n",
    "# print(\"유의수준(p-value) = {:.3f}\".format(model.pvalues[0]))\n",
    "\n",
    "# ### (해석)\n",
    "# # - 생성한 학습모델에 사용된 독립변수는\n",
    "# # - 유의수준 p-value는 0.000 < 0.05 으로 유의미 하다.\n",
    "# # - 결정계수(R-squared) 0.588 > 0.05  => 의미있는 학습모델\n",
    "# # - 하지만, 예측 시에 정확도가 다소 낮을 수 있다."
   ]
  },
  {
   "cell_type": "markdown",
   "id": "50cf9cf6",
   "metadata": {},
   "source": [
    "### 다항회귀분석(사용x)"
   ]
  },
  {
   "cell_type": "code",
   "execution_count": 70,
   "id": "7d552a05",
   "metadata": {},
   "outputs": [],
   "source": [
    "### 라이브러리 불러오기\n",
    "import numpy as np\n",
    "import matplotlib.pyplot as plt\n",
    "\n",
    "plt.rc('font', family='Malgun Gothic')"
   ]
  },
  {
   "cell_type": "code",
   "execution_count": 71,
   "id": "d01e9a51",
   "metadata": {
    "scrolled": true
   },
   "outputs": [
    {
     "data": {
      "image/png": "[encoded data removed]",
      "text/plain": [
       "<Figure size 432x288 with 1 Axes>"
      ]
     },
     "metadata": {
      "needs_background": "light"
     },
     "output_type": "display_data"
    }
   ],
   "source": [
    "### 데이터 생성하기\n",
    "\n",
    "x = np.array(s['강수량'])\n",
    "y = np.array(s['사고건수'])\n",
    "\n",
    "# 산점도 시각화\n",
    "plt.scatter(x, y) \n",
    "plt.show()\n",
    "\n",
    "### 산점도가 직선을 띄지않고 곡선을 띄고 있다."
   ]
  },
  {
   "cell_type": "code",
   "execution_count": 72,
   "id": "3ec3ac2e",
   "metadata": {},
   "outputs": [
    {
     "name": "stdout",
     "output_type": "stream",
     "text": [
      "x = \n",
      " [[ 18.9]\n",
      " [  7.1]\n",
      " [110.9]\n",
      " [124.1]\n",
      " [183.1]\n",
      " [104.6]\n",
      " [168.3]\n",
      " [211.2]\n",
      " [131. ]\n",
      " [ 57. ]\n",
      " [ 62.4]\n",
      " [  7.9]]\n",
      "-------------------------------\n"
     ]
    }
   ],
   "source": [
    "### 독립변수(x) 데이터를 메트릭스 형태로 변형하기\n",
    "#    - 향후 다항회귀로 변환시 차원 확대를 위해서..\n",
    "\n",
    "from sklearn.linear_model import LinearRegression\n",
    "\n",
    "# np.newaxis : 입력을 matrix로 변환\n",
    "x = x[:, np.newaxis] \n",
    "print(\"x = \\n\", x)\n",
    "print(\"-------------------------------\")"
   ]
  },
  {
   "cell_type": "code",
   "execution_count": 73,
   "id": "d8efe374",
   "metadata": {},
   "outputs": [
    {
     "name": "stdout",
     "output_type": "stream",
     "text": [
      "예측(테스트) 결과 =  [301.6428591  296.53671015 341.45351196 347.1654752  372.69621997\n",
      " 338.72734769 366.29189755 384.85577807 350.15127416 318.12966208\n",
      " 320.46637431 296.88288974]\n"
     ]
    },
    {
     "data": {
      "image/png": "[encoded data removed]",
      "text/plain": [
       "<Figure size 432x288 with 1 Axes>"
      ]
     },
     "metadata": {
      "needs_background": "light"
     },
     "output_type": "display_data"
    }
   ],
   "source": [
    "### 선형회귀 모델 생성하기\n",
    "\n",
    "# 선형회귀 학습모델 생성하기\n",
    "model = LinearRegression().fit(x, y) \n",
    "\n",
    "# 예측(테스트) 하기\n",
    "y_pred = model.predict(x)\n",
    "print(\"예측(테스트) 결과 = \", y_pred)\n",
    "# [2.  2.7 3.4 4.1 4.8]\n",
    "\n",
    "### 산점도 시각화\n",
    "plt.scatter(x, y) \n",
    "\n",
    "### 추세선 그래프 그리기\n",
    "plt.plot(x, y_pred, c='red') \n",
    "plt.show()"
   ]
  },
  {
   "cell_type": "code",
   "execution_count": 75,
   "id": "f3b9ca3f",
   "metadata": {},
   "outputs": [
    {
     "name": "stdout",
     "output_type": "stream",
     "text": [
      "poly =  PolynomialFeatures(degree=3, include_bias=False)\n",
      "x2= \n",
      " [[1.89000000e+01 3.57210000e+02 6.75126900e+03]\n",
      " [7.10000000e+00 5.04100000e+01 3.57911000e+02]\n",
      " [1.10900000e+02 1.22988100e+04 1.36393803e+06]\n",
      " [1.24100000e+02 1.54008100e+04 1.91124052e+06]\n",
      " [1.83100000e+02 3.35256100e+04 6.13853919e+06]\n",
      " [1.04600000e+02 1.09411600e+04 1.14444534e+06]\n",
      " [1.68300000e+02 2.83248900e+04 4.76707899e+06]\n",
      " [2.11200000e+02 4.46054400e+04 9.42066893e+06]\n",
      " [1.31000000e+02 1.71610000e+04 2.24809100e+06]\n",
      " [5.70000000e+01 3.24900000e+03 1.85193000e+05]\n",
      " [6.24000000e+01 3.89376000e+03 2.42970624e+05]\n",
      " [7.90000000e+00 6.24100000e+01 4.93039000e+02]]\n"
     ]
    }
   ],
   "source": [
    "### 다항식 특징을 추가하기\n",
    "\n",
    "from sklearn.preprocessing import PolynomialFeatures\n",
    "\n",
    "# PolynomialFeatures() : 2차항 적용을 위한 함수 \n",
    "#  - degree : 열 개수, \n",
    "#  - include_bias : 편향 (false = 고려안함)\n",
    "#  - 편향이란?\n",
    "#    : 예측값이 정답과 얼마나 다른가(차이가 있는가, 떨어져 있는가, \n",
    "#       멀게 있는가 등등) 를 표현한 것\n",
    "poly = PolynomialFeatures(degree=3, include_bias = False) \n",
    "print(\"poly = \", poly)\n",
    "\n",
    "### 특징 행렬 생성하기 : 다항으로 변환하기\n",
    "#  - fit_transform() : 독립변수(x)의 데이터를 2차항으로 변형\n",
    "x2 = poly.fit_transform(x) \n",
    "print(\"x2= \\n\", x2)"
   ]
  },
  {
   "cell_type": "code",
   "execution_count": 76,
   "id": "c01bcfae",
   "metadata": {},
   "outputs": [
    {
     "name": "stdout",
     "output_type": "stream",
     "text": [
      "model = \n",
      " LinearRegression()\n",
      "---------------------------\n",
      "기울기 =  [ 5.72891346e-02  6.09254157e-03 -2.21699041e-05]\n",
      "-------------------------------\n",
      "y절편 =  295.0165517307728\n",
      "-------------------------------\n",
      "예측값(y_pred2) = \n",
      " [298.12595816 295.72249475 346.06255264 353.5841894  373.6715396\n",
      " 342.29622399 371.54319884 370.02118756 357.23557236 313.97098892\n",
      " 316.92765297 295.83844079]\n",
      "-------------------------------\n",
      "실제값(y) = \n",
      " [290 241 282 362 347 383 422 368 342 356 290 352]\n",
      "-------------------------------\n",
      "결정계수(R-squared) =  0.36263054582461385\n",
      "-------------------------------\n"
     ]
    },
    {
     "data": {
      "image/png": "[encoded data removed]",
      "text/plain": [
       "<Figure size 432x288 with 1 Axes>"
      ]
     },
     "metadata": {
      "needs_background": "light"
     },
     "output_type": "display_data"
    }
   ],
   "source": [
    "### 다항으로 변환된 독립변수(x2)의 값 사용을 위한 \n",
    "### 선형회귀 모델 생성하기\n",
    "\n",
    "# 선형회귀분석에서 결정계수 확인을 위한 라이브러리\n",
    "from sklearn.metrics import r2_score\n",
    "\n",
    "# 선형회귀 학습모델 생성 : 다항 독립변수(x2)를 사용\n",
    "model2 = LinearRegression().fit(x2, y) \n",
    "\n",
    "print(\"model = \\n\", model2)\n",
    "print(\"---------------------------\")\n",
    "\n",
    "# 기울기 \n",
    "print(\"기울기 = \", model2.coef_)   \n",
    "print(\"-------------------------------\")\n",
    "\n",
    "# y절편\n",
    "print(\"y절편 = \", model2.intercept_) \n",
    "print(\"-------------------------------\")\n",
    "\n",
    "# 예측(테스트) 하기..\n",
    "y_pred2 = model2.predict(x2)\n",
    "\n",
    "### 결과 확인해 보기\n",
    "print(\"예측값(y_pred2) = \\n\", y_pred2)\n",
    "print(\"-------------------------------\")\n",
    "\n",
    "print(\"실제값(y) = \\n\", y)\n",
    "print(\"-------------------------------\")\n",
    "\n",
    "# 결정계수(R-squared)\n",
    "print(\"결정계수(R-squared) = \", r2_score(y, y_pred2))   \n",
    "print(\"-------------------------------\")\n",
    "\n",
    "### 다항 회귀 시각화 하기\n",
    "# 산점도 표시\n",
    "plt.scatter(x, y)\n",
    "\n",
    "# 다항회귀모델 예측결과 값을 이용한 추세선 그래프\n",
    "plt.plot(x, y_pred2, c='red') \n",
    "plt.show()\n",
    "\n",
    "### (해석)\n",
    "# - 실제 독립변수(x)의 곡선의 분포에 맞게\n",
    "# - 다항회귀분석 예측 결과 추세선이 잘 그려졌음\n",
    "# - 결정계수(R-squared)의 값이 [0.994]로 \n",
    "#   예측 결과가 매우 정확한 모델로 확인됨"
   ]
  },
  {
   "cell_type": "code",
   "execution_count": null,
   "id": "5dc4273e",
   "metadata": {},
   "outputs": [],
   "source": []
  },
  {
   "cell_type": "code",
   "execution_count": null,
   "id": "33b4e9c8",
   "metadata": {},
   "outputs": [],
   "source": []
  }
 ],
 "metadata": {
  "kernelspec": {
   "display_name": "Python 3 (ipykernel)",
   "language": "python",
   "name": "python3"
  },
  "language_info": {
   "codemirror_mode": {
    "name": "ipython",
    "version": 3
   },
   "file_extension": ".py",
   "mimetype": "text/x-python",
   "name": "python",
   "nbconvert_exporter": "python",
   "pygments_lexer": "ipython3",
   "version": "3.9.12"
  }
 },
 "nbformat": 4,
 "nbformat_minor": 5
}
