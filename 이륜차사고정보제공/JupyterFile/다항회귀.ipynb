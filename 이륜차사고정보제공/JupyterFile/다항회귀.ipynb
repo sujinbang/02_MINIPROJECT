{
 "cells": [
  {
   "cell_type": "markdown",
   "id": "54cd65cc-8d23-421d-b58c-ae7ce5f760a4",
   "metadata": {
    "tags": []
   },
   "source": [
    "# 월별 사고건수"
   ]
  },
  {
   "cell_type": "code",
   "execution_count": 45,
   "id": "94d0af53-18d2-4b00-b5ae-90b3c1422a07",
   "metadata": {},
   "outputs": [],
   "source": [
    "import pandas as pd\n",
    "import numpy as np\n",
    "import matplotlib.pyplot as plt"
   ]
  },
  {
   "cell_type": "code",
   "execution_count": 46,
   "id": "d80acbb3-cc0b-4aa6-aa34-989fc46ded43",
   "metadata": {},
   "outputs": [
    {
     "name": "stdout",
     "output_type": "stream",
     "text": [
      "<class 'pandas.core.frame.DataFrame'>\n",
      "RangeIndex: 48 entries, 0 to 47\n",
      "Data columns (total 1 columns):\n",
      " #   Column      Non-Null Count  Dtype \n",
      "---  ------      --------------  ----- \n",
      " 0   Unnamed: 1  48 non-null     object\n",
      "dtypes: object(1)\n",
      "memory usage: 512.0+ bytes\n"
     ]
    }
   ],
   "source": [
    "df_all = pd.DataFrame()\n",
    "for i in range(18, 22, 1):\n",
    "    df_file = pd.read_csv(f'./data/월별 교통사고(20{i}).csv', encoding='euc-kr')\n",
    "    df_all = pd.concat([df_all,df_file], axis=0)\n",
    "df_all = df_all[['Unnamed: 1']]\n",
    "df_all = df_all.reset_index(drop=True)\n",
    "df_all = df_all.dropna()\n",
    "df_all = df_all.drop(1)\n",
    "df_all = df_all.drop(15)\n",
    "df_all = df_all.drop(29)\n",
    "df_all = df_all.drop(43)\n",
    "# df_all.index = ['2018.01','2018.02','2018.03','2018.04','2018.05','2018.06','2018.07','2018.08','2018.09','2018.10','2018.11','2018.12','2019.01','2019.02','2019.03','2019.04','2019.05','2019.06','2019.07','2019.08','2019.09','2019.10','2019.11','2019.12','2020.01','2020.02','2020.03','2020.04','2020.05','2020.06','2020.07','2020.08','2020.09','2020.10','2020.11','2020.12','2021.01','2021.02','2021.03','2021.04','2021.05','2021.06','2021.07','2021.08','2021.09','2021.10','2021.11','2021.12']\n",
    "# df_all.index.astype(str)\n",
    "df_all = df_all.reset_index(drop=True)\n",
    "df_all.info()"
   ]
  },
  {
   "cell_type": "markdown",
   "id": "926ace64-318c-4e6e-8573-199f076fcdcb",
   "metadata": {},
   "source": [
    "# 월별 이륜차 사고건수"
   ]
  },
  {
   "cell_type": "code",
   "execution_count": 47,
   "id": "f72b86cf-6d25-4035-af09-6bfe0876b5a8",
   "metadata": {},
   "outputs": [
    {
     "data": {
      "text/html": [
       "<div>\n",
       "<style scoped>\n",
       "    .dataframe tbody tr th:only-of-type {\n",
       "        vertical-align: middle;\n",
       "    }\n",
       "\n",
       "    .dataframe tbody tr th {\n",
       "        vertical-align: top;\n",
       "    }\n",
       "\n",
       "    .dataframe thead th {\n",
       "        text-align: right;\n",
       "    }\n",
       "</style>\n",
       "<table border=\"1\" class=\"dataframe\">\n",
       "  <thead>\n",
       "    <tr style=\"text-align: right;\">\n",
       "      <th></th>\n",
       "      <th>월별(1)</th>\n",
       "      <th>2018</th>\n",
       "      <th>2019</th>\n",
       "      <th>2020</th>\n",
       "      <th>2021</th>\n",
       "    </tr>\n",
       "  </thead>\n",
       "  <tbody>\n",
       "    <tr>\n",
       "      <th>0</th>\n",
       "      <td>월별(1)</td>\n",
       "      <td>사고건수 (건)</td>\n",
       "      <td>사고건수 (건)</td>\n",
       "      <td>사고건수 (건)</td>\n",
       "      <td>사고건수 (건)</td>\n",
       "    </tr>\n",
       "    <tr>\n",
       "      <th>1</th>\n",
       "      <td>전체</td>\n",
       "      <td>15365</td>\n",
       "      <td>18785</td>\n",
       "      <td>18584</td>\n",
       "      <td>18624</td>\n",
       "    </tr>\n",
       "    <tr>\n",
       "      <th>2</th>\n",
       "      <td>1월</td>\n",
       "      <td>879</td>\n",
       "      <td>1132</td>\n",
       "      <td>1270</td>\n",
       "      <td>1139</td>\n",
       "    </tr>\n",
       "    <tr>\n",
       "      <th>3</th>\n",
       "      <td>2월</td>\n",
       "      <td>864</td>\n",
       "      <td>1061</td>\n",
       "      <td>1330</td>\n",
       "      <td>1184</td>\n",
       "    </tr>\n",
       "    <tr>\n",
       "      <th>4</th>\n",
       "      <td>3월</td>\n",
       "      <td>1168</td>\n",
       "      <td>1374</td>\n",
       "      <td>1314</td>\n",
       "      <td>1399</td>\n",
       "    </tr>\n",
       "    <tr>\n",
       "      <th>5</th>\n",
       "      <td>4월</td>\n",
       "      <td>1269</td>\n",
       "      <td>1578</td>\n",
       "      <td>1483</td>\n",
       "      <td>1618</td>\n",
       "    </tr>\n",
       "    <tr>\n",
       "      <th>6</th>\n",
       "      <td>5월</td>\n",
       "      <td>1310</td>\n",
       "      <td>1827</td>\n",
       "      <td>1603</td>\n",
       "      <td>1693</td>\n",
       "    </tr>\n",
       "    <tr>\n",
       "      <th>7</th>\n",
       "      <td>6월</td>\n",
       "      <td>1422</td>\n",
       "      <td>1686</td>\n",
       "      <td>1715</td>\n",
       "      <td>1699</td>\n",
       "    </tr>\n",
       "    <tr>\n",
       "      <th>8</th>\n",
       "      <td>7월</td>\n",
       "      <td>1448</td>\n",
       "      <td>1707</td>\n",
       "      <td>1588</td>\n",
       "      <td>1915</td>\n",
       "    </tr>\n",
       "    <tr>\n",
       "      <th>9</th>\n",
       "      <td>8월</td>\n",
       "      <td>1454</td>\n",
       "      <td>1792</td>\n",
       "      <td>1720</td>\n",
       "      <td>1744</td>\n",
       "    </tr>\n",
       "    <tr>\n",
       "      <th>10</th>\n",
       "      <td>9월</td>\n",
       "      <td>1396</td>\n",
       "      <td>1671</td>\n",
       "      <td>1671</td>\n",
       "      <td>1646</td>\n",
       "    </tr>\n",
       "    <tr>\n",
       "      <th>11</th>\n",
       "      <td>10월</td>\n",
       "      <td>1479</td>\n",
       "      <td>1731</td>\n",
       "      <td>1765</td>\n",
       "      <td>1710</td>\n",
       "    </tr>\n",
       "    <tr>\n",
       "      <th>12</th>\n",
       "      <td>11월</td>\n",
       "      <td>1438</td>\n",
       "      <td>1790</td>\n",
       "      <td>1596</td>\n",
       "      <td>1435</td>\n",
       "    </tr>\n",
       "    <tr>\n",
       "      <th>13</th>\n",
       "      <td>12월</td>\n",
       "      <td>1238</td>\n",
       "      <td>1436</td>\n",
       "      <td>1529</td>\n",
       "      <td>1442</td>\n",
       "    </tr>\n",
       "  </tbody>\n",
       "</table>\n",
       "</div>"
      ],
      "text/plain": [
       "    월별(1)      2018      2019      2020      2021\n",
       "0   월별(1)  사고건수 (건)  사고건수 (건)  사고건수 (건)  사고건수 (건)\n",
       "1      전체     15365     18785     18584     18624\n",
       "2      1월       879      1132      1270      1139\n",
       "3      2월       864      1061      1330      1184\n",
       "4      3월      1168      1374      1314      1399\n",
       "5      4월      1269      1578      1483      1618\n",
       "6      5월      1310      1827      1603      1693\n",
       "7      6월      1422      1686      1715      1699\n",
       "8      7월      1448      1707      1588      1915\n",
       "9      8월      1454      1792      1720      1744\n",
       "10     9월      1396      1671      1671      1646\n",
       "11    10월      1479      1731      1765      1710\n",
       "12    11월      1438      1790      1596      1435\n",
       "13    12월      1238      1436      1529      1442"
      ]
     },
     "execution_count": 47,
     "metadata": {},
     "output_type": "execute_result"
    }
   ],
   "source": [
    "df = pd.read_csv('./data/가해자_차종별_교통사고_20220726173801.csv', encoding='euc-kr')\n",
    "df = df[['월별(1)','2018','2019','2020','2021']]\n",
    "df"
   ]
  },
  {
   "cell_type": "code",
   "execution_count": 48,
   "id": "e47a415c-3abe-4a11-af0c-ae322ef162c4",
   "metadata": {},
   "outputs": [],
   "source": [
    "df_1 = df[['월별(1)', '2018']]\n",
    "df_2 = df[['월별(1)', '2019']]\n",
    "df_3 = df[['월별(1)', '2020']]\n",
    "df_4 = df[['월별(1)', '2021']]"
   ]
  },
  {
   "cell_type": "code",
   "execution_count": 49,
   "id": "da95d373-e917-4c23-9a9b-edace3aafeba",
   "metadata": {},
   "outputs": [],
   "source": [
    "df_1.columns=['월','사고건수']\n",
    "df_2.columns=['월','사고건수']\n",
    "df_3.columns=['월','사고건수']\n",
    "df_4.columns=['월','사고건수']"
   ]
  },
  {
   "cell_type": "code",
   "execution_count": 50,
   "id": "2afb8137-45e8-44e3-bdde-ad4e944b1238",
   "metadata": {},
   "outputs": [],
   "source": [
    "df = pd.concat([df_1,df_2,df_3,df_4],axis=0)\n",
    "df = df.drop(0).reset_index(drop=True)\n",
    "df = df.drop(0)\n",
    "df = df.drop(13)\n",
    "df = df.drop(26)\n",
    "df = df.drop(39)\n",
    "df['사고건수'] = df['사고건수'].astype(int)\n",
    "df = df[['사고건수']]\n",
    "df = df.reset_index(drop=True)"
   ]
  },
  {
   "cell_type": "code",
   "execution_count": 51,
   "id": "2dada8d9-6759-40a9-84f4-638b211162d5",
   "metadata": {},
   "outputs": [
    {
     "data": {
      "text/html": [
       "<div>\n",
       "<style scoped>\n",
       "    .dataframe tbody tr th:only-of-type {\n",
       "        vertical-align: middle;\n",
       "    }\n",
       "\n",
       "    .dataframe tbody tr th {\n",
       "        vertical-align: top;\n",
       "    }\n",
       "\n",
       "    .dataframe thead th {\n",
       "        text-align: right;\n",
       "    }\n",
       "</style>\n",
       "<table border=\"1\" class=\"dataframe\">\n",
       "  <thead>\n",
       "    <tr style=\"text-align: right;\">\n",
       "      <th></th>\n",
       "      <th>전체사고건수</th>\n",
       "      <th>사고건수</th>\n",
       "      <th>사고율</th>\n",
       "    </tr>\n",
       "  </thead>\n",
       "  <tbody>\n",
       "    <tr>\n",
       "      <th>0</th>\n",
       "      <td>17026</td>\n",
       "      <td>879</td>\n",
       "      <td>5.162692</td>\n",
       "    </tr>\n",
       "    <tr>\n",
       "      <th>1</th>\n",
       "      <td>16208</td>\n",
       "      <td>864</td>\n",
       "      <td>5.330701</td>\n",
       "    </tr>\n",
       "    <tr>\n",
       "      <th>2</th>\n",
       "      <td>17022</td>\n",
       "      <td>1168</td>\n",
       "      <td>6.861708</td>\n",
       "    </tr>\n",
       "    <tr>\n",
       "      <th>3</th>\n",
       "      <td>17992</td>\n",
       "      <td>1269</td>\n",
       "      <td>7.053135</td>\n",
       "    </tr>\n",
       "    <tr>\n",
       "      <th>4</th>\n",
       "      <td>18636</td>\n",
       "      <td>1310</td>\n",
       "      <td>7.029405</td>\n",
       "    </tr>\n",
       "  </tbody>\n",
       "</table>\n",
       "</div>"
      ],
      "text/plain": [
       "   전체사고건수  사고건수       사고율\n",
       "0   17026   879  5.162692\n",
       "1   16208   864  5.330701\n",
       "2   17022  1168  6.861708\n",
       "3   17992  1269  7.053135\n",
       "4   18636  1310  7.029405"
      ]
     },
     "execution_count": 51,
     "metadata": {},
     "output_type": "execute_result"
    }
   ],
   "source": [
    "df_final = pd.concat([df_all,df], axis=1)\n",
    "df_final.columns=['전체사고건수','사고건수']\n",
    "df_final = df_final.astype(int)\n",
    "df_final['사고율'] = df_final['사고건수'] / df_final['전체사고건수'] * 100\n",
    "df_final\n",
    "df = df_final[['사고율']]\n",
    "df_final.head()"
   ]
  },
  {
   "cell_type": "code",
   "execution_count": 8,
   "id": "35c09f85-0a85-4438-ad50-e8508b389323",
   "metadata": {},
   "outputs": [],
   "source": [
    "df.to_csv('./data/이륜차사고율.csv')"
   ]
  },
  {
   "cell_type": "code",
   "execution_count": 9,
   "id": "a7886b4b-6707-4166-8ad4-7a078efaa432",
   "metadata": {},
   "outputs": [
    {
     "data": {
      "text/html": [
       "<div>\n",
       "<style scoped>\n",
       "    .dataframe tbody tr th:only-of-type {\n",
       "        vertical-align: middle;\n",
       "    }\n",
       "\n",
       "    .dataframe tbody tr th {\n",
       "        vertical-align: top;\n",
       "    }\n",
       "\n",
       "    .dataframe thead th {\n",
       "        text-align: right;\n",
       "    }\n",
       "</style>\n",
       "<table border=\"1\" class=\"dataframe\">\n",
       "  <thead>\n",
       "    <tr style=\"text-align: right;\">\n",
       "      <th></th>\n",
       "      <th>사고율</th>\n",
       "    </tr>\n",
       "  </thead>\n",
       "  <tbody>\n",
       "    <tr>\n",
       "      <th>0</th>\n",
       "      <td>5.162692</td>\n",
       "    </tr>\n",
       "  </tbody>\n",
       "</table>\n",
       "</div>"
      ],
      "text/plain": [
       "        사고율\n",
       "0  5.162692"
      ]
     },
     "execution_count": 9,
     "metadata": {},
     "output_type": "execute_result"
    }
   ],
   "source": [
    "df_graph = df\n",
    "#df_graph.index = ['2018.01','2018.02','2018.03','2018.04','2018.05','2018.06','2018.07','2018.08','2018.09','2018.10','2018.11','2018.12','2019.01','2019.02','2019.03','2019.04','2019.05','2019.06','2019.07','2019.08','2019.09','2019.10','2019.11','2019.12','2020.01','2020.02','2020.03','2020.04','2020.05','2020.06','2020.07','2020.08','2020.09','2020.10','2020.11','2020.12','2021.01','2021.02','2021.03','2021.04','2021.05','2021.06','2021.07','2021.08','2021.09','2021.10','2021.11','2021.12']\n",
    "df_graph.head(1)"
   ]
  },
  {
   "cell_type": "code",
   "execution_count": 10,
   "id": "96434e42-9a49-45b3-9f46-97c869e4ba15",
   "metadata": {},
   "outputs": [
    {
     "data": {
      "text/plain": [
       "Text(0, 0.5, '사고율')"
      ]
     },
     "execution_count": 10,
     "metadata": {},
     "output_type": "execute_result"
    },
    {
     "name": "stderr",
     "output_type": "stream",
     "text": [
      "C:\\Users\\admin\\anaconda3\\lib\\site-packages\\IPython\\core\\pylabtools.py:151: UserWarning: Glyph 51060 (\\N{HANGUL SYLLABLE I}) missing from current font.\n",
      "  fig.canvas.print_figure(bytes_io, **kw)\n",
      "C:\\Users\\admin\\anaconda3\\lib\\site-packages\\IPython\\core\\pylabtools.py:151: UserWarning: Glyph 47452 (\\N{HANGUL SYLLABLE RYUN}) missing from current font.\n",
      "  fig.canvas.print_figure(bytes_io, **kw)\n",
      "C:\\Users\\admin\\anaconda3\\lib\\site-packages\\IPython\\core\\pylabtools.py:151: UserWarning: Glyph 52264 (\\N{HANGUL SYLLABLE CA}) missing from current font.\n",
      "  fig.canvas.print_figure(bytes_io, **kw)\n",
      "C:\\Users\\admin\\anaconda3\\lib\\site-packages\\IPython\\core\\pylabtools.py:151: UserWarning: Glyph 49324 (\\N{HANGUL SYLLABLE SA}) missing from current font.\n",
      "  fig.canvas.print_figure(bytes_io, **kw)\n",
      "C:\\Users\\admin\\anaconda3\\lib\\site-packages\\IPython\\core\\pylabtools.py:151: UserWarning: Glyph 44256 (\\N{HANGUL SYLLABLE GO}) missing from current font.\n",
      "  fig.canvas.print_figure(bytes_io, **kw)\n",
      "C:\\Users\\admin\\anaconda3\\lib\\site-packages\\IPython\\core\\pylabtools.py:151: UserWarning: Glyph 50984 (\\N{HANGUL SYLLABLE YUL}) missing from current font.\n",
      "  fig.canvas.print_figure(bytes_io, **kw)\n",
      "C:\\Users\\admin\\anaconda3\\lib\\site-packages\\IPython\\core\\pylabtools.py:151: UserWarning: Glyph 50672 (\\N{HANGUL SYLLABLE YEON}) missing from current font.\n",
      "  fig.canvas.print_figure(bytes_io, **kw)\n",
      "C:\\Users\\admin\\anaconda3\\lib\\site-packages\\IPython\\core\\pylabtools.py:151: UserWarning: Glyph 46020 (\\N{HANGUL SYLLABLE DO}) missing from current font.\n",
      "  fig.canvas.print_figure(bytes_io, **kw)\n",
      "C:\\Users\\admin\\anaconda3\\lib\\site-packages\\IPython\\core\\pylabtools.py:151: UserWarning: Glyph 48324 (\\N{HANGUL SYLLABLE BYEOL}) missing from current font.\n",
      "  fig.canvas.print_figure(bytes_io, **kw)\n"
     ]
    },
    {
     "data": {
      "image/png": "[encoded data removed]",
      "text/plain": [
       "<Figure size 432x288 with 1 Axes>"
      ]
     },
     "metadata": {
      "needs_background": "light"
     },
     "output_type": "display_data"
    }
   ],
   "source": [
    "plt.plot(df_graph)\n",
    "plt.title('2018~2021 이륜차사고율')\n",
    "plt.xlabel('연도별')\n",
    "plt.ylabel('사고율')"
   ]
  },
  {
   "cell_type": "markdown",
   "id": "4c600b95-9980-447b-a5c1-3c9927341d8e",
   "metadata": {},
   "source": [
    "# 월별 온라인매출액"
   ]
  },
  {
   "cell_type": "code",
   "execution_count": 53,
   "id": "afb63f62-10f9-49b7-aabf-862abcc4ff04",
   "metadata": {},
   "outputs": [],
   "source": [
    "df_2 = pd.read_csv('./data/온라인쇼핑몰_판매매체별_상품군별거래액_20220726151517.csv', encoding='euc-kr')\n",
    "df_2 = df_2.T\n",
    "df_2 = df_2[[2]]\n",
    "df_2 = df_2.drop('상품군별')\n",
    "df_2 = df_2.drop('판매매체별')\n",
    "df_2 = df_2.reset_index(drop=True)\n",
    "df_2.columns=['온라인판매량']\n",
    "df_2.to_csv('./data/온라인판매량.csv')"
   ]
  },
  {
   "cell_type": "code",
   "execution_count": 54,
   "id": "87f5841e-d16c-4121-8b98-1f394e9ed5c6",
   "metadata": {},
   "outputs": [
    {
     "data": {
      "text/html": [
       "<div>\n",
       "<style scoped>\n",
       "    .dataframe tbody tr th:only-of-type {\n",
       "        vertical-align: middle;\n",
       "    }\n",
       "\n",
       "    .dataframe tbody tr th {\n",
       "        vertical-align: top;\n",
       "    }\n",
       "\n",
       "    .dataframe thead th {\n",
       "        text-align: right;\n",
       "    }\n",
       "</style>\n",
       "<table border=\"1\" class=\"dataframe\">\n",
       "  <thead>\n",
       "    <tr style=\"text-align: right;\">\n",
       "      <th></th>\n",
       "      <th>온라인판매량</th>\n",
       "    </tr>\n",
       "  </thead>\n",
       "  <tbody>\n",
       "    <tr>\n",
       "      <th>2018.01</th>\n",
       "      <td>309665</td>\n",
       "    </tr>\n",
       "    <tr>\n",
       "      <th>2018.02</th>\n",
       "      <td>288800</td>\n",
       "    </tr>\n",
       "    <tr>\n",
       "      <th>2018.03</th>\n",
       "      <td>325867</td>\n",
       "    </tr>\n",
       "    <tr>\n",
       "      <th>2018.04</th>\n",
       "      <td>318369</td>\n",
       "    </tr>\n",
       "    <tr>\n",
       "      <th>2018.05</th>\n",
       "      <td>355920</td>\n",
       "    </tr>\n",
       "  </tbody>\n",
       "</table>\n",
       "</div>"
      ],
      "text/plain": [
       "         온라인판매량\n",
       "2018.01  309665\n",
       "2018.02  288800\n",
       "2018.03  325867\n",
       "2018.04  318369\n",
       "2018.05  355920"
      ]
     },
     "execution_count": 54,
     "metadata": {},
     "output_type": "execute_result"
    }
   ],
   "source": [
    "df_3 = pd.read_csv('./data/온라인쇼핑몰_판매매체별_상품군별거래액_20220726151517.csv', encoding='euc-kr')\n",
    "df_3 = df_3.T\n",
    "df_3 = df_3[[2]]\n",
    "df_3 = df_3.drop('상품군별')\n",
    "df_3 = df_3.drop('판매매체별')\n",
    "df_3.columns=['온라인판매량']\n",
    "df_3.head()"
   ]
  },
  {
   "cell_type": "code",
   "execution_count": 66,
   "id": "808c3bfd-2214-4fb3-85cb-6c9d83e35c72",
   "metadata": {},
   "outputs": [],
   "source": [
    "df_total = pd.concat([df, df_2], axis=1)\n",
    "df_total.columns = ['사고율','온라인매출액']\n",
    "df_total.head()\n",
    "df_total['온라인매출액'] = df_total['온라인매출액'].astype(int)"
   ]
  },
  {
   "cell_type": "code",
   "execution_count": 69,
   "id": "37e37978-c87c-4d75-a0b9-0ac3526da274",
   "metadata": {},
   "outputs": [
    {
     "data": {
      "image/png": "[encoded data removed]",
      "text/plain": [
       "<Figure size 720x648 with 2 Axes>"
      ]
     },
     "metadata": {
      "needs_background": "light"
     },
     "output_type": "display_data"
    }
   ],
   "source": [
    "fig, ax = plt.subplots(1,1, figsize=(10,9))\n",
    "\n",
    "mask = np.zeros_like(df_total.corr())\n",
    "mask[np.triu_indices_from(mask)] = True\n",
    "\n",
    "sns.heatmap(df_total.corr(), annot=True, cmap='RdPu', linewidth=0.1, mask=mask)\n",
    "plt.show()"
   ]
  },
  {
   "cell_type": "code",
   "execution_count": 13,
   "id": "e751a1bf-4771-4beb-b79e-038b1b902a1e",
   "metadata": {},
   "outputs": [
    {
     "data": {
      "text/plain": [
       "Text(0, 0.5, '온라인매출액')"
      ]
     },
     "execution_count": 13,
     "metadata": {},
     "output_type": "execute_result"
    },
    {
     "name": "stderr",
     "output_type": "stream",
     "text": [
      "C:\\Users\\admin\\anaconda3\\lib\\site-packages\\IPython\\core\\pylabtools.py:151: UserWarning: Glyph 50728 (\\N{HANGUL SYLLABLE ON}) missing from current font.\n",
      "  fig.canvas.print_figure(bytes_io, **kw)\n",
      "C:\\Users\\admin\\anaconda3\\lib\\site-packages\\IPython\\core\\pylabtools.py:151: UserWarning: Glyph 46972 (\\N{HANGUL SYLLABLE RA}) missing from current font.\n",
      "  fig.canvas.print_figure(bytes_io, **kw)\n",
      "C:\\Users\\admin\\anaconda3\\lib\\site-packages\\IPython\\core\\pylabtools.py:151: UserWarning: Glyph 51064 (\\N{HANGUL SYLLABLE IN}) missing from current font.\n",
      "  fig.canvas.print_figure(bytes_io, **kw)\n",
      "C:\\Users\\admin\\anaconda3\\lib\\site-packages\\IPython\\core\\pylabtools.py:151: UserWarning: Glyph 47588 (\\N{HANGUL SYLLABLE MAE}) missing from current font.\n",
      "  fig.canvas.print_figure(bytes_io, **kw)\n",
      "C:\\Users\\admin\\anaconda3\\lib\\site-packages\\IPython\\core\\pylabtools.py:151: UserWarning: Glyph 52636 (\\N{HANGUL SYLLABLE CUL}) missing from current font.\n",
      "  fig.canvas.print_figure(bytes_io, **kw)\n",
      "C:\\Users\\admin\\anaconda3\\lib\\site-packages\\IPython\\core\\pylabtools.py:151: UserWarning: Glyph 50529 (\\N{HANGUL SYLLABLE AEG}) missing from current font.\n",
      "  fig.canvas.print_figure(bytes_io, **kw)\n",
      "C:\\Users\\admin\\anaconda3\\lib\\site-packages\\IPython\\core\\pylabtools.py:151: UserWarning: Glyph 54788 (\\N{HANGUL SYLLABLE HYEON}) missing from current font.\n",
      "  fig.canvas.print_figure(bytes_io, **kw)\n",
      "C:\\Users\\admin\\anaconda3\\lib\\site-packages\\IPython\\core\\pylabtools.py:151: UserWarning: Glyph 54889 (\\N{HANGUL SYLLABLE HWANG}) missing from current font.\n",
      "  fig.canvas.print_figure(bytes_io, **kw)\n",
      "C:\\Users\\admin\\anaconda3\\lib\\site-packages\\IPython\\core\\pylabtools.py:151: UserWarning: Glyph 50672 (\\N{HANGUL SYLLABLE YEON}) missing from current font.\n",
      "  fig.canvas.print_figure(bytes_io, **kw)\n",
      "C:\\Users\\admin\\anaconda3\\lib\\site-packages\\IPython\\core\\pylabtools.py:151: UserWarning: Glyph 46020 (\\N{HANGUL SYLLABLE DO}) missing from current font.\n",
      "  fig.canvas.print_figure(bytes_io, **kw)\n",
      "C:\\Users\\admin\\anaconda3\\lib\\site-packages\\IPython\\core\\pylabtools.py:151: UserWarning: Glyph 48324 (\\N{HANGUL SYLLABLE BYEOL}) missing from current font.\n",
      "  fig.canvas.print_figure(bytes_io, **kw)\n"
     ]
    },
    {
     "data": {
      "image/png": "[encoded data removed]",
      "text/plain": [
       "<Figure size 432x288 with 1 Axes>"
      ]
     },
     "metadata": {
      "needs_background": "light"
     },
     "output_type": "display_data"
    }
   ],
   "source": [
    "plt.plot(df_total['온라인매출액'])\n",
    "plt.title('2018~2021 온라인 매출액 현황')\n",
    "plt.xlabel('연도별')\n",
    "plt.ylabel('온라인매출액')"
   ]
  },
  {
   "cell_type": "code",
   "execution_count": 14,
   "id": "4397aa9b-a4a9-4e4f-aadf-c3ae0d3594b3",
   "metadata": {},
   "outputs": [
    {
     "data": {
      "text/plain": [
       "0      309665\n",
       "1      288800\n",
       "2      325867\n",
       "3      318369\n",
       "4      355920\n",
       "5      374849\n",
       "6      415437\n",
       "7      453319\n",
       "8      423648\n",
       "9      460967\n",
       "10     468405\n",
       "11     577758\n",
       "12     568558\n",
       "13     566204\n",
       "14     639833\n",
       "15     637236\n",
       "16     692525\n",
       "17     722286\n",
       "18     773268\n",
       "19     857555\n",
       "20     799765\n",
       "21     854572\n",
       "22     965853\n",
       "23     991679\n",
       "24     997237\n",
       "25    1066259\n",
       "26    1180004\n",
       "27    1185498\n",
       "28    1232463\n",
       "29    1184989\n",
       "30    1305403\n",
       "31    1592020\n",
       "32    1529457\n",
       "33    1477922\n",
       "34    1572480\n",
       "35    2110502\n",
       "36    1961804\n",
       "37    1762520\n",
       "38    1905016\n",
       "39    1921028\n",
       "40    2082063\n",
       "41    1919457\n",
       "42    2317210\n",
       "43    2359649\n",
       "44    2127649\n",
       "45    2207517\n",
       "46    2024799\n",
       "47    2394098\n",
       "Name: 온라인매출액, dtype: int32"
      ]
     },
     "execution_count": 14,
     "metadata": {},
     "output_type": "execute_result"
    }
   ],
   "source": [
    "df_total['온라인매출액'].astype(int)"
   ]
  },
  {
   "cell_type": "code",
   "execution_count": 15,
   "id": "c1296ce6-c147-4174-83fb-1379f06ccc26",
   "metadata": {},
   "outputs": [
    {
     "data": {
      "image/png": "[encoded data removed]",
      "text/plain": [
       "<Figure size 432x288 with 1 Axes>"
      ]
     },
     "metadata": {
      "needs_background": "light"
     },
     "output_type": "display_data"
    },
    {
     "name": "stdout",
     "output_type": "stream",
     "text": [
      "x = \n",
      " [[309665]\n",
      " [288800]\n",
      " [325867]\n",
      " [318369]\n",
      " [355920]\n",
      " [374849]\n",
      " [415437]\n",
      " [453319]\n",
      " [423648]\n",
      " [460967]\n",
      " [468405]\n",
      " [577758]\n",
      " [568558]\n",
      " [566204]\n",
      " [639833]\n",
      " [637236]\n",
      " [692525]\n",
      " [722286]\n",
      " [773268]\n",
      " [857555]\n",
      " [799765]\n",
      " [854572]\n",
      " [965853]\n",
      " [991679]\n",
      " [997237]\n",
      " [1066259]\n",
      " [1180004]\n",
      " [1185498]\n",
      " [1232463]\n",
      " [1184989]\n",
      " [1305403]\n",
      " [1592020]\n",
      " [1529457]\n",
      " [1477922]\n",
      " [1572480]\n",
      " [2110502]\n",
      " [1961804]\n",
      " [1762520]\n",
      " [1905016]\n",
      " [1921028]\n",
      " [2082063]\n",
      " [1919457]\n",
      " [2317210]\n",
      " [2359649]\n",
      " [2127649]\n",
      " [2207517]\n",
      " [2024799]\n",
      " [2394098]]\n",
      "-------------------------------\n",
      "예측(테스트) 결과 =  [7.26328565 7.23772524 7.28313371 7.27394838 7.31994976 7.3431385\n",
      " 7.39286032 7.4392672  7.40291911 7.44863628 7.45774811 7.59170965\n",
      " 7.5804393  7.57755556 7.66775385 7.66457243 7.73230353 7.76876187\n",
      " 7.83121674 7.93447148 7.86367656 7.93081719 8.0671406  8.09877842\n",
      " 8.10558718 8.19014172 8.32948362 8.33621397 8.39374786 8.33559043\n",
      " 8.4831021  8.83421869 8.75757667 8.69444436 8.81028146 9.46937862\n",
      " 9.28721798 9.04308759 9.21765055 9.23726585 9.43453977 9.23534131\n",
      " 9.72260368 9.77459305 9.49038433 9.58822563 9.36438922 9.81679437]\n"
     ]
    },
    {
     "data": {
      "image/png": "[encoded data removed]",
      "text/plain": [
       "<Figure size 432x288 with 1 Axes>"
      ]
     },
     "metadata": {
      "needs_background": "light"
     },
     "output_type": "display_data"
    },
    {
     "name": "stdout",
     "output_type": "stream",
     "text": [
      "poly =  PolynomialFeatures(degree=3, include_bias=False)\n",
      "x2= \n",
      " [[3.09665000e+05 9.58924122e+10 2.96945238e+16]\n",
      " [2.88800000e+05 8.34054400e+10 2.40874911e+16]\n",
      " [3.25867000e+05 1.06189302e+11 3.46035892e+16]\n",
      " [3.18369000e+05 1.01358820e+11 3.22695062e+16]\n",
      " [3.55920000e+05 1.26679046e+11 4.50876062e+16]\n",
      " [3.74849000e+05 1.40511773e+11 5.26706975e+16]\n",
      " [4.15437000e+05 1.72587901e+11 7.16993998e+16]\n",
      " [4.53319000e+05 2.05498116e+11 9.31562003e+16]\n",
      " [4.23648000e+05 1.79477628e+11 7.60353381e+16]\n",
      " [4.60967000e+05 2.12490575e+11 9.79511429e+16]\n",
      " [4.68405000e+05 2.19403244e+11 1.02769577e+17]\n",
      " [5.77758000e+05 3.33804307e+11 1.92858109e+17]\n",
      " [5.68558000e+05 3.23258199e+11 1.83791035e+17]\n",
      " [5.66204000e+05 3.20586970e+11 1.81517625e+17]\n",
      " [6.39833000e+05 4.09386268e+11 2.61938844e+17]\n",
      " [6.37236000e+05 4.06069720e+11 2.58762244e+17]\n",
      " [6.92525000e+05 4.79590876e+11 3.32128671e+17]\n",
      " [7.22286000e+05 5.21697066e+11 3.76814487e+17]\n",
      " [7.73268000e+05 5.97943400e+11 4.62370497e+17]\n",
      " [8.57555000e+05 7.35400578e+11 6.30646443e+17]\n",
      " [7.99765000e+05 6.39624055e+11 5.11548933e+17]\n",
      " [8.54572000e+05 7.30293303e+11 6.24088209e+17]\n",
      " [9.65853000e+05 9.32872018e+11 9.01017237e+17]\n",
      " [9.91679000e+05 9.83427239e+11 9.75244141e+17]\n",
      " [9.97237000e+05 9.94481634e+11 9.91733881e+17]\n",
      " [1.06625900e+06 1.13690826e+12 1.21223866e+18]\n",
      " [1.18000400e+06 1.39240944e+12 1.64304871e+18]\n",
      " [1.18549800e+06 1.40540551e+12 1.66610542e+18]\n",
      " [1.23246300e+06 1.51896505e+12 1.87206822e+18]\n",
      " [1.18498900e+06 1.40419893e+12 1.66396029e+18]\n",
      " [1.30540300e+06 1.70407699e+12 2.22450722e+18]\n",
      " [1.59202000e+06 2.53452768e+12 4.03501876e+18]\n",
      " [1.52945700e+06 2.33923871e+12 3.57776503e+18]\n",
      " [1.47792200e+06 2.18425344e+12 3.22815621e+18]\n",
      " [1.57248000e+06 2.47269335e+12 3.88826084e+18]\n",
      " [2.11050200e+06 4.45421869e+12 9.40063746e+18]\n",
      " [1.96180400e+06 3.84867493e+12 7.55034588e+18]\n",
      " [1.76252000e+06 3.10647675e+12 5.47522740e+18]\n",
      " [1.90501600e+06 3.62908596e+12 6.91346682e+18]\n",
      " [1.92102800e+06 3.69034858e+12 7.08926295e+18]\n",
      " [2.08206300e+06 4.33498634e+12 9.02571466e+18]\n",
      " [1.91945700e+06 3.68431517e+12 7.07188455e+18]\n",
      " [2.31721000e+06 5.36946218e+12 1.24421715e+19]\n",
      " [2.35964900e+06 5.56794340e+12 1.31383921e+19]\n",
      " [2.12764900e+06 4.52689027e+12 9.63163355e+18]\n",
      " [2.20751700e+06 4.87313131e+12 1.07575202e+19]\n",
      " [2.02479900e+06 4.09981099e+12 8.30129319e+18]\n",
      " [2.39409800e+06 5.73170523e+12 1.37222640e+19]]\n",
      "model = \n",
      " LinearRegression()\n",
      "---------------------------\n",
      "기울기 =  [ 9.13115495e-06 -6.21786143e-12  1.41836683e-18]\n",
      "-------------------------------\n",
      "y절편 =  4.277628646801703\n",
      "-------------------------------\n",
      "예측값(y_pred2) = \n",
      " [6.55109974 6.43026763 6.64198094 6.60024022 6.80386732 6.90145659\n",
      " 7.09961666 7.27132553 7.13790316 7.30448345 7.33625327 7.75122109\n",
      " 7.71992826 7.71181833 7.9460612  7.93846384 8.09023241 8.16355514\n",
      " 8.27634035 8.42996534 8.32887708 8.42518145 8.57448608 8.6012429\n",
      " 8.60664766 8.66406591 8.72506485 8.72712654 8.74200456 8.72693853\n",
      " 8.75691837 8.77840482 8.77285857 8.77008793 8.77630278 9.18678721\n",
      " 8.9697977  8.82171085 8.91330335 8.92793233 9.13669849 8.92645321\n",
      " 9.69742373 9.83830833 9.21913453 9.3924631  9.04860437 9.96276373]\n",
      "-------------------------------\n",
      "실제값(y) = \n",
      " [ 5.16269235  5.33070089  6.86170838  7.05313473  7.02940545  7.86417432\n",
      "  7.74372961  7.93018816  7.5989331   7.4931604   7.55688686  6.87395891\n",
      "  6.83905268  7.19224512  7.57734517  8.26005025  8.79253092  8.88865458\n",
      "  8.87490902  8.96358543  8.64414671  7.98063624  8.31900358  7.34602005\n",
      "  7.48467704  8.16702487  8.78988561  9.16223897  8.81544215  9.01824683\n",
      "  8.67664736  9.76385104  9.21981902  9.16645027  8.65603645  9.36313533\n",
      "  7.63968073  8.15932741  8.42771084  9.2972476   9.74220279  9.66714083\n",
      " 10.64243637 10.62248751  9.67552316  9.3442623   7.92992927  8.51541278]\n",
      "-------------------------------\n",
      "결정계수(R-squared) =  0.6287851145642506\n",
      "-------------------------------\n"
     ]
    },
    {
     "data": {
      "image/png": "[encoded data removed]",
      "text/plain": [
       "<Figure size 432x288 with 1 Axes>"
      ]
     },
     "metadata": {
      "needs_background": "light"
     },
     "output_type": "display_data"
    }
   ],
   "source": [
    "### 라이브러리 불러오기\n",
    "import numpy as np\n",
    "import matplotlib.pyplot as plt\n",
    "\n",
    "plt.rc('font', family='Malgun Gothic')\n",
    "\n",
    "### 데이터 생성하기\n",
    "\n",
    "x = np.array(df_total['온라인매출액'])\n",
    "y = np.array(df_total['사고율'])\n",
    "\n",
    "# 산점도 시각화\n",
    "plt.scatter(x, y) \n",
    "plt.show()\n",
    "\n",
    "### 산점도가 직선을 띄지않고 곡선을 띄고 있다.\n",
    "\n",
    "### 독립변수(x) 데이터를 메트릭스 형태로 변형하기\n",
    "#    - 향후 다항회귀로 변환시 차원 확대를 위해서..\n",
    "\n",
    "from sklearn.linear_model import LinearRegression\n",
    "\n",
    "# np.newaxis : 입력을 matrix로 변환\n",
    "x = x[:, np.newaxis] \n",
    "print(\"x = \\n\", x)\n",
    "print(\"-------------------------------\")\n",
    "\n",
    "\n",
    "### 선형회귀 모델 생성하기\n",
    "\n",
    "# 선형회귀 학습모델 생성하기\n",
    "model = LinearRegression().fit(x, y) \n",
    "\n",
    "# 예측(테스트) 하기\n",
    "y_pred = model.predict(x)\n",
    "print(\"예측(테스트) 결과 = \", y_pred)\n",
    "# [2.  2.7 3.4 4.1 4.8]\n",
    "\n",
    "### 산점도 시각화\n",
    "plt.scatter(x, y) \n",
    "\n",
    "### 추세선 그래프 그리기\n",
    "plt.plot(x, y_pred, c='red') \n",
    "plt.show()\n",
    "\n",
    "### 다항식 특징을 추가하기\n",
    "\n",
    "from sklearn.preprocessing import PolynomialFeatures\n",
    "\n",
    "# PolynomialFeatures() : 2차항 적용을 위한 함수 \n",
    "#  - degree : 열 개수, \n",
    "#  - include_bias : 편향 (false = 고려안함)\n",
    "#  - 편향이란?\n",
    "#    : 예측값이 정답과 얼마나 다른가(차이가 있는가, 떨어져 있는가, \n",
    "#       멀게 있는가 등등) 를 표현한 것\n",
    "poly = PolynomialFeatures(degree=3, include_bias = False) \n",
    "print(\"poly = \", poly)\n",
    "\n",
    "### 특징 행렬 생성하기 : 다항으로 변환하기\n",
    "#  - fit_transform() : 독립변수(x)의 데이터를 2차항으로 변형\n",
    "x2 = poly.fit_transform(x) \n",
    "print(\"x2= \\n\", x2)\n",
    "\n",
    "### 다항으로 변환된 독립변수(x2)의 값 사용을 위한 \n",
    "### 선형회귀 모델 생성하기\n",
    "\n",
    "# 선형회귀분석에서 결정계수 확인을 위한 라이브러리\n",
    "from sklearn.metrics import r2_score\n",
    "\n",
    "# 선형회귀 학습모델 생성 : 다항 독립변수(x2)를 사용\n",
    "model2 = LinearRegression().fit(x2, y) \n",
    "\n",
    "print(\"model = \\n\", model2)\n",
    "print(\"---------------------------\")\n",
    "\n",
    "# 기울기 \n",
    "print(\"기울기 = \", model2.coef_)   \n",
    "print(\"-------------------------------\")\n",
    "\n",
    "# y절편\n",
    "print(\"y절편 = \", model2.intercept_) \n",
    "print(\"-------------------------------\")\n",
    "\n",
    "# 예측(테스트) 하기..\n",
    "y_pred2 = model2.predict(x2)\n",
    "\n",
    "### 결과 확인해 보기\n",
    "print(\"예측값(y_pred2) = \\n\", y_pred2)\n",
    "print(\"-------------------------------\")\n",
    "\n",
    "print(\"실제값(y) = \\n\", y)\n",
    "print(\"-------------------------------\")\n",
    "\n",
    "# 결정계수(R-squared)\n",
    "print(\"결정계수(R-squared) = \", r2_score(y, y_pred2))   \n",
    "print(\"-------------------------------\")\n",
    "\n",
    "### 다항 회귀 시각화 하기\n",
    "# 산점도 표시\n",
    "plt.scatter(x, y)\n",
    "\n",
    "# 다항회귀모델 예측결과 값을 이용한 추세선 그래프\n",
    "plt.plot(x, y_pred2, c='red') \n",
    "plt.show()\n",
    "\n",
    "### (해석)\n",
    "# - 실제 독립변수(x)의 곡선의 분포에 맞게\n",
    "# - 다항회귀분석 예측 결과 추세선이 잘 그려졌음\n",
    "# - 결정계수(R-squared)의 값이 [0.994]로 \n",
    "#   예측 결과가 매우 정확한 모델로 확인됨"
   ]
  },
  {
   "cell_type": "markdown",
   "id": "c0077820-ab1e-47a9-8e35-0c25e34551b7",
   "metadata": {},
   "source": [
    "# 상관관계도"
   ]
  },
  {
   "cell_type": "code",
   "execution_count": 16,
   "id": "288c0115-aed3-43a9-8b5d-e0b9de2e04fd",
   "metadata": {},
   "outputs": [],
   "source": [
    "import seaborn as sns"
   ]
  },
  {
   "cell_type": "code",
   "execution_count": 17,
   "id": "e4323bee-529f-4d46-9080-4c1c6c9f614d",
   "metadata": {},
   "outputs": [
    {
     "data": {
      "text/plain": [
       "<seaborn.axisgrid.PairGrid at 0x24fa70f1c40>"
      ]
     },
     "execution_count": 17,
     "metadata": {},
     "output_type": "execute_result"
    },
    {
     "data": {
      "image/png": "[encoded data removed]",
      "text/plain": [
       "<Figure size 360x360 with 6 Axes>"
      ]
     },
     "metadata": {
      "needs_background": "light"
     },
     "output_type": "display_data"
    }
   ],
   "source": [
    "sns.pairplot(df_total)"
   ]
  },
  {
   "cell_type": "code",
   "execution_count": null,
   "id": "b0a7f3b8-bdb9-41da-9a1f-48c1fc05df8a",
   "metadata": {},
   "outputs": [],
   "source": []
  },
  {
   "cell_type": "code",
   "execution_count": null,
   "id": "45870db5-bc44-4c73-bd11-3bce5bb6569b",
   "metadata": {},
   "outputs": [],
   "source": []
  }
 ],
 "metadata": {
  "kernelspec": {
   "display_name": "Python 3 (ipykernel)",
   "language": "python",
   "name": "python3"
  },
  "language_info": {
   "codemirror_mode": {
    "name": "ipython",
    "version": 3
   },
   "file_extension": ".py",
   "mimetype": "text/x-python",
   "name": "python",
   "nbconvert_exporter": "python",
   "pygments_lexer": "ipython3",
   "version": "3.9.12"
  }
 },
 "nbformat": 4,
 "nbformat_minor": 5
}
