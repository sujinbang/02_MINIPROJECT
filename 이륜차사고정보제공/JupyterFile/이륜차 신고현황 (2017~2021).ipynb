{
 "cells": [
  {
   "cell_type": "markdown",
   "id": "4ea01bab",
   "metadata": {},
   "source": [
    "### 이륜차 신고현황 (2017~2021)"
   ]
  },
  {
   "cell_type": "code",
   "execution_count": 41,
   "id": "3ae9aa18",
   "metadata": {
    "ExecuteTime": {
     "end_time": "2022-07-28T01:04:46.679972Z",
     "start_time": "2022-07-28T01:04:46.672265Z"
    }
   },
   "outputs": [],
   "source": [
    "import pandas as pd\n",
    "import matplotlib.pyplot as plt\n",
    "import matplotlib\n",
    "import numpy as np"
   ]
  },
  {
   "cell_type": "code",
   "execution_count": 42,
   "id": "751b20c5",
   "metadata": {
    "ExecuteTime": {
     "end_time": "2022-07-28T01:04:47.393760Z",
     "start_time": "2022-07-28T01:04:47.375054Z"
    },
    "scrolled": false
   },
   "outputs": [],
   "source": [
    "# 데이터 불러오기\n",
    "file_path = './이륜차신고현황_연도별.csv'\n",
    "df = pd.read_csv(file_path)"
   ]
  },
  {
   "cell_type": "code",
   "execution_count": 43,
   "id": "8b07d179",
   "metadata": {
    "ExecuteTime": {
     "end_time": "2022-07-28T01:04:59.322867Z",
     "start_time": "2022-07-28T01:04:59.303041Z"
    }
   },
   "outputs": [
    {
     "data": {
      "text/html": [
       "<div>\n",
       "<style scoped>\n",
       "    .dataframe tbody tr th:only-of-type {\n",
       "        vertical-align: middle;\n",
       "    }\n",
       "\n",
       "    .dataframe tbody tr th {\n",
       "        vertical-align: top;\n",
       "    }\n",
       "\n",
       "    .dataframe thead th {\n",
       "        text-align: right;\n",
       "    }\n",
       "</style>\n",
       "<table border=\"1\" class=\"dataframe\">\n",
       "  <thead>\n",
       "    <tr style=\"text-align: right;\">\n",
       "      <th></th>\n",
       "      <th>년(Annual)</th>\n",
       "      <th>LEVEL1</th>\n",
       "      <th>LEVEL2</th>\n",
       "      <th>값</th>\n",
       "      <th>증감</th>\n",
       "      <th>증감율</th>\n",
       "      <th>구성비</th>\n",
       "      <th>누계</th>\n",
       "      <th>누계구성비</th>\n",
       "    </tr>\n",
       "  </thead>\n",
       "  <tbody>\n",
       "    <tr>\n",
       "      <th>0</th>\n",
       "      <td>2017</td>\n",
       "      <td>계</td>\n",
       "      <td>소계</td>\n",
       "      <td>2196475</td>\n",
       "      <td>2196475</td>\n",
       "      <td>2196475</td>\n",
       "      <td>0</td>\n",
       "      <td>0</td>\n",
       "      <td>0</td>\n",
       "    </tr>\n",
       "    <tr>\n",
       "      <th>1</th>\n",
       "      <td>2017</td>\n",
       "      <td>계</td>\n",
       "      <td>50cc미만</td>\n",
       "      <td>157657</td>\n",
       "      <td>157657</td>\n",
       "      <td>157657</td>\n",
       "      <td>0</td>\n",
       "      <td>0</td>\n",
       "      <td>0</td>\n",
       "    </tr>\n",
       "    <tr>\n",
       "      <th>2</th>\n",
       "      <td>2017</td>\n",
       "      <td>계</td>\n",
       "      <td>50cc이상</td>\n",
       "      <td>868990</td>\n",
       "      <td>868990</td>\n",
       "      <td>868990</td>\n",
       "      <td>0</td>\n",
       "      <td>0</td>\n",
       "      <td>0</td>\n",
       "    </tr>\n",
       "    <tr>\n",
       "      <th>3</th>\n",
       "      <td>2017</td>\n",
       "      <td>계</td>\n",
       "      <td>100cc초과</td>\n",
       "      <td>1084148</td>\n",
       "      <td>1084148</td>\n",
       "      <td>1084148</td>\n",
       "      <td>0</td>\n",
       "      <td>0</td>\n",
       "      <td>0</td>\n",
       "    </tr>\n",
       "    <tr>\n",
       "      <th>4</th>\n",
       "      <td>2017</td>\n",
       "      <td>계</td>\n",
       "      <td>260cc초과</td>\n",
       "      <td>85680</td>\n",
       "      <td>85680</td>\n",
       "      <td>85680</td>\n",
       "      <td>0</td>\n",
       "      <td>0</td>\n",
       "      <td>0</td>\n",
       "    </tr>\n",
       "    <tr>\n",
       "      <th>...</th>\n",
       "      <td>...</td>\n",
       "      <td>...</td>\n",
       "      <td>...</td>\n",
       "      <td>...</td>\n",
       "      <td>...</td>\n",
       "      <td>...</td>\n",
       "      <td>...</td>\n",
       "      <td>...</td>\n",
       "      <td>...</td>\n",
       "    </tr>\n",
       "    <tr>\n",
       "      <th>70</th>\n",
       "      <td>2021</td>\n",
       "      <td>자가용</td>\n",
       "      <td>소계</td>\n",
       "      <td>2188642</td>\n",
       "      <td>2188642</td>\n",
       "      <td>2188642</td>\n",
       "      <td>0</td>\n",
       "      <td>0</td>\n",
       "      <td>0</td>\n",
       "    </tr>\n",
       "    <tr>\n",
       "      <th>71</th>\n",
       "      <td>2021</td>\n",
       "      <td>자가용</td>\n",
       "      <td>50cc미만</td>\n",
       "      <td>128947</td>\n",
       "      <td>128947</td>\n",
       "      <td>128947</td>\n",
       "      <td>0</td>\n",
       "      <td>0</td>\n",
       "      <td>0</td>\n",
       "    </tr>\n",
       "    <tr>\n",
       "      <th>72</th>\n",
       "      <td>2021</td>\n",
       "      <td>자가용</td>\n",
       "      <td>50cc이상</td>\n",
       "      <td>774189</td>\n",
       "      <td>774189</td>\n",
       "      <td>774189</td>\n",
       "      <td>0</td>\n",
       "      <td>0</td>\n",
       "      <td>0</td>\n",
       "    </tr>\n",
       "    <tr>\n",
       "      <th>73</th>\n",
       "      <td>2021</td>\n",
       "      <td>자가용</td>\n",
       "      <td>100cc초과</td>\n",
       "      <td>1133667</td>\n",
       "      <td>1133667</td>\n",
       "      <td>1133667</td>\n",
       "      <td>0</td>\n",
       "      <td>0</td>\n",
       "      <td>0</td>\n",
       "    </tr>\n",
       "    <tr>\n",
       "      <th>74</th>\n",
       "      <td>2021</td>\n",
       "      <td>자가용</td>\n",
       "      <td>260cc초과</td>\n",
       "      <td>151839</td>\n",
       "      <td>151839</td>\n",
       "      <td>151839</td>\n",
       "      <td>0</td>\n",
       "      <td>0</td>\n",
       "      <td>0</td>\n",
       "    </tr>\n",
       "  </tbody>\n",
       "</table>\n",
       "<p>75 rows × 9 columns</p>\n",
       "</div>"
      ],
      "text/plain": [
       "    년(Annual) LEVEL1   LEVEL2        값       증감      증감율  구성비  누계  누계구성비\n",
       "0        2017      계       소계  2196475  2196475  2196475    0   0      0\n",
       "1        2017      계   50cc미만   157657   157657   157657    0   0      0\n",
       "2        2017      계   50cc이상   868990   868990   868990    0   0      0\n",
       "3        2017      계  100cc초과  1084148  1084148  1084148    0   0      0\n",
       "4        2017      계  260cc초과    85680    85680    85680    0   0      0\n",
       "..        ...    ...      ...      ...      ...      ...  ...  ..    ...\n",
       "70       2021    자가용       소계  2188642  2188642  2188642    0   0      0\n",
       "71       2021    자가용   50cc미만   128947   128947   128947    0   0      0\n",
       "72       2021    자가용   50cc이상   774189   774189   774189    0   0      0\n",
       "73       2021    자가용  100cc초과  1133667  1133667  1133667    0   0      0\n",
       "74       2021    자가용  260cc초과   151839   151839   151839    0   0      0\n",
       "\n",
       "[75 rows x 9 columns]"
      ]
     },
     "execution_count": 43,
     "metadata": {},
     "output_type": "execute_result"
    }
   ],
   "source": [
    "df"
   ]
  },
  {
   "cell_type": "code",
   "execution_count": 3,
   "id": "938d29df",
   "metadata": {
    "ExecuteTime": {
     "end_time": "2022-07-28T00:58:56.407165Z",
     "start_time": "2022-07-28T00:58:56.383333Z"
    }
   },
   "outputs": [
    {
     "name": "stdout",
     "output_type": "stream",
     "text": [
      "<class 'pandas.core.frame.DataFrame'>\n",
      "RangeIndex: 75 entries, 0 to 74\n",
      "Data columns (total 9 columns):\n",
      " #   Column     Non-Null Count  Dtype \n",
      "---  ------     --------------  ----- \n",
      " 0   년(Annual)  75 non-null     int64 \n",
      " 1   LEVEL1     75 non-null     object\n",
      " 2   LEVEL2     75 non-null     object\n",
      " 3   값          75 non-null     int64 \n",
      " 4   증감         75 non-null     int64 \n",
      " 5   증감율        75 non-null     int64 \n",
      " 6   구성비        75 non-null     int64 \n",
      " 7   누계         75 non-null     int64 \n",
      " 8   누계구성비      75 non-null     int64 \n",
      "dtypes: int64(7), object(2)\n",
      "memory usage: 5.4+ KB\n"
     ]
    }
   ],
   "source": [
    "df.info()"
   ]
  },
  {
   "cell_type": "code",
   "execution_count": 4,
   "id": "5edc8928",
   "metadata": {
    "ExecuteTime": {
     "end_time": "2022-07-28T00:58:57.416327Z",
     "start_time": "2022-07-28T00:58:57.408348Z"
    }
   },
   "outputs": [
    {
     "data": {
      "text/plain": [
       "Index(['년(Annual)', 'LEVEL1', 'LEVEL2', '값', '증감', '증감율', '구성비', '누계',\n",
       "       '누계구성비'],\n",
       "      dtype='object')"
      ]
     },
     "execution_count": 4,
     "metadata": {},
     "output_type": "execute_result"
    }
   ],
   "source": [
    "df.columns"
   ]
  },
  {
   "cell_type": "code",
   "execution_count": 5,
   "id": "ae26637e",
   "metadata": {
    "ExecuteTime": {
     "end_time": "2022-07-28T00:58:58.441528Z",
     "start_time": "2022-07-28T00:58:58.423576Z"
    }
   },
   "outputs": [],
   "source": [
    "# 필요부분 필터링\n",
    "data = df[(df['LEVEL1'] == '계')&(df['LEVEL2'] == '소계')]"
   ]
  },
  {
   "cell_type": "code",
   "execution_count": 6,
   "id": "18b70014",
   "metadata": {
    "ExecuteTime": {
     "end_time": "2022-07-28T00:58:59.454333Z",
     "start_time": "2022-07-28T00:58:59.417213Z"
    }
   },
   "outputs": [
    {
     "data": {
      "text/html": [
       "<div>\n",
       "<style scoped>\n",
       "    .dataframe tbody tr th:only-of-type {\n",
       "        vertical-align: middle;\n",
       "    }\n",
       "\n",
       "    .dataframe tbody tr th {\n",
       "        vertical-align: top;\n",
       "    }\n",
       "\n",
       "    .dataframe thead th {\n",
       "        text-align: right;\n",
       "    }\n",
       "</style>\n",
       "<table border=\"1\" class=\"dataframe\">\n",
       "  <thead>\n",
       "    <tr style=\"text-align: right;\">\n",
       "      <th></th>\n",
       "      <th>년(Annual)</th>\n",
       "      <th>LEVEL1</th>\n",
       "      <th>LEVEL2</th>\n",
       "      <th>값</th>\n",
       "      <th>증감</th>\n",
       "      <th>증감율</th>\n",
       "      <th>구성비</th>\n",
       "      <th>누계</th>\n",
       "      <th>누계구성비</th>\n",
       "    </tr>\n",
       "  </thead>\n",
       "  <tbody>\n",
       "    <tr>\n",
       "      <th>0</th>\n",
       "      <td>2017</td>\n",
       "      <td>계</td>\n",
       "      <td>소계</td>\n",
       "      <td>2196475</td>\n",
       "      <td>2196475</td>\n",
       "      <td>2196475</td>\n",
       "      <td>0</td>\n",
       "      <td>0</td>\n",
       "      <td>0</td>\n",
       "    </tr>\n",
       "    <tr>\n",
       "      <th>15</th>\n",
       "      <td>2018</td>\n",
       "      <td>계</td>\n",
       "      <td>소계</td>\n",
       "      <td>2208424</td>\n",
       "      <td>2208424</td>\n",
       "      <td>2208424</td>\n",
       "      <td>0</td>\n",
       "      <td>0</td>\n",
       "      <td>0</td>\n",
       "    </tr>\n",
       "    <tr>\n",
       "      <th>30</th>\n",
       "      <td>2019</td>\n",
       "      <td>계</td>\n",
       "      <td>소계</td>\n",
       "      <td>2236895</td>\n",
       "      <td>2236895</td>\n",
       "      <td>2236895</td>\n",
       "      <td>0</td>\n",
       "      <td>0</td>\n",
       "      <td>0</td>\n",
       "    </tr>\n",
       "    <tr>\n",
       "      <th>45</th>\n",
       "      <td>2020</td>\n",
       "      <td>계</td>\n",
       "      <td>소계</td>\n",
       "      <td>2289009</td>\n",
       "      <td>2289009</td>\n",
       "      <td>2289009</td>\n",
       "      <td>0</td>\n",
       "      <td>0</td>\n",
       "      <td>0</td>\n",
       "    </tr>\n",
       "    <tr>\n",
       "      <th>60</th>\n",
       "      <td>2021</td>\n",
       "      <td>계</td>\n",
       "      <td>소계</td>\n",
       "      <td>2213837</td>\n",
       "      <td>2213837</td>\n",
       "      <td>2213837</td>\n",
       "      <td>0</td>\n",
       "      <td>0</td>\n",
       "      <td>0</td>\n",
       "    </tr>\n",
       "  </tbody>\n",
       "</table>\n",
       "</div>"
      ],
      "text/plain": [
       "    년(Annual) LEVEL1 LEVEL2        값       증감      증감율  구성비  누계  누계구성비\n",
       "0        2017      계     소계  2196475  2196475  2196475    0   0      0\n",
       "15       2018      계     소계  2208424  2208424  2208424    0   0      0\n",
       "30       2019      계     소계  2236895  2236895  2236895    0   0      0\n",
       "45       2020      계     소계  2289009  2289009  2289009    0   0      0\n",
       "60       2021      계     소계  2213837  2213837  2213837    0   0      0"
      ]
     },
     "execution_count": 6,
     "metadata": {},
     "output_type": "execute_result"
    }
   ],
   "source": [
    "data"
   ]
  },
  {
   "cell_type": "code",
   "execution_count": 7,
   "id": "8a53ac9a",
   "metadata": {
    "ExecuteTime": {
     "end_time": "2022-07-28T00:59:00.373265Z",
     "start_time": "2022-07-28T00:59:00.358889Z"
    },
    "scrolled": true
   },
   "outputs": [],
   "source": [
    "data = data[['년(Annual)','값']].reset_index(drop=True)"
   ]
  },
  {
   "cell_type": "code",
   "execution_count": 8,
   "id": "e8e49dd8",
   "metadata": {
    "ExecuteTime": {
     "end_time": "2022-07-28T00:59:01.320157Z",
     "start_time": "2022-07-28T00:59:01.313173Z"
    }
   },
   "outputs": [],
   "source": [
    "# 컬럼명 변경\n",
    "data.columns = ['년', '이륜차 신고 수']"
   ]
  },
  {
   "cell_type": "code",
   "execution_count": 9,
   "id": "95b4fc71",
   "metadata": {
    "ExecuteTime": {
     "end_time": "2022-07-28T00:59:02.293878Z",
     "start_time": "2022-07-28T00:59:02.286901Z"
    }
   },
   "outputs": [],
   "source": [
    "data.set_index('년', inplace=True)"
   ]
  },
  {
   "cell_type": "code",
   "execution_count": 10,
   "id": "faabefbb",
   "metadata": {
    "ExecuteTime": {
     "end_time": "2022-07-28T00:59:03.241927Z",
     "start_time": "2022-07-28T00:59:03.216789Z"
    }
   },
   "outputs": [
    {
     "data": {
      "text/html": [
       "<div>\n",
       "<style scoped>\n",
       "    .dataframe tbody tr th:only-of-type {\n",
       "        vertical-align: middle;\n",
       "    }\n",
       "\n",
       "    .dataframe tbody tr th {\n",
       "        vertical-align: top;\n",
       "    }\n",
       "\n",
       "    .dataframe thead th {\n",
       "        text-align: right;\n",
       "    }\n",
       "</style>\n",
       "<table border=\"1\" class=\"dataframe\">\n",
       "  <thead>\n",
       "    <tr style=\"text-align: right;\">\n",
       "      <th></th>\n",
       "      <th>이륜차 신고 수</th>\n",
       "    </tr>\n",
       "    <tr>\n",
       "      <th>년</th>\n",
       "      <th></th>\n",
       "    </tr>\n",
       "  </thead>\n",
       "  <tbody>\n",
       "    <tr>\n",
       "      <th>2017</th>\n",
       "      <td>2196475</td>\n",
       "    </tr>\n",
       "    <tr>\n",
       "      <th>2018</th>\n",
       "      <td>2208424</td>\n",
       "    </tr>\n",
       "    <tr>\n",
       "      <th>2019</th>\n",
       "      <td>2236895</td>\n",
       "    </tr>\n",
       "    <tr>\n",
       "      <th>2020</th>\n",
       "      <td>2289009</td>\n",
       "    </tr>\n",
       "    <tr>\n",
       "      <th>2021</th>\n",
       "      <td>2213837</td>\n",
       "    </tr>\n",
       "  </tbody>\n",
       "</table>\n",
       "</div>"
      ],
      "text/plain": [
       "      이륜차 신고 수\n",
       "년             \n",
       "2017   2196475\n",
       "2018   2208424\n",
       "2019   2236895\n",
       "2020   2289009\n",
       "2021   2213837"
      ]
     },
     "execution_count": 10,
     "metadata": {},
     "output_type": "execute_result"
    }
   ],
   "source": [
    "data"
   ]
  },
  {
   "cell_type": "code",
   "execution_count": 12,
   "id": "b3563e57",
   "metadata": {
    "ExecuteTime": {
     "end_time": "2022-07-28T00:59:06.832382Z",
     "start_time": "2022-07-28T00:59:06.448811Z"
    },
    "scrolled": false
   },
   "outputs": [
    {
     "name": "stderr",
     "output_type": "stream",
     "text": [
      "C:\\Users\\admin\\AppData\\Local\\Temp\\ipykernel_7148\\215152806.py:9: UserWarning: FixedFormatter should only be used together with FixedLocator\n",
      "  plt.gca().set_yticklabels(['{:,.0f}'.format(x) for x in current_values])\n"
     ]
    },
    {
     "data": {
      "text/plain": [
       "<matplotlib.legend.Legend at 0x246eb527dc0>"
      ]
     },
     "execution_count": 12,
     "metadata": {},
     "output_type": "execute_result"
    },
    {
     "data": {
      "image/png": "[encoded data removed]",
      "text/plain": [
       "<Figure size 1440x720 with 1 Axes>"
      ]
     },
     "metadata": {
      "needs_background": "light"
     },
     "output_type": "display_data"
    }
   ],
   "source": [
    "# 시각화\n",
    "plt.rcParams['figure.figsize'] = (20,10)\n",
    "data.plot(kind='line', marker = \"o\")\n",
    "plt.title('전국 이륜차 신고 현황 (2017~2022)', size = 20, weight = 'bold', pad = 30)\n",
    "plt.rc('font', family = 'Malgun Gothic', size = 18)\n",
    "\n",
    "# 천단위콤마\n",
    "current_values = plt.gca().get_yticks()\n",
    "plt.gca().set_yticklabels(['{:,.0f}'.format(x) for x in current_values])\n",
    "\n",
    "\n",
    "plt.xticks(np.arange(2017,2022,1), rotation = 0)\n",
    "plt.legend()\n",
    "#plt.ylabel(\"이륜차 신고 수\")\n",
    "\n",
    "# # 숫자 넣는 부분, height + 0.25로 숫자 약간 위로 위치하게 조정\n",
    "# x = ['2017', '2018', '2019', '2020', '2021']\n",
    "# for i in range(x):\n",
    "#     height = data[i]\n",
    "#     plt.text(x[i], height + 0.25, '%.1f' %height, ha='center', va='bottom', size = 12)"
   ]
  },
  {
   "cell_type": "code",
   "execution_count": 40,
   "id": "56d8aa26",
   "metadata": {
    "ExecuteTime": {
     "end_time": "2022-07-28T01:03:20.093967Z",
     "start_time": "2022-07-28T01:03:19.945224Z"
    }
   },
   "outputs": [
    {
     "data": {
      "image/png": "[encoded data removed]",
      "text/plain": [
       "<Figure size 1440x720 with 1 Axes>"
      ]
     },
     "metadata": {
      "needs_background": "light"
     },
     "output_type": "display_data"
    }
   ],
   "source": [
    "plt.title('전국 이륜차 신고 현황 (2017~2022)', size = 28, weight = 'bold', pad = 30)\n",
    "plt.rc('font', family = 'Malgun Gothic', size = 20)\n",
    "\n",
    "x = ['2017년', '2018년', '2019년', '2020년', '2021년']\n",
    "y = [2196475, 2208424, 2236895, 2289009, 2213837]\n",
    "\n",
    "line_graph = plt.plot(x, y, 'o-', color = 'red')\n",
    "\n",
    "# 숫자 넣는 부분, height + 0.25로 숫자 약간 위로 위치하게 조정\n",
    "for i in range(len(x)):\n",
    "    height = y[i]\n",
    "    plt.text(x[i], height + 0.25, '%.1f' %height, ha='center', va='bottom', size = 20)\n",
    "\n",
    "plt.show()"
   ]
  },
  {
   "cell_type": "code",
   "execution_count": null,
   "id": "d9e00d73",
   "metadata": {},
   "outputs": [],
   "source": []
  },
  {
   "cell_type": "code",
   "execution_count": null,
   "id": "e0b1be3f",
   "metadata": {},
   "outputs": [],
   "source": []
  },
  {
   "cell_type": "code",
   "execution_count": null,
   "id": "8b41f9a0",
   "metadata": {},
   "outputs": [],
   "source": []
  }
 ],
 "metadata": {
  "kernelspec": {
   "display_name": "Python 3 (ipykernel)",
   "language": "python",
   "name": "python3"
  },
  "language_info": {
   "codemirror_mode": {
    "name": "ipython",
    "version": 3
   },
   "file_extension": ".py",
   "mimetype": "text/x-python",
   "name": "python",
   "nbconvert_exporter": "python",
   "pygments_lexer": "ipython3",
   "version": "3.9.12"
  },
  "toc": {
   "base_numbering": 1,
   "nav_menu": {},
   "number_sections": true,
   "sideBar": true,
   "skip_h1_title": false,
   "title_cell": "Table of Contents",
   "title_sidebar": "Contents",
   "toc_cell": false,
   "toc_position": {},
   "toc_section_display": true,
   "toc_window_display": false
  }
 },
 "nbformat": 4,
 "nbformat_minor": 5
}
