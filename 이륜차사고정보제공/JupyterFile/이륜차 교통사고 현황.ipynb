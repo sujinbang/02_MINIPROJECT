{
 "cells": [
  {
   "cell_type": "markdown",
   "id": "b5bf21d5",
   "metadata": {},
   "source": [
    "### 전국 이륜차 교통사고 현황 (2018~2021)"
   ]
  },
  {
   "cell_type": "code",
   "execution_count": 1,
   "id": "a15dedc3",
   "metadata": {
    "ExecuteTime": {
     "end_time": "2022-07-27T02:56:47.535482Z",
     "start_time": "2022-07-27T02:56:47.085234Z"
    }
   },
   "outputs": [],
   "source": [
    "import pandas as pd"
   ]
  },
  {
   "cell_type": "code",
   "execution_count": 2,
   "id": "f78a1288",
   "metadata": {
    "ExecuteTime": {
     "end_time": "2022-07-27T02:56:49.106169Z",
     "start_time": "2022-07-27T02:56:48.763266Z"
    }
   },
   "outputs": [],
   "source": [
    "# 파일 불러오기\n",
    "file_path = \"./2021년도기준 교통사고 현황(최근5년)_전국.xlsx\"\n",
    "df = pd.read_excel(file_path, header=2, skipfooter=6)"
   ]
  },
  {
   "cell_type": "code",
   "execution_count": 3,
   "id": "e1ea7d62",
   "metadata": {
    "ExecuteTime": {
     "end_time": "2022-07-27T02:56:52.034169Z",
     "start_time": "2022-07-27T02:56:52.019176Z"
    }
   },
   "outputs": [],
   "source": [
    "# 필요부분 가져오기\n",
    "df = df.loc[18:].reset_index(drop=True)"
   ]
  },
  {
   "cell_type": "code",
   "execution_count": 5,
   "id": "893b5c35",
   "metadata": {
    "ExecuteTime": {
     "end_time": "2022-07-27T02:57:15.330911Z",
     "start_time": "2022-07-27T02:57:15.324434Z"
    },
    "scrolled": true
   },
   "outputs": [],
   "source": [
    "df = df.drop([\"2017년\",\"유형\",\"구분\"], axis=1)"
   ]
  },
  {
   "cell_type": "code",
   "execution_count": 6,
   "id": "f5c9cbde",
   "metadata": {
    "ExecuteTime": {
     "end_time": "2022-07-27T02:57:18.202042Z",
     "start_time": "2022-07-27T02:57:18.189026Z"
    },
    "scrolled": false
   },
   "outputs": [
    {
     "data": {
      "text/html": [
       "<div>\n",
       "<style scoped>\n",
       "    .dataframe tbody tr th:only-of-type {\n",
       "        vertical-align: middle;\n",
       "    }\n",
       "\n",
       "    .dataframe tbody tr th {\n",
       "        vertical-align: top;\n",
       "    }\n",
       "\n",
       "    .dataframe thead th {\n",
       "        text-align: right;\n",
       "    }\n",
       "</style>\n",
       "<table border=\"1\" class=\"dataframe\">\n",
       "  <thead>\n",
       "    <tr style=\"text-align: right;\">\n",
       "      <th></th>\n",
       "      <th>2018년</th>\n",
       "      <th>2019년</th>\n",
       "      <th>2020년</th>\n",
       "      <th>2021년</th>\n",
       "    </tr>\n",
       "  </thead>\n",
       "  <tbody>\n",
       "    <tr>\n",
       "      <th>0</th>\n",
       "      <td>17611</td>\n",
       "      <td>20898</td>\n",
       "      <td>21258</td>\n",
       "      <td>20598</td>\n",
       "    </tr>\n",
       "    <tr>\n",
       "      <th>1</th>\n",
       "      <td>537</td>\n",
       "      <td>498</td>\n",
       "      <td>525</td>\n",
       "      <td>459</td>\n",
       "    </tr>\n",
       "    <tr>\n",
       "      <th>2</th>\n",
       "      <td>21621</td>\n",
       "      <td>26514</td>\n",
       "      <td>27348</td>\n",
       "      <td>26617</td>\n",
       "    </tr>\n",
       "  </tbody>\n",
       "</table>\n",
       "</div>"
      ],
      "text/plain": [
       "   2018년  2019년  2020년  2021년\n",
       "0  17611  20898  21258  20598\n",
       "1    537    498    525    459\n",
       "2  21621  26514  27348  26617"
      ]
     },
     "execution_count": 6,
     "metadata": {},
     "output_type": "execute_result"
    }
   ],
   "source": [
    "df"
   ]
  },
  {
   "cell_type": "code",
   "execution_count": 7,
   "id": "f69fbe03",
   "metadata": {
    "ExecuteTime": {
     "end_time": "2022-07-27T02:57:39.645030Z",
     "start_time": "2022-07-27T02:57:39.634806Z"
    }
   },
   "outputs": [],
   "source": [
    "df = df.T"
   ]
  },
  {
   "cell_type": "code",
   "execution_count": 8,
   "id": "ec5f2218",
   "metadata": {
    "ExecuteTime": {
     "end_time": "2022-07-27T02:57:40.795124Z",
     "start_time": "2022-07-27T02:57:40.787677Z"
    },
    "scrolled": true
   },
   "outputs": [],
   "source": [
    "# 컬럼명 추가\n",
    "df.columns = [\"사고건수\", \"사망자\", \"부상자\"]"
   ]
  },
  {
   "cell_type": "code",
   "execution_count": 9,
   "id": "380f196d",
   "metadata": {
    "ExecuteTime": {
     "end_time": "2022-07-27T02:57:41.848764Z",
     "start_time": "2022-07-27T02:57:41.835628Z"
    },
    "scrolled": true
   },
   "outputs": [
    {
     "data": {
      "text/html": [
       "<div>\n",
       "<style scoped>\n",
       "    .dataframe tbody tr th:only-of-type {\n",
       "        vertical-align: middle;\n",
       "    }\n",
       "\n",
       "    .dataframe tbody tr th {\n",
       "        vertical-align: top;\n",
       "    }\n",
       "\n",
       "    .dataframe thead th {\n",
       "        text-align: right;\n",
       "    }\n",
       "</style>\n",
       "<table border=\"1\" class=\"dataframe\">\n",
       "  <thead>\n",
       "    <tr style=\"text-align: right;\">\n",
       "      <th></th>\n",
       "      <th>사고건수</th>\n",
       "      <th>사망자</th>\n",
       "      <th>부상자</th>\n",
       "    </tr>\n",
       "  </thead>\n",
       "  <tbody>\n",
       "    <tr>\n",
       "      <th>2018년</th>\n",
       "      <td>17611</td>\n",
       "      <td>537</td>\n",
       "      <td>21621</td>\n",
       "    </tr>\n",
       "    <tr>\n",
       "      <th>2019년</th>\n",
       "      <td>20898</td>\n",
       "      <td>498</td>\n",
       "      <td>26514</td>\n",
       "    </tr>\n",
       "    <tr>\n",
       "      <th>2020년</th>\n",
       "      <td>21258</td>\n",
       "      <td>525</td>\n",
       "      <td>27348</td>\n",
       "    </tr>\n",
       "    <tr>\n",
       "      <th>2021년</th>\n",
       "      <td>20598</td>\n",
       "      <td>459</td>\n",
       "      <td>26617</td>\n",
       "    </tr>\n",
       "  </tbody>\n",
       "</table>\n",
       "</div>"
      ],
      "text/plain": [
       "        사고건수  사망자    부상자\n",
       "2018년  17611  537  21621\n",
       "2019년  20898  498  26514\n",
       "2020년  21258  525  27348\n",
       "2021년  20598  459  26617"
      ]
     },
     "execution_count": 9,
     "metadata": {},
     "output_type": "execute_result"
    }
   ],
   "source": [
    "df"
   ]
  },
  {
   "cell_type": "code",
   "execution_count": 10,
   "id": "4a1e9ba1",
   "metadata": {
    "ExecuteTime": {
     "end_time": "2022-07-27T02:57:59.715506Z",
     "start_time": "2022-07-27T02:57:59.036832Z"
    }
   },
   "outputs": [],
   "source": [
    "import matplotlib.pyplot as plt\n",
    "import matplotlib"
   ]
  },
  {
   "cell_type": "code",
   "execution_count": 12,
   "id": "a58fd2b3",
   "metadata": {
    "ExecuteTime": {
     "end_time": "2022-07-27T02:58:26.508480Z",
     "start_time": "2022-07-27T02:58:26.148666Z"
    },
    "scrolled": false
   },
   "outputs": [
    {
     "data": {
      "text/plain": [
       "<matplotlib.legend.Legend at 0x18872922610>"
      ]
     },
     "execution_count": 12,
     "metadata": {},
     "output_type": "execute_result"
    },
    {
     "data": {
      "image/png": "[encoded data removed]",
      "text/plain": [
       "<Figure size 1440x720 with 1 Axes>"
      ]
     },
     "metadata": {
      "needs_background": "light"
     },
     "output_type": "display_data"
    }
   ],
   "source": [
    "# 시각화\n",
    "df.plot(kind='line', marker =\"o\")\n",
    "plt.title('전국 이륜차 교통사고 현황 (2018~2021)', size = 20, weight = 'bold', pad = 30)\n",
    "plt.rc('font', family = 'Malgun Gothic', size = 18)\n",
    "plt.rcParams['figure.figsize'] = (20,10)\n",
    "plt.xticks(rotation = 0)\n",
    "plt.legend()"
   ]
  },
  {
   "cell_type": "markdown",
   "id": "740137e4",
   "metadata": {},
   "source": [
    "### 서울 이륜차 교통사고 현황(2018~2021)"
   ]
  },
  {
   "cell_type": "code",
   "execution_count": 13,
   "id": "a43491b3",
   "metadata": {
    "ExecuteTime": {
     "end_time": "2022-07-27T02:58:36.876388Z",
     "start_time": "2022-07-27T02:58:36.797622Z"
    }
   },
   "outputs": [],
   "source": [
    "# 파일 불러오기\n",
    "file_path = \"./2021년도기준 교통사고 현황(최근5년)_서울.xlsx\"\n",
    "df2 = pd.read_excel(file_path, header=2, skipfooter=6)"
   ]
  },
  {
   "cell_type": "code",
   "execution_count": 14,
   "id": "e70d4c36",
   "metadata": {
    "ExecuteTime": {
     "end_time": "2022-07-27T02:58:38.403172Z",
     "start_time": "2022-07-27T02:58:38.396641Z"
    }
   },
   "outputs": [],
   "source": [
    "# 필요부분 가져오기\n",
    "df2 = df2.loc[18:].reset_index(drop=True)"
   ]
  },
  {
   "cell_type": "code",
   "execution_count": 15,
   "id": "8697a9f5",
   "metadata": {
    "ExecuteTime": {
     "end_time": "2022-07-27T02:58:40.363598Z",
     "start_time": "2022-07-27T02:58:40.340660Z"
    }
   },
   "outputs": [
    {
     "data": {
      "text/html": [
       "<div>\n",
       "<style scoped>\n",
       "    .dataframe tbody tr th:only-of-type {\n",
       "        vertical-align: middle;\n",
       "    }\n",
       "\n",
       "    .dataframe tbody tr th {\n",
       "        vertical-align: top;\n",
       "    }\n",
       "\n",
       "    .dataframe thead th {\n",
       "        text-align: right;\n",
       "    }\n",
       "</style>\n",
       "<table border=\"1\" class=\"dataframe\">\n",
       "  <thead>\n",
       "    <tr style=\"text-align: right;\">\n",
       "      <th></th>\n",
       "      <th>구분</th>\n",
       "      <th>유형</th>\n",
       "      <th>2017년</th>\n",
       "      <th>2018년</th>\n",
       "      <th>2019년</th>\n",
       "      <th>2020년</th>\n",
       "      <th>2021년</th>\n",
       "    </tr>\n",
       "  </thead>\n",
       "  <tbody>\n",
       "    <tr>\n",
       "      <th>0</th>\n",
       "      <td>이륜차사고</td>\n",
       "      <td>사고건수</td>\n",
       "      <td>4258</td>\n",
       "      <td>3931</td>\n",
       "      <td>4625</td>\n",
       "      <td>4702</td>\n",
       "      <td>4540</td>\n",
       "    </tr>\n",
       "    <tr>\n",
       "      <th>1</th>\n",
       "      <td>NaN</td>\n",
       "      <td>사망자</td>\n",
       "      <td>61</td>\n",
       "      <td>39</td>\n",
       "      <td>49</td>\n",
       "      <td>50</td>\n",
       "      <td>46</td>\n",
       "    </tr>\n",
       "    <tr>\n",
       "      <th>2</th>\n",
       "      <td>NaN</td>\n",
       "      <td>부상자</td>\n",
       "      <td>5172</td>\n",
       "      <td>4918</td>\n",
       "      <td>5871</td>\n",
       "      <td>6017</td>\n",
       "      <td>5781</td>\n",
       "    </tr>\n",
       "  </tbody>\n",
       "</table>\n",
       "</div>"
      ],
      "text/plain": [
       "      구분    유형  2017년  2018년  2019년  2020년  2021년\n",
       "0  이륜차사고  사고건수   4258   3931   4625   4702   4540\n",
       "1    NaN   사망자     61     39     49     50     46\n",
       "2    NaN   부상자   5172   4918   5871   6017   5781"
      ]
     },
     "execution_count": 15,
     "metadata": {},
     "output_type": "execute_result"
    }
   ],
   "source": [
    "df2"
   ]
  },
  {
   "cell_type": "code",
   "execution_count": 16,
   "id": "8a44e953",
   "metadata": {
    "ExecuteTime": {
     "end_time": "2022-07-27T02:58:52.425465Z",
     "start_time": "2022-07-27T02:58:52.411501Z"
    }
   },
   "outputs": [],
   "source": [
    "df2 = df2.drop([\"2017년\",\"유형\",\"구분\"], axis=1)"
   ]
  },
  {
   "cell_type": "code",
   "execution_count": 17,
   "id": "0c3c70af",
   "metadata": {
    "ExecuteTime": {
     "end_time": "2022-07-27T02:58:53.542829Z",
     "start_time": "2022-07-27T02:58:53.531717Z"
    }
   },
   "outputs": [],
   "source": [
    "df2 = df2.T"
   ]
  },
  {
   "cell_type": "code",
   "execution_count": 18,
   "id": "97adb1e2",
   "metadata": {
    "ExecuteTime": {
     "end_time": "2022-07-27T02:58:54.474681Z",
     "start_time": "2022-07-27T02:58:54.452886Z"
    }
   },
   "outputs": [
    {
     "data": {
      "text/html": [
       "<div>\n",
       "<style scoped>\n",
       "    .dataframe tbody tr th:only-of-type {\n",
       "        vertical-align: middle;\n",
       "    }\n",
       "\n",
       "    .dataframe tbody tr th {\n",
       "        vertical-align: top;\n",
       "    }\n",
       "\n",
       "    .dataframe thead th {\n",
       "        text-align: right;\n",
       "    }\n",
       "</style>\n",
       "<table border=\"1\" class=\"dataframe\">\n",
       "  <thead>\n",
       "    <tr style=\"text-align: right;\">\n",
       "      <th></th>\n",
       "      <th>0</th>\n",
       "      <th>1</th>\n",
       "      <th>2</th>\n",
       "    </tr>\n",
       "  </thead>\n",
       "  <tbody>\n",
       "    <tr>\n",
       "      <th>2018년</th>\n",
       "      <td>3931</td>\n",
       "      <td>39</td>\n",
       "      <td>4918</td>\n",
       "    </tr>\n",
       "    <tr>\n",
       "      <th>2019년</th>\n",
       "      <td>4625</td>\n",
       "      <td>49</td>\n",
       "      <td>5871</td>\n",
       "    </tr>\n",
       "    <tr>\n",
       "      <th>2020년</th>\n",
       "      <td>4702</td>\n",
       "      <td>50</td>\n",
       "      <td>6017</td>\n",
       "    </tr>\n",
       "    <tr>\n",
       "      <th>2021년</th>\n",
       "      <td>4540</td>\n",
       "      <td>46</td>\n",
       "      <td>5781</td>\n",
       "    </tr>\n",
       "  </tbody>\n",
       "</table>\n",
       "</div>"
      ],
      "text/plain": [
       "          0   1     2\n",
       "2018년  3931  39  4918\n",
       "2019년  4625  49  5871\n",
       "2020년  4702  50  6017\n",
       "2021년  4540  46  5781"
      ]
     },
     "execution_count": 18,
     "metadata": {},
     "output_type": "execute_result"
    }
   ],
   "source": [
    "df2"
   ]
  },
  {
   "cell_type": "code",
   "execution_count": 19,
   "id": "01a8cb79",
   "metadata": {
    "ExecuteTime": {
     "end_time": "2022-07-27T02:58:55.409397Z",
     "start_time": "2022-07-27T02:58:55.404669Z"
    }
   },
   "outputs": [],
   "source": [
    "# 컬럼명 추가\n",
    "df2.columns = [\"사고건수\", \"사망자\", \"부상자\"]"
   ]
  },
  {
   "cell_type": "code",
   "execution_count": 20,
   "id": "0d7b5963",
   "metadata": {
    "ExecuteTime": {
     "end_time": "2022-07-27T02:58:57.657292Z",
     "start_time": "2022-07-27T02:58:57.638496Z"
    }
   },
   "outputs": [
    {
     "data": {
      "text/html": [
       "<div>\n",
       "<style scoped>\n",
       "    .dataframe tbody tr th:only-of-type {\n",
       "        vertical-align: middle;\n",
       "    }\n",
       "\n",
       "    .dataframe tbody tr th {\n",
       "        vertical-align: top;\n",
       "    }\n",
       "\n",
       "    .dataframe thead th {\n",
       "        text-align: right;\n",
       "    }\n",
       "</style>\n",
       "<table border=\"1\" class=\"dataframe\">\n",
       "  <thead>\n",
       "    <tr style=\"text-align: right;\">\n",
       "      <th></th>\n",
       "      <th>사고건수</th>\n",
       "      <th>사망자</th>\n",
       "      <th>부상자</th>\n",
       "    </tr>\n",
       "  </thead>\n",
       "  <tbody>\n",
       "    <tr>\n",
       "      <th>2018년</th>\n",
       "      <td>3931</td>\n",
       "      <td>39</td>\n",
       "      <td>4918</td>\n",
       "    </tr>\n",
       "    <tr>\n",
       "      <th>2019년</th>\n",
       "      <td>4625</td>\n",
       "      <td>49</td>\n",
       "      <td>5871</td>\n",
       "    </tr>\n",
       "    <tr>\n",
       "      <th>2020년</th>\n",
       "      <td>4702</td>\n",
       "      <td>50</td>\n",
       "      <td>6017</td>\n",
       "    </tr>\n",
       "    <tr>\n",
       "      <th>2021년</th>\n",
       "      <td>4540</td>\n",
       "      <td>46</td>\n",
       "      <td>5781</td>\n",
       "    </tr>\n",
       "  </tbody>\n",
       "</table>\n",
       "</div>"
      ],
      "text/plain": [
       "       사고건수  사망자   부상자\n",
       "2018년  3931   39  4918\n",
       "2019년  4625   49  5871\n",
       "2020년  4702   50  6017\n",
       "2021년  4540   46  5781"
      ]
     },
     "execution_count": 20,
     "metadata": {},
     "output_type": "execute_result"
    }
   ],
   "source": [
    "df2"
   ]
  },
  {
   "cell_type": "code",
   "execution_count": 22,
   "id": "f5f03cb9",
   "metadata": {
    "ExecuteTime": {
     "end_time": "2022-07-27T02:59:08.057574Z",
     "start_time": "2022-07-27T02:59:07.734227Z"
    },
    "scrolled": false
   },
   "outputs": [
    {
     "data": {
      "text/plain": [
       "<matplotlib.legend.Legend at 0x188729d5e50>"
      ]
     },
     "execution_count": 22,
     "metadata": {},
     "output_type": "execute_result"
    },
    {
     "data": {
      "image/png": "[encoded data removed]",
      "text/plain": [
       "<Figure size 1440x720 with 1 Axes>"
      ]
     },
     "metadata": {
      "needs_background": "light"
     },
     "output_type": "display_data"
    }
   ],
   "source": [
    "# 시각화\n",
    "df2.plot(kind='line', marker=\"o\")\n",
    "plt.title('서울 이륜차 교통사고 현황 (2018~2021)', size = 20, weight = 'bold', pad = 30)\n",
    "plt.rc('font', family = 'Malgun Gothic', size = 18)\n",
    "plt.rcParams['figure.figsize'] = (20,10)\n",
    "plt.xticks(rotation = 0)\n",
    "plt.legend(loc=\"upper left\")"
   ]
  },
  {
   "cell_type": "markdown",
   "id": "a2f10273",
   "metadata": {},
   "source": [
    "### 그래프꾸미기\n",
    "##### 전국"
   ]
  },
  {
   "cell_type": "code",
   "execution_count": 31,
   "id": "01e93c97",
   "metadata": {
    "ExecuteTime": {
     "end_time": "2022-07-27T03:05:03.155269Z",
     "start_time": "2022-07-27T03:05:02.972200Z"
    },
    "scrolled": false
   },
   "outputs": [
    {
     "name": "stderr",
     "output_type": "stream",
     "text": [
      "C:\\Users\\admin\\AppData\\Local\\Temp\\ipykernel_4244\\2764305438.py:15: UserWarning: FixedFormatter should only be used together with FixedLocator\n",
      "  plt.gca().set_yticklabels(['{:,.0f}'.format(x) for x in current_values])\n"
     ]
    },
    {
     "data": {
      "image/png": "[encoded data removed]",
      "text/plain": [
       "<Figure size 1440x720 with 2 Axes>"
      ]
     },
     "metadata": {
      "needs_background": "light"
     },
     "output_type": "display_data"
    }
   ],
   "source": [
    "# 그래프 크기 지정하기 = 너비, 높이\n",
    "plt.rcParams['figure.figsize'] = (20,10)\n",
    "# 선의 두께 지정\n",
    "plt.rcParams['lines.linewidth'] = 2\n",
    "# 폰트지정\n",
    "plt.rc(\"font\", family = \"Malgun Gothic\", size=10)\n",
    "\n",
    "ax1 = df[['사고건수','부상자']].plot.bar(stacked=False, color = ['red','navy'])\n",
    "\n",
    "# x축\n",
    "plt.xticks([i for i in range(0,4,1)], ['2018','2019','2020','2021'], rotation = 0, fontsize='15')\n",
    "\n",
    "# 천단위콤마\n",
    "current_values = plt.gca().get_yticks()\n",
    "plt.gca().set_yticklabels(['{:,.0f}'.format(x) for x in current_values])\n",
    "\n",
    "# title\n",
    "plt.title(\"전국 이륜차 교통사고 현황 (2018~2021)\", size = 20, weight = 'bold', pad = 30)\n",
    "plt.xlabel(\"년도\", fontsize='15')\n",
    "plt.legend(loc=\"upper left\")\n",
    "\n",
    "# 범례 위치 변경하기\n",
    "plt.legend(loc=\"upper left\")\n",
    "\n",
    "ax2 = ax1.twinx()\n",
    "ax2 = df['사망자'].plot(color = 'darkorange', linewidth = 5, marker='o', markersize = 15)\n",
    "\n",
    "#plt.ylabel(\"사망자 수\")\n",
    "# x축\n",
    "plt.xticks([i for i in range(0,4,1)], ['2018','2019','2020','2021'], rotation = 0)\n",
    "# y축 범위\n",
    "plt.ylim(300,600)\n",
    "#범례 위치 변경하기\n",
    "plt.legend(loc=\"upper right\")\n",
    "\n",
    "plt.show()\n"
   ]
  },
  {
   "cell_type": "markdown",
   "id": "4aafe8c4",
   "metadata": {},
   "source": [
    "##### 서울"
   ]
  },
  {
   "cell_type": "code",
   "execution_count": 30,
   "id": "5865436e",
   "metadata": {
    "ExecuteTime": {
     "end_time": "2022-07-27T03:03:03.365130Z",
     "start_time": "2022-07-27T03:03:03.169559Z"
    }
   },
   "outputs": [
    {
     "name": "stderr",
     "output_type": "stream",
     "text": [
      "C:\\Users\\admin\\AppData\\Local\\Temp\\ipykernel_4244\\2268907652.py:15: UserWarning: FixedFormatter should only be used together with FixedLocator\n",
      "  plt.gca().set_yticklabels(['{:,.0f}'.format(x) for x in current_values])\n"
     ]
    },
    {
     "data": {
      "image/png": "[encoded data removed]",
      "text/plain": [
       "<Figure size 1440x720 with 2 Axes>"
      ]
     },
     "metadata": {
      "needs_background": "light"
     },
     "output_type": "display_data"
    }
   ],
   "source": [
    "# 그래프 크기 지정하기 = 너비, 높이\n",
    "plt.rcParams['figure.figsize'] = (20,10)\n",
    "# 선의 두께 지정\n",
    "plt.rcParams['lines.linewidth'] = 2\n",
    "# 폰트지정\n",
    "plt.rc(\"font\", family = \"Malgun Gothic\", size=10)\n",
    "\n",
    "ax1 = df2[['사고건수','부상자']].plot.bar(stacked=False, color = ['red','navy'])\n",
    "\n",
    "# x축\n",
    "plt.xticks([i for i in range(0,4,1)], ['2018','2019','2020','2021'], rotation = 0, fontsize='15')\n",
    "\n",
    "# 천단위콤마\n",
    "current_values = plt.gca().get_yticks()\n",
    "plt.gca().set_yticklabels(['{:,.0f}'.format(x) for x in current_values])\n",
    "\n",
    "# title\n",
    "plt.title(\"서울 이륜차 교통사고 현황 (2018~2021)\", size = 20, weight = 'bold', pad = 30)\n",
    "plt.xlabel(\"년도\", fontsize='15')\n",
    "plt.legend(loc=\"upper left\")\n",
    "\n",
    "# 범례 위치 변경하기\n",
    "plt.legend(loc=\"upper left\")\n",
    "\n",
    "ax2 = ax1.twinx()\n",
    "ax2 = df2['사망자'].plot(color = 'darkorange', linewidth = 5, marker='o', markersize = 15)\n",
    "\n",
    "#plt.ylabel(\"사망자 수\")\n",
    "# x축\n",
    "plt.xticks([i for i in range(0,4,1)], ['2018','2019','2020','2021'], rotation = 0)\n",
    "# y축 범위\n",
    "plt.ylim(10,65)\n",
    "#범례 위치 변경하기\n",
    "plt.legend(loc=\"upper right\")\n",
    "\n",
    "plt.show()\n"
   ]
  },
  {
   "cell_type": "code",
   "execution_count": null,
   "id": "221d86f7",
   "metadata": {},
   "outputs": [],
   "source": []
  },
  {
   "cell_type": "code",
   "execution_count": null,
   "id": "53b1130e",
   "metadata": {},
   "outputs": [],
   "source": []
  },
  {
   "cell_type": "code",
   "execution_count": null,
   "id": "17734b81",
   "metadata": {},
   "outputs": [],
   "source": []
  },
  {
   "cell_type": "code",
   "execution_count": null,
   "id": "8847fc3d",
   "metadata": {},
   "outputs": [],
   "source": []
  }
 ],
 "metadata": {
  "kernelspec": {
   "display_name": "Python 3 (ipykernel)",
   "language": "python",
   "name": "python3"
  },
  "language_info": {
   "codemirror_mode": {
    "name": "ipython",
    "version": 3
   },
   "file_extension": ".py",
   "mimetype": "text/x-python",
   "name": "python",
   "nbconvert_exporter": "python",
   "pygments_lexer": "ipython3",
   "version": "3.9.12"
  },
  "toc": {
   "base_numbering": 1,
   "nav_menu": {},
   "number_sections": true,
   "sideBar": true,
   "skip_h1_title": false,
   "title_cell": "Table of Contents",
   "title_sidebar": "Contents",
   "toc_cell": false,
   "toc_position": {
    "height": "calc(100% - 180px)",
    "left": "10px",
    "top": "150px",
    "width": "165px"
   },
   "toc_section_display": true,
   "toc_window_display": false
  }
 },
 "nbformat": 4,
 "nbformat_minor": 5
}
