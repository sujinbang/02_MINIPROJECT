{
 "cells": [
  {
   "cell_type": "markdown",
   "id": "cbe0b579",
   "metadata": {},
   "source": [
    "### 헬멧유무와 사망자율"
   ]
  },
  {
   "cell_type": "code",
   "execution_count": 16,
   "id": "f4adef77",
   "metadata": {
    "ExecuteTime": {
     "end_time": "2022-07-26T05:26:35.794002Z",
     "start_time": "2022-07-26T05:26:35.765029Z"
    },
    "scrolled": false
   },
   "outputs": [
    {
     "data": {
      "text/html": [
       "<div>\n",
       "<style scoped>\n",
       "    .dataframe tbody tr th:only-of-type {\n",
       "        vertical-align: middle;\n",
       "    }\n",
       "\n",
       "    .dataframe tbody tr th {\n",
       "        vertical-align: top;\n",
       "    }\n",
       "\n",
       "    .dataframe thead th {\n",
       "        text-align: right;\n",
       "    }\n",
       "</style>\n",
       "<table border=\"1\" class=\"dataframe\">\n",
       "  <thead>\n",
       "    <tr style=\"text-align: right;\">\n",
       "      <th></th>\n",
       "      <th>건수</th>\n",
       "      <th>내원</th>\n",
       "      <th>입원</th>\n",
       "      <th>사망</th>\n",
       "      <th>사망자율</th>\n",
       "      <th>내원.1</th>\n",
       "      <th>입원.1</th>\n",
       "      <th>사망.1</th>\n",
       "      <th>사망자율.1</th>\n",
       "      <th>내원.2</th>\n",
       "      <th>입원.2</th>\n",
       "      <th>사망.2</th>\n",
       "      <th>사망자율.2</th>\n",
       "    </tr>\n",
       "  </thead>\n",
       "  <tbody>\n",
       "    <tr>\n",
       "      <th>0</th>\n",
       "      <td>오토바이 헬멧</td>\n",
       "      <td>6108</td>\n",
       "      <td>2171</td>\n",
       "      <td>174</td>\n",
       "      <td>2.848723</td>\n",
       "      <td>6459</td>\n",
       "      <td>2104</td>\n",
       "      <td>184</td>\n",
       "      <td>2.848738</td>\n",
       "      <td>5860</td>\n",
       "      <td>1957</td>\n",
       "      <td>199</td>\n",
       "      <td>3.395904</td>\n",
       "    </tr>\n",
       "    <tr>\n",
       "      <th>1</th>\n",
       "      <td>착용</td>\n",
       "      <td>3892</td>\n",
       "      <td>1181</td>\n",
       "      <td>57</td>\n",
       "      <td>1.464543</td>\n",
       "      <td>4406</td>\n",
       "      <td>1256</td>\n",
       "      <td>72</td>\n",
       "      <td>1.634135</td>\n",
       "      <td>4270</td>\n",
       "      <td>1284</td>\n",
       "      <td>83</td>\n",
       "      <td>1.943794</td>\n",
       "    </tr>\n",
       "    <tr>\n",
       "      <th>2</th>\n",
       "      <td>미착용</td>\n",
       "      <td>1807</td>\n",
       "      <td>740</td>\n",
       "      <td>76</td>\n",
       "      <td>4.205866</td>\n",
       "      <td>1743</td>\n",
       "      <td>685</td>\n",
       "      <td>80</td>\n",
       "      <td>4.589788</td>\n",
       "      <td>1357</td>\n",
       "      <td>539</td>\n",
       "      <td>83</td>\n",
       "      <td>6.116433</td>\n",
       "    </tr>\n",
       "    <tr>\n",
       "      <th>3</th>\n",
       "      <td>미상</td>\n",
       "      <td>409</td>\n",
       "      <td>250</td>\n",
       "      <td>41</td>\n",
       "      <td>10.024450</td>\n",
       "      <td>310</td>\n",
       "      <td>163</td>\n",
       "      <td>32</td>\n",
       "      <td>10.322581</td>\n",
       "      <td>233</td>\n",
       "      <td>134</td>\n",
       "      <td>33</td>\n",
       "      <td>14.163090</td>\n",
       "    </tr>\n",
       "  </tbody>\n",
       "</table>\n",
       "</div>"
      ],
      "text/plain": [
       "        건수    내원    입원   사망       사망자율  내원.1  입원.1  사망.1     사망자율.1  내원.2  \\\n",
       "0  오토바이 헬멧  6108  2171  174   2.848723  6459  2104   184   2.848738  5860   \n",
       "1       착용  3892  1181   57   1.464543  4406  1256    72   1.634135  4270   \n",
       "2      미착용  1807   740   76   4.205866  1743   685    80   4.589788  1357   \n",
       "3       미상   409   250   41  10.024450   310   163    32  10.322581   233   \n",
       "\n",
       "   입원.2  사망.2     사망자율.2  \n",
       "0  1957   199   3.395904  \n",
       "1  1284    83   1.943794  \n",
       "2   539    83   6.116433  \n",
       "3   134    33  14.163090  "
      ]
     },
     "execution_count": 16,
     "metadata": {},
     "output_type": "execute_result"
    }
   ],
   "source": [
    "df = pd.read_csv('./년도별 오토바이헬멧유무데이터.csv')\n",
    "df = df.drop(['Unnamed: 0'], axis=1)\n",
    "df"
   ]
  },
  {
   "cell_type": "code",
   "execution_count": 37,
   "id": "469ddd61",
   "metadata": {
    "ExecuteTime": {
     "end_time": "2022-07-26T05:57:07.502762Z",
     "start_time": "2022-07-26T05:57:07.481614Z"
    },
    "scrolled": false
   },
   "outputs": [
    {
     "name": "stdout",
     "output_type": "stream",
     "text": [
      "사망      57\n",
      "사망.1    72\n",
      "사망.2    83\n",
      "Name: 1, dtype: int64\n",
      "----------------------------------------------\n",
      "사망      76\n",
      "사망.1    80\n",
      "사망.2    83\n",
      "Name: 2, dtype: int64\n"
     ]
    }
   ],
   "source": [
    "# 헬멧 착용 - 사망자\n",
    "YDhelmet = df[[\"사망\",\"사망.1\",'사망.2']].iloc[1]\n",
    "print(YDhelmet)\n",
    "\n",
    "print(\"----------------------------------------------\")\n",
    "\n",
    "# 헬멧 미착용 - 사망자\n",
    "NDhelmet = df[[\"사망\",\"사망.1\",'사망.2']].iloc[2]\n",
    "print(NDhelmet)"
   ]
  },
  {
   "cell_type": "markdown",
   "id": "5559b3c1",
   "metadata": {},
   "source": [
    "#### 귀무가설 : 헬멧을 착용하면 사망자가 늘어난다\n",
    "#### 대립가설 : 헬멧을 착용하면 사망자가 줄어든다. "
   ]
  },
  {
   "cell_type": "code",
   "execution_count": 38,
   "id": "7f11a18e",
   "metadata": {
    "ExecuteTime": {
     "end_time": "2022-07-26T05:57:50.308155Z",
     "start_time": "2022-07-26T05:57:50.296188Z"
    }
   },
   "outputs": [
    {
     "name": "stdout",
     "output_type": "stream",
     "text": [
      "YDhelmet =  [57, 72, 83]\n",
      "NDhelmet =  [76, 80, 83]\n",
      "검정 결과 =  Ttest_relResult(statistic=3.664567878068179, pvalue=0.0016475455402811643)\n",
      "t-검정 통계량(오차율) = 3.665, p-value = 0.002\n"
     ]
    }
   ],
   "source": [
    "from scipy import stats\n",
    "import numpy as np\n",
    "\n",
    "#  헬멧 착용 - 사망자\n",
    "YDhelmet = [57, 72, 83]\n",
    "print(\"YDhelmet = \", YDhelmet)\n",
    "\n",
    "# 헬멧 미착용 - 사망자\n",
    "NDhelmet = [76, 80, 83]\n",
    "print(\"NDhelmet = \", NDhelmet)\n",
    "\n",
    "# 전/후 검증하기\n",
    "result = stats.ttest_rel(beforeWeights, afterWeights)\n",
    "\n",
    "print(\"검정 결과 = \" , result)\n",
    "print(\"t-검정 통계량(오차율) = %.3f, p-value = %.3f\" %(result))\n",
    "\n",
    "# (해석 - 검증결과)\n",
    "# 1. p-value = 0.002 < 0.05 이므로, 귀무가설 기각\n",
    "# 2. 대립가설 채택 : 헬멧을 착용하면 사망자가 줄어든다. "
   ]
  }
 ],
 "metadata": {
  "kernelspec": {
   "display_name": "Python 3 (ipykernel)",
   "language": "python",
   "name": "python3"
  },
  "language_info": {
   "codemirror_mode": {
    "name": "ipython",
    "version": 3
   },
   "file_extension": ".py",
   "mimetype": "text/x-python",
   "name": "python",
   "nbconvert_exporter": "python",
   "pygments_lexer": "ipython3",
   "version": "3.9.12"
  },
  "toc": {
   "base_numbering": 1,
   "nav_menu": {},
   "number_sections": true,
   "sideBar": true,
   "skip_h1_title": false,
   "title_cell": "Table of Contents",
   "title_sidebar": "Contents",
   "toc_cell": false,
   "toc_position": {},
   "toc_section_display": true,
   "toc_window_display": false
  }
 },
 "nbformat": 4,
 "nbformat_minor": 5
}
