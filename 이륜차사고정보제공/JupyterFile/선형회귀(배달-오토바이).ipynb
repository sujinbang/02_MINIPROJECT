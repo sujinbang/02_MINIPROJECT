{
 "cells": [
  {
   "cell_type": "code",
   "execution_count": 1,
   "id": "da062ecf-1140-499c-a02b-f65e3d163310",
   "metadata": {},
   "outputs": [],
   "source": [
    "import pandas as pd"
   ]
  },
  {
   "cell_type": "code",
   "execution_count": 56,
   "id": "9ce889b2-48f6-4e7c-81ef-5e67467f2001",
   "metadata": {
    "tags": []
   },
   "outputs": [
    {
     "data": {
      "text/html": [
       "<div>\n",
       "<style scoped>\n",
       "    .dataframe tbody tr th:only-of-type {\n",
       "        vertical-align: middle;\n",
       "    }\n",
       "\n",
       "    .dataframe tbody tr th {\n",
       "        vertical-align: top;\n",
       "    }\n",
       "\n",
       "    .dataframe thead th {\n",
       "        text-align: right;\n",
       "    }\n",
       "</style>\n",
       "<table border=\"1\" class=\"dataframe\">\n",
       "  <thead>\n",
       "    <tr style=\"text-align: right;\">\n",
       "      <th></th>\n",
       "      <th>종사자수</th>\n",
       "    </tr>\n",
       "  </thead>\n",
       "  <tbody>\n",
       "    <tr>\n",
       "      <th>0</th>\n",
       "      <td>355000</td>\n",
       "    </tr>\n",
       "    <tr>\n",
       "      <th>1</th>\n",
       "      <td>313000</td>\n",
       "    </tr>\n",
       "    <tr>\n",
       "      <th>2</th>\n",
       "      <td>343000</td>\n",
       "    </tr>\n",
       "    <tr>\n",
       "      <th>3</th>\n",
       "      <td>371000</td>\n",
       "    </tr>\n",
       "    <tr>\n",
       "      <th>4</th>\n",
       "      <td>423000</td>\n",
       "    </tr>\n",
       "  </tbody>\n",
       "</table>\n",
       "</div>"
      ],
      "text/plain": [
       "     종사자수\n",
       "0  355000\n",
       "1  313000\n",
       "2  343000\n",
       "3  371000\n",
       "4  423000"
      ]
     },
     "execution_count": 56,
     "metadata": {},
     "output_type": "execute_result"
    }
   ],
   "source": [
    "df = pd.read_csv('./data/배달원(전처리).csv')\n",
    "\n",
    "df.reset_index()\n",
    "df = df[['종사자수']]\n",
    "df"
   ]
  },
  {
   "cell_type": "code",
   "execution_count": 49,
   "id": "fbb5d2a2-2ef9-42af-9673-700efaa1a02c",
   "metadata": {},
   "outputs": [],
   "source": [
    "# list=[]\n",
    "# a = df.iloc[1,0] - df.iloc[0,0]\n",
    "# b = df.iloc[2,0] - df.iloc[1,0]\n",
    "# c = df.iloc[3,0] - df.iloc[2,0]\n",
    "# list = [a,b,c]\n",
    "# list"
   ]
  },
  {
   "cell_type": "markdown",
   "id": "1bf6203e-df6c-4369-b1d6-f3ab57571ae8",
   "metadata": {},
   "source": [
    "# 사고건수"
   ]
  },
  {
   "cell_type": "code",
   "execution_count": 50,
   "id": "96ff921c-dab0-47e2-bfa2-ccc4a1ee1c03",
   "metadata": {},
   "outputs": [
    {
     "data": {
      "text/html": [
       "<div>\n",
       "<style scoped>\n",
       "    .dataframe tbody tr th:only-of-type {\n",
       "        vertical-align: middle;\n",
       "    }\n",
       "\n",
       "    .dataframe tbody tr th {\n",
       "        vertical-align: top;\n",
       "    }\n",
       "\n",
       "    .dataframe thead th {\n",
       "        text-align: right;\n",
       "    }\n",
       "</style>\n",
       "<table border=\"1\" class=\"dataframe\">\n",
       "  <thead>\n",
       "    <tr style=\"text-align: right;\">\n",
       "      <th></th>\n",
       "      <th>기준년도</th>\n",
       "      <th>2017</th>\n",
       "      <th>2018</th>\n",
       "      <th>2019</th>\n",
       "      <th>2020</th>\n",
       "      <th>2021</th>\n",
       "    </tr>\n",
       "  </thead>\n",
       "  <tbody>\n",
       "    <tr>\n",
       "      <th>0</th>\n",
       "      <td>사고건수</td>\n",
       "      <td>18241.0</td>\n",
       "      <td>17611.0</td>\n",
       "      <td>20898.0</td>\n",
       "      <td>21258.0</td>\n",
       "      <td>20598.0</td>\n",
       "    </tr>\n",
       "    <tr>\n",
       "      <th>1</th>\n",
       "      <td>사망자수</td>\n",
       "      <td>564.0</td>\n",
       "      <td>537.0</td>\n",
       "      <td>498.0</td>\n",
       "      <td>525.0</td>\n",
       "      <td>459.0</td>\n",
       "    </tr>\n",
       "    <tr>\n",
       "      <th>2</th>\n",
       "      <td>부상자수</td>\n",
       "      <td>22082.0</td>\n",
       "      <td>21621.0</td>\n",
       "      <td>26514.0</td>\n",
       "      <td>27348.0</td>\n",
       "      <td>26617.0</td>\n",
       "    </tr>\n",
       "  </tbody>\n",
       "</table>\n",
       "</div>"
      ],
      "text/plain": [
       "   기준년도     2017     2018     2019     2020     2021\n",
       "0  사고건수  18241.0  17611.0  20898.0  21258.0  20598.0\n",
       "1  사망자수    564.0    537.0    498.0    525.0    459.0\n",
       "2  부상자수  22082.0  21621.0  26514.0  27348.0  26617.0"
      ]
     },
     "execution_count": 50,
     "metadata": {},
     "output_type": "execute_result"
    }
   ],
   "source": [
    "df_2 = pd.read_csv('./data/사고건수.csv')\n",
    "df_2"
   ]
  },
  {
   "cell_type": "markdown",
   "id": "9ecff767-a15a-41d4-a828-d0b8d93d180a",
   "metadata": {},
   "source": [
    "# 사고율"
   ]
  },
  {
   "cell_type": "code",
   "execution_count": 59,
   "id": "64e9531c-258b-43b6-b2b2-f19cfd82bbef",
   "metadata": {
    "tags": []
   },
   "outputs": [],
   "source": [
    "df_3 = pd.read_excel('./data/2021년도기준 교통사고 현황(최근5년)_전국.xlsx', header = 2)\n",
    "df_3 = df_3[df_3['유형']=='사고건수']\n",
    "df_3 = df_3.loc[[0,18],:]\n",
    "df_3 = df_3.T"
   ]
  },
  {
   "cell_type": "code",
   "execution_count": 60,
   "id": "e62bf2ed-430a-4fa6-b973-2a53e76dfd42",
   "metadata": {},
   "outputs": [
    {
     "data": {
      "text/html": [
       "<div>\n",
       "<style scoped>\n",
       "    .dataframe tbody tr th:only-of-type {\n",
       "        vertical-align: middle;\n",
       "    }\n",
       "\n",
       "    .dataframe tbody tr th {\n",
       "        vertical-align: top;\n",
       "    }\n",
       "\n",
       "    .dataframe thead th {\n",
       "        text-align: right;\n",
       "    }\n",
       "</style>\n",
       "<table border=\"1\" class=\"dataframe\">\n",
       "  <thead>\n",
       "    <tr style=\"text-align: right;\">\n",
       "      <th></th>\n",
       "      <th>전체사고</th>\n",
       "      <th>이륜차사고</th>\n",
       "    </tr>\n",
       "  </thead>\n",
       "  <tbody>\n",
       "    <tr>\n",
       "      <th>2017년</th>\n",
       "      <td>216335</td>\n",
       "      <td>18241</td>\n",
       "    </tr>\n",
       "    <tr>\n",
       "      <th>2018년</th>\n",
       "      <td>217148</td>\n",
       "      <td>17611</td>\n",
       "    </tr>\n",
       "    <tr>\n",
       "      <th>2019년</th>\n",
       "      <td>229600</td>\n",
       "      <td>20898</td>\n",
       "    </tr>\n",
       "    <tr>\n",
       "      <th>2020년</th>\n",
       "      <td>209654</td>\n",
       "      <td>21258</td>\n",
       "    </tr>\n",
       "    <tr>\n",
       "      <th>2021년</th>\n",
       "      <td>203130</td>\n",
       "      <td>20598</td>\n",
       "    </tr>\n",
       "  </tbody>\n",
       "</table>\n",
       "</div>"
      ],
      "text/plain": [
       "         전체사고  이륜차사고\n",
       "2017년  216335  18241\n",
       "2018년  217148  17611\n",
       "2019년  229600  20898\n",
       "2020년  209654  21258\n",
       "2021년  203130  20598"
      ]
     },
     "execution_count": 60,
     "metadata": {},
     "output_type": "execute_result"
    }
   ],
   "source": [
    "df_3 = df_3.rename(columns=df_3.loc['구분'])\n",
    "df_3 = df_3.drop(['구분','유형'])\n",
    "df_3"
   ]
  },
  {
   "cell_type": "code",
   "execution_count": 28,
   "id": "9c105c7d-6e99-419b-830f-9809d4db9c53",
   "metadata": {},
   "outputs": [],
   "source": [
    "df_3['사고율'] = df_3['이륜차사고'] / df_3['전체사고'] * 100\n",
    "df_3 = df_3[['사고율']]\n",
    "df_3 = df_3.reset_index(drop=True)"
   ]
  },
  {
   "cell_type": "code",
   "execution_count": 29,
   "id": "177073e6-154d-4453-b8a4-96fb2cfedd54",
   "metadata": {},
   "outputs": [
    {
     "name": "stdout",
     "output_type": "stream",
     "text": [
      "<class 'pandas.core.series.Series'>\n",
      "RangeIndex: 5 entries, 0 to 4\n",
      "Series name: 사고율\n",
      "Non-Null Count  Dtype  \n",
      "--------------  -----  \n",
      "5 non-null      float64\n",
      "dtypes: float64(1)\n",
      "memory usage: 168.0 bytes\n"
     ]
    }
   ],
   "source": [
    "df_3['사고율'] = df_3['사고율'].astype(float)\n",
    "df_3['사고율'].info()"
   ]
  },
  {
   "cell_type": "markdown",
   "id": "48da888b-8c42-4b65-a573-0e6dd7b83bd6",
   "metadata": {},
   "source": [
    "# Concat"
   ]
  },
  {
   "cell_type": "code",
   "execution_count": 30,
   "id": "5242a6d4-3862-449d-8291-c3905675ac2b",
   "metadata": {},
   "outputs": [
    {
     "data": {
      "text/html": [
       "<div>\n",
       "<style scoped>\n",
       "    .dataframe tbody tr th:only-of-type {\n",
       "        vertical-align: middle;\n",
       "    }\n",
       "\n",
       "    .dataframe tbody tr th {\n",
       "        vertical-align: top;\n",
       "    }\n",
       "\n",
       "    .dataframe thead th {\n",
       "        text-align: right;\n",
       "    }\n",
       "</style>\n",
       "<table border=\"1\" class=\"dataframe\">\n",
       "  <thead>\n",
       "    <tr style=\"text-align: right;\">\n",
       "      <th></th>\n",
       "      <th>종사자수</th>\n",
       "      <th>사고율</th>\n",
       "    </tr>\n",
       "  </thead>\n",
       "  <tbody>\n",
       "    <tr>\n",
       "      <th>0</th>\n",
       "      <td>313000</td>\n",
       "      <td>8.110137</td>\n",
       "    </tr>\n",
       "    <tr>\n",
       "      <th>1</th>\n",
       "      <td>343000</td>\n",
       "      <td>9.101916</td>\n",
       "    </tr>\n",
       "    <tr>\n",
       "      <th>2</th>\n",
       "      <td>371000</td>\n",
       "      <td>10.139563</td>\n",
       "    </tr>\n",
       "    <tr>\n",
       "      <th>3</th>\n",
       "      <td>423000</td>\n",
       "      <td>10.140304</td>\n",
       "    </tr>\n",
       "  </tbody>\n",
       "</table>\n",
       "</div>"
      ],
      "text/plain": [
       "     종사자수        사고율\n",
       "0  313000   8.110137\n",
       "1  343000   9.101916\n",
       "2  371000  10.139563\n",
       "3  423000  10.140304"
      ]
     },
     "execution_count": 30,
     "metadata": {},
     "output_type": "execute_result"
    }
   ],
   "source": [
    "df = pd.concat([df,df_3], axis=1)\n",
    "df = df.drop(0).reset_index(drop=True)\n",
    "df"
   ]
  },
  {
   "cell_type": "code",
   "execution_count": 62,
   "id": "2abf28d3-fc36-4405-853b-eaa07021a1d8",
   "metadata": {},
   "outputs": [],
   "source": [
    "df_num = df_3[['이륜차사고']]\n",
    "df_num = df_num.reset_index(drop=True)"
   ]
  },
  {
   "cell_type": "code",
   "execution_count": 63,
   "id": "75af76c9-e2f2-4b9e-863d-0ffa2ffa4641",
   "metadata": {},
   "outputs": [
    {
     "data": {
      "text/html": [
       "<div>\n",
       "<style scoped>\n",
       "    .dataframe tbody tr th:only-of-type {\n",
       "        vertical-align: middle;\n",
       "    }\n",
       "\n",
       "    .dataframe tbody tr th {\n",
       "        vertical-align: top;\n",
       "    }\n",
       "\n",
       "    .dataframe thead th {\n",
       "        text-align: right;\n",
       "    }\n",
       "</style>\n",
       "<table border=\"1\" class=\"dataframe\">\n",
       "  <thead>\n",
       "    <tr style=\"text-align: right;\">\n",
       "      <th></th>\n",
       "      <th>종사자수</th>\n",
       "      <th>이륜차사고</th>\n",
       "    </tr>\n",
       "  </thead>\n",
       "  <tbody>\n",
       "    <tr>\n",
       "      <th>0</th>\n",
       "      <td>355000</td>\n",
       "      <td>18241</td>\n",
       "    </tr>\n",
       "    <tr>\n",
       "      <th>1</th>\n",
       "      <td>313000</td>\n",
       "      <td>17611</td>\n",
       "    </tr>\n",
       "    <tr>\n",
       "      <th>2</th>\n",
       "      <td>343000</td>\n",
       "      <td>20898</td>\n",
       "    </tr>\n",
       "    <tr>\n",
       "      <th>3</th>\n",
       "      <td>371000</td>\n",
       "      <td>21258</td>\n",
       "    </tr>\n",
       "    <tr>\n",
       "      <th>4</th>\n",
       "      <td>423000</td>\n",
       "      <td>20598</td>\n",
       "    </tr>\n",
       "  </tbody>\n",
       "</table>\n",
       "</div>"
      ],
      "text/plain": [
       "     종사자수  이륜차사고\n",
       "0  355000  18241\n",
       "1  313000  17611\n",
       "2  343000  20898\n",
       "3  371000  21258\n",
       "4  423000  20598"
      ]
     },
     "execution_count": 63,
     "metadata": {},
     "output_type": "execute_result"
    }
   ],
   "source": [
    "df_graph = pd.concat([df,df_num], axis=1)\n",
    "df_graph"
   ]
  },
  {
   "cell_type": "markdown",
   "id": "86b2e7c4-8d80-4b5c-8fe5-0a3944d8ced9",
   "metadata": {
    "tags": []
   },
   "source": [
    "# 선형 회귀"
   ]
  },
  {
   "cell_type": "code",
   "execution_count": 33,
   "id": "359a8d1f-f7ed-4e25-86c3-878d0ab85727",
   "metadata": {},
   "outputs": [],
   "source": [
    "### 사용할 라이브러리 불러오기\n",
    "\n",
    "import numpy.linalg as lin\n",
    "import numpy as np\n",
    "import matplotlib.pyplot as plt"
   ]
  },
  {
   "cell_type": "code",
   "execution_count": 34,
   "id": "d2022ea4-d1b5-4139-ac1b-4cf5d923f5d6",
   "metadata": {},
   "outputs": [
    {
     "data": {
      "text/html": [
       "<div>\n",
       "<style scoped>\n",
       "    .dataframe tbody tr th:only-of-type {\n",
       "        vertical-align: middle;\n",
       "    }\n",
       "\n",
       "    .dataframe tbody tr th {\n",
       "        vertical-align: top;\n",
       "    }\n",
       "\n",
       "    .dataframe thead th {\n",
       "        text-align: right;\n",
       "    }\n",
       "</style>\n",
       "<table border=\"1\" class=\"dataframe\">\n",
       "  <thead>\n",
       "    <tr style=\"text-align: right;\">\n",
       "      <th></th>\n",
       "      <th>종사자수</th>\n",
       "      <th>사고율</th>\n",
       "    </tr>\n",
       "  </thead>\n",
       "  <tbody>\n",
       "    <tr>\n",
       "      <th>0</th>\n",
       "      <td>313000</td>\n",
       "      <td>8.110137</td>\n",
       "    </tr>\n",
       "    <tr>\n",
       "      <th>1</th>\n",
       "      <td>343000</td>\n",
       "      <td>9.101916</td>\n",
       "    </tr>\n",
       "    <tr>\n",
       "      <th>2</th>\n",
       "      <td>371000</td>\n",
       "      <td>10.139563</td>\n",
       "    </tr>\n",
       "    <tr>\n",
       "      <th>3</th>\n",
       "      <td>423000</td>\n",
       "      <td>10.140304</td>\n",
       "    </tr>\n",
       "  </tbody>\n",
       "</table>\n",
       "</div>"
      ],
      "text/plain": [
       "     종사자수        사고율\n",
       "0  313000   8.110137\n",
       "1  343000   9.101916\n",
       "2  371000  10.139563\n",
       "3  423000  10.140304"
      ]
     },
     "execution_count": 34,
     "metadata": {},
     "output_type": "execute_result"
    }
   ],
   "source": [
    "df"
   ]
  },
  {
   "cell_type": "code",
   "execution_count": 35,
   "id": "b1a0414e-ca89-4616-b948-58c4e0fa93a9",
   "metadata": {},
   "outputs": [],
   "source": [
    "### 2. Linear Regression() 함수를 이용하는 방법\n",
    "#  - 모델을 생성할 수 있다.\n",
    "#  - 학습(fit()) 및 예측(predict()) 함수 사용 가능\n",
    "\n",
    "### 사용할 라이브러리 불러오기\n",
    "\n",
    "from sklearn.linear_model import LinearRegression"
   ]
  },
  {
   "cell_type": "code",
   "execution_count": null,
   "id": "86f1aec1-0c80-4c8b-a8f0-36f977ec43ac",
   "metadata": {},
   "outputs": [],
   "source": [
    "### 데이터 생성하기\n",
    "# - 위에서 사용한 독립변수(x) 및 종속변수(y) 값 사용\n",
    "xx = x\n",
    "yy = y\n",
    "\n",
    "\n",
    "### 모델 객체 생성하기 : LinearRegression()\n",
    "model = LinearRegression()\n",
    "\n",
    "### 학습모델 생성하기 : fit()\n",
    "# 학습 데이터로 모형 추정 : y절편, 기울기 추출\n",
    "fit_model = model.fit(xx, yy) \n",
    "\n",
    "# 기울기 89.47430739\n",
    "print(\"기울기 = \", fit_model.coef_)   \n",
    "print(\"-------------------------------\")\n",
    "\n",
    "# y절편 100.0\n",
    "print(\"y절편 = \", fit_model.intercept_) \n",
    "print(\"-------------------------------\")\n",
    "\n",
    "### 예측모델 테스트 : predict()\n",
    "\n",
    "# 예측값(y) 확인하기\n",
    "y_pred2 = fit_model.predict(xx[[0]])\n",
    "print('y_pred2 :', y_pred2)\n",
    "print(\"-------------------------------\")\n",
    "\n",
    "# 예측값(y) 확인하기\n",
    "y_pred2_new = fit_model.predict([[66]])\n",
    "print('y_pred2_new :', y_pred2_new)"
   ]
  },
  {
   "cell_type": "markdown",
   "id": "38b5bef2-6d4b-4847-b839-24c45213af04",
   "metadata": {
    "jp-MarkdownHeadingCollapsed": true,
    "tags": []
   },
   "source": [
    "### 4. scipy의 stats 라이브러리의 linregress() 함수 사용 가능"
   ]
  },
  {
   "cell_type": "code",
   "execution_count": null,
   "id": "5a3fd805-69f2-46ed-89a6-bdb1f2088dd9",
   "metadata": {},
   "outputs": [],
   "source": [
    "### 사용할 라이브러리 불러들이기\n",
    "\n",
    "from scipy import stats\n",
    "import numpy as np\n",
    "import pandas as pd\n",
    "import matplotlib.pyplot as plt"
   ]
  },
  {
   "cell_type": "code",
   "execution_count": null,
   "id": "7fe88e2a-8693-4b5c-9546-0487efa090a1",
   "metadata": {},
   "outputs": [],
   "source": [
    "### 데이터 생성하기\n",
    "# - data 폴더의 score_iq.csv 파일 사용\n",
    "# - IQ가 점수(score)에 영향을 미치는지 예측\n",
    "print(df.head(3))  \n",
    "print(\"-------------------------------\")\n",
    "print(df.info())\n",
    "\n",
    "\n",
    "### 독립변수(x) 및 종속변수(y) 생성하기\n",
    "x = df.종사자수\n",
    "y = df.사고율"
   ]
  },
  {
   "cell_type": "code",
   "execution_count": null,
   "id": "f74ecd72-f69e-499b-a90e-1454aea1f349",
   "metadata": {},
   "outputs": [],
   "source": [
    "### 상관계수 확인하기\n",
    "# 확인방법(1) : pandas 라이브러에서 지원하는 corr() 사용\n",
    "# - iq와 score의 상관계수 : 0.882220\n",
    "print(\"확인방법(pandas) = \\n\", df.corr())\n",
    "print(\"-------------------------------\")\n",
    "\n",
    "# 확인방법(2) : numpy 라이브러에서 지원하는 corrcoef() 사용\n",
    "# - iq와 score의 상관계수 : 0.88222034\n",
    "print(\"확인방법(numpy) =  \\n\", np.corrcoef(x, y)) \n",
    "# 긍정적 영향을 확인 할 땐 양수의 독립변수,\n",
    "# 부정적 영향을 확인 할 땐 음수의 독립변수를 선택한다"
   ]
  },
  {
   "cell_type": "code",
   "execution_count": null,
   "id": "9e5d7c1b-aa6f-4a4a-a5af-3002890934a7",
   "metadata": {},
   "outputs": [],
   "source": [
    "### 학습 모델 생성하기\n",
    "model = stats.linregress(x, y)\n",
    "\n",
    "print(model)\n",
    "print(\"-------------------------------\")\n",
    "\n",
    "print('p-value :', model.pvalue)  # p-value : 2.8476895206683644e-50\n",
    "print('p-value {:.3f}:'.format(2.8476895206683644e-50))  # p-value : 2.8476895206683644e-50\n",
    "print(\"-------------------------------\")\n",
    "\n",
    "print('기울기(slope) :', model.slope)      # 기울기 : 0.6514309527270075\n",
    "print(\"-------------------------------\")\n",
    "\n",
    "print('y절편(intercept) :', model.intercept)  # y절편 : -2.8564471221974657\n",
    "print(\"-------------------------------\")"
   ]
  },
  {
   "cell_type": "code",
   "execution_count": null,
   "id": "9df38868-75b7-4e88-bbef-6d7f27b9180e",
   "metadata": {},
   "outputs": [],
   "source": [
    "### (모델 해석)\n",
    "# pvalue=2.8476895206683644e-50 < 0.05 이므로 현재 모델은 유의하다.\n",
    "# iq가 score에 영향을 준다.\n",
    "# 회귀식(y = ax + b) 완성 \n",
    "#  : y = 0.6514309527270075 * x -2.8564471221974657 \n",
    "\n",
    "### 직접 예측해 보기\n",
    "print('예측결과 :', 1.9131355932203402e-05 * 355000 + 2.277580508474573)\n",
    "# 예측결과 : 88.34388625958358\n",
    "print(\"-------------------------------\")\n",
    "\n",
    "print(\"-------------------------------\")\n",
    "print('예측결과 :', model.slope * 155 + model.intercept)\n",
    "# 예측결과 : 98.11535055048869"
   ]
  },
  {
   "cell_type": "code",
   "execution_count": null,
   "id": "097051b6-6b40-4d8e-b5dc-06877874e996",
   "metadata": {},
   "outputs": [],
   "source": [
    "df"
   ]
  },
  {
   "cell_type": "markdown",
   "id": "d16e2796-70b2-49f1-998e-c24ad7de477b",
   "metadata": {},
   "source": [
    "#3"
   ]
  },
  {
   "cell_type": "code",
   "execution_count": null,
   "id": "d7d083f8-dad1-41f4-922d-db53c279ae63",
   "metadata": {},
   "outputs": [],
   "source": [
    "import statsmodels.formula.api as smf\n",
    "import pandas as pd"
   ]
  },
  {
   "cell_type": "code",
   "execution_count": null,
   "id": "45332b70-4b95-44d2-847a-9a7b8df8a1a1",
   "metadata": {},
   "outputs": [],
   "source": [
    "### 데이터 생성하기\n",
    "\n",
    "# - 데이터는 위에서 사용한 xx 및 yy 값 사용\n",
    "# - 독립변수(x)의 값의 경우 2차원 리스트에서 1차원으로 축소하여,\n",
    "#   x 및 y 컬럼을 가지는 데이터프레임 형태로 구성해야함\n",
    "# - 따라서, x값은 차원을 축소해야함 : flatten()함수 사용\n",
    "\n",
    "### 차원축소\n",
    "x1 = np.array(df['사고율']).flatten() \n",
    "print(\"독립변수(x1), x1.shape(차원확인) = \\n\", x1.shape)   \n",
    "print(\"-------------------------------\")\n",
    "\n",
    "y1 = df['종사자수']\n",
    "print(\"종속변수(y1) = \\n\", y1)   \n",
    "print(\"-------------------------------\")\n",
    "\n",
    "data = np.array([x1, y1])\n",
    "\n",
    "### 데이터프레임 형태로 : 데이터 생성하기\n",
    "df = pd.DataFrame(data.T)\n",
    "df.columns = ['x1', 'y1']\n",
    "print(\"생성된 데이터(df) 확인 = \\n\", df.head(3))   \n",
    "print(\"-------------------------------\")\n",
    "\n",
    "### 학습모델 생성하기\n",
    "#  - 모델 객체 생성 : smf.ols()\n",
    "#  - 학습모델 생성 : fit()\n",
    "#  - 아래는 객체 생성과 학습모델 생성을 한번에 처리하였음\n",
    "#  - formula(학습 데이터) = '종속변수 ~ 독립변수'\n",
    "model2 = smf.ols(formula='y1 ~ x1', data=df).fit()\n",
    "\n",
    "### 학습모델 결과 확인하기\n",
    "# - R-squared : 결정계수(1에 까가울 수록 학습모델이 좋은 것임) ✓✓✓\n",
    "# - Adj. R-squared : 수정결정계수(1에 까가울 수록 학습모델이 좋은 것임)\n",
    "# - *** 독립변수가 많을 경우 R-squared과 Adj. R-squared의 차이가 클 경우 \n",
    "#       독립변수 [이상치를 확인]해야한다. ***\n",
    "\n",
    "# - x1의 p-value : 0.000 < 0.05 => 모델은 유효하다. ✓✓✓\n",
    "# - x1의 std err(표준 오차) : 7.29e-15 = 0.0000\n",
    "# - x1의 Intercept(y절편) : 100.0000 ✓✓\n",
    "# - x1의 coef(기울기) : 89.4743 ✓✓\n",
    "# - x1의 Kurtosis(첨도) : 6.605 => 일반적으로 3보다 클경우,\n",
    "#   평균에 데이터가 몰려있다고 판단한다.\n",
    "#   kurtosis() 첨도는 확률분포에서 분포의 [뾰족한 정도]를 나타내는 [척도]입니다. \n",
    "#   --> 첨도가 높은 경우: 데이터의 분포가 평균(혹은 중심)에 많이 몰려 있어 뾰족하다\n",
    "print(\"학습모델 결과 = \\n\", model2.summary())  \n",
    "print(\"-------------------------------\")\n",
    "\n",
    "print(\"표준오차(std err) : 7.29e-15 = {:.9f}\".format(7.29e-15))\n",
    "print(\"-------------------------------\")\n",
    "\n",
    "### 예측값 확인 함수\n",
    "# 예측에 사용할 독립변수 : [-1.70073563 -0.67794537]   \n",
    "print(\"예측에 사용할 독립변수 = \\n\", x1[:2]) \n",
    "print(\"-------------------------------\")\n",
    "\n",
    "# 예측(테스트)을 위해서는 사용할 독립변수도\n",
    "#  - 데이터프레임 형태로 구성해야 함\n",
    "# 기존 자료로 검증하기 위해 독립변수의 추출값을 데이터프레임으로 구성\n",
    "new_df = pd.DataFrame({'x1':[-1.70073563, -0.67794537]}) \n",
    "\n",
    "### 예측하기 : predict(테스트 데이터(x))\n",
    "new_pred = model2.predict(new_df)\n",
    "print('예측결과(new_pred) :\\n', new_pred)   \n",
    "print(\"-------------------------------\")\n",
    "\n",
    "new2_df = pd.DataFrame({'x1':[123, -2.34567]}) # 새로운 값에 대한 예측 결과 확인\n",
    "new2_pred = model2.predict(new2_df)\n",
    "print('예측결과(new_pred) :\\n', new2_pred)"
   ]
  },
  {
   "cell_type": "markdown",
   "id": "4c91e43d-68a6-4254-aa51-6010985474b9",
   "metadata": {},
   "source": [
    "# 다항회귀"
   ]
  },
  {
   "cell_type": "code",
   "execution_count": 36,
   "id": "3e5a0d8a-7a37-4367-a41e-23909c5a0c57",
   "metadata": {},
   "outputs": [
    {
     "name": "stdout",
     "output_type": "stream",
     "text": [
      "[377300.] [313000 343000 371000 423000]\n"
     ]
    },
    {
     "data": {
      "image/png": "[encoded data removed]",
      "text/plain": [
       "<Figure size 432x288 with 1 Axes>"
      ]
     },
     "metadata": {
      "needs_background": "light"
     },
     "output_type": "display_data"
    },
    {
     "name": "stdout",
     "output_type": "stream",
     "text": [
      "x = \n",
      " [[313000]\n",
      " [343000]\n",
      " [371000]\n",
      " [423000]]\n",
      "-------------------------------\n",
      "예측(테스트) 결과 =  [9.64524686]\n"
     ]
    },
    {
     "data": {
      "image/png": "[encoded data removed]",
      "text/plain": [
       "<Figure size 432x288 with 1 Axes>"
      ]
     },
     "metadata": {
      "needs_background": "light"
     },
     "output_type": "display_data"
    },
    {
     "name": "stdout",
     "output_type": "stream",
     "text": [
      "poly =  PolynomialFeatures(degree=3, include_bias=False)\n",
      "x2= \n",
      " [[3.77300000e+05 1.42355290e+11 5.37106509e+16]]\n",
      "model = \n",
      " LinearRegression()\n",
      "---------------------------\n",
      "기울기 =  [-1.70850313e-03  5.03603329e-09 -4.83649112e-15]\n",
      "-------------------------------\n",
      "y절편 =  197.80407151275858\n",
      "-------------------------------\n",
      "예측값(y_pred2) = \n",
      " [ 8.1101369   9.10191639 10.13956328 10.14030419]\n",
      "예측값(y_pred3) = \n",
      " [10.32073368]\n",
      "-------------------------------\n",
      "실제값(y) = \n",
      " [ 8.11013687  9.10191638 10.13956328 10.14030424]\n",
      "-------------------------------\n",
      "-------------------------------\n"
     ]
    },
    {
     "data": {
      "image/png": "[encoded data removed]",
      "text/plain": [
       "<Figure size 432x288 with 1 Axes>"
      ]
     },
     "metadata": {
      "needs_background": "light"
     },
     "output_type": "display_data"
    }
   ],
   "source": [
    "import numpy as np\n",
    "\n",
    "### 독립변수(x) 데이터를 메트릭스 형태로 변형하기\n",
    "#    - 향후 다항회귀로 변환시 차원 확대를 위해서..\n",
    "### 데이터 생성하기\n",
    "x_test = np.array([343000*1.1])\n",
    "x = np.array(df['종사자수'])\n",
    "y = np.array(df['사고율'])\n",
    "\n",
    "print(x_test,x)\n",
    "\n",
    "# 산점도 시각화\n",
    "plt.scatter(x, y) \n",
    "plt.show()\n",
    "\n",
    "### 산점도가 직선을 띄지않고 곡선을 띄고 있다.\n",
    "from sklearn.linear_model import LinearRegression\n",
    "\n",
    "# np.newaxis : 입력을 matrix로 변환\n",
    "x_test = x_test[:, np.newaxis]\n",
    "x = x[:, np.newaxis] \n",
    "print(\"x = \\n\", x)\n",
    "print(\"-------------------------------\")\n",
    "\n",
    "### 선형회귀 모델 생성하기\n",
    "\n",
    "# 선형회귀 학습모델 생성하기\n",
    "model = LinearRegression().fit(x, y) \n",
    "\n",
    "# 예측(테스트) 하기\n",
    "y_pred = model.predict(x_test)\n",
    "print(\"예측(테스트) 결과 = \", y_pred)\n",
    "# [2.  2.7 3.4 4.1 4.8]\n",
    "\n",
    "### 산점도 시각화\n",
    "plt.scatter(x, y) \n",
    "\n",
    "### 추세선 그래프 그리기\n",
    "plt.plot(x_test, y_pred, c='red') \n",
    "plt.show()\n",
    "\n",
    "### 다항식 특징을 추가하기\n",
    "\n",
    "from sklearn.preprocessing import PolynomialFeatures\n",
    "\n",
    "# PolynomialFeatures() : 2차항 적용을 위한 함수 \n",
    "#  - degree : 열 개수, \n",
    "#  - include_bias : 편향 (false = 고려안함)\n",
    "#  - 편향이란?\n",
    "#    : 예측값이 정답과 얼마나 다른가(차이가 있는가, 떨어져 있는가, \n",
    "#       멀게 있는가 등등) 를 표현한 것\n",
    "poly = PolynomialFeatures(degree=3, include_bias = False) \n",
    "print(\"poly = \", poly)\n",
    "\n",
    "### 특징 행렬 생성하기 : 다항으로 변환하기\n",
    "#  - fit_transform() : 독립변수(x)의 데이터를 2차항으로 변형\n",
    "x2 = poly.fit_transform(x) \n",
    "x2_test = poly.fit_transform(x_test) \n",
    "print(\"x2= \\n\", x2_test)\n",
    "\n",
    "### 다항으로 변환된 독립변수(x2)의 값 사용을 위한 \n",
    "### 선형회귀 모델 생성하기\n",
    "\n",
    "# 선형회귀분석에서 결정계수 확인을 위한 라이브러리\n",
    "from sklearn.metrics import r2_score\n",
    "\n",
    "# 선형회귀 학습모델 생성 : 다항 독립변수(x2)를 사용\n",
    "model2 = LinearRegression().fit(x2, y) \n",
    "\n",
    "print(\"model = \\n\", model2)\n",
    "print(\"---------------------------\")\n",
    "\n",
    "# 기울기 \n",
    "print(\"기울기 = \", model2.coef_)   \n",
    "print(\"-------------------------------\")\n",
    "\n",
    "# y절편\n",
    "print(\"y절편 = \", model2.intercept_) \n",
    "print(\"-------------------------------\")\n",
    "\n",
    "# 예측(테스트) 하기..\n",
    "y_pred2 = model2.predict(x2)\n",
    "y_pred3 = model2.predict(x2_test)\n",
    "\n",
    "### 결과 확인해 보기\n",
    "print(\"예측값(y_pred2) = \\n\", y_pred2)\n",
    "print(\"예측값(y_pred3) = \\n\", y_pred3)\n",
    "print(\"-------------------------------\")\n",
    "\n",
    "print(\"실제값(y) = \\n\", y)\n",
    "print(\"-------------------------------\")\n",
    "\n",
    "# 결정계수(R-squared)\n",
    "#print(\"결정계수(R-squared) = \", r2_score(y, y_pred2))   \n",
    "print(\"-------------------------------\")\n",
    "\n",
    "### 다항 회귀 시각화 하기\n",
    "# 산점도 표시\n",
    "plt.scatter(x, y)\n",
    "\n",
    "# 다항회귀모델 예측결과 값을 이용한 추세선 그래프\n",
    "plt.plot(x, y_pred2, c='red') \n",
    "plt.show()\n",
    "\n",
    "### (해석)\n",
    "# - 실제 독립변수(x)의 곡선의 분포에 맞게\n",
    "# - 다항회귀분석 예측 결과 추세선이 잘 그려졌음\n",
    "# - 결정계수(R-squared)의 값이 [0.994]로 \n",
    "#   예측 결과가 매우 정확한 모델로 확인됨"
   ]
  },
  {
   "cell_type": "markdown",
   "id": "8caceeec-9b1c-4b23-889c-4eedb7c1fcc7",
   "metadata": {},
   "source": [
    "# 시각화"
   ]
  },
  {
   "cell_type": "code",
   "execution_count": 38,
   "id": "b545354c-fa2c-4c22-a481-39160953bb65",
   "metadata": {},
   "outputs": [],
   "source": [
    "df.index=[2018,2019,2020,2021]"
   ]
  },
  {
   "cell_type": "code",
   "execution_count": 64,
   "id": "268d43a6-8c93-4d5e-993c-d83617608f16",
   "metadata": {},
   "outputs": [
    {
     "data": {
      "text/plain": [
       "[<matplotlib.lines.Line2D at 0x16cad733a90>,\n",
       " <matplotlib.lines.Line2D at 0x16cad733af0>]"
      ]
     },
     "execution_count": 64,
     "metadata": {},
     "output_type": "execute_result"
    },
    {
     "data": {
      "image/png": "[encoded data removed]",
      "text/plain": [
       "<Figure size 1440x720 with 1 Axes>"
      ]
     },
     "metadata": {
      "needs_background": "light"
     },
     "output_type": "display_data"
    }
   ],
   "source": [
    "plt.plot(df_graph)"
   ]
  },
  {
   "cell_type": "code",
   "execution_count": 67,
   "id": "ccb8c094-6b59-4661-a932-dc853f4429d3",
   "metadata": {},
   "outputs": [
    {
     "data": {
      "text/html": [
       "<div>\n",
       "<style scoped>\n",
       "    .dataframe tbody tr th:only-of-type {\n",
       "        vertical-align: middle;\n",
       "    }\n",
       "\n",
       "    .dataframe tbody tr th {\n",
       "        vertical-align: top;\n",
       "    }\n",
       "\n",
       "    .dataframe thead th {\n",
       "        text-align: right;\n",
       "    }\n",
       "</style>\n",
       "<table border=\"1\" class=\"dataframe\">\n",
       "  <thead>\n",
       "    <tr style=\"text-align: right;\">\n",
       "      <th></th>\n",
       "      <th>종사자수</th>\n",
       "      <th>이륜차사고</th>\n",
       "    </tr>\n",
       "  </thead>\n",
       "  <tbody>\n",
       "    <tr>\n",
       "      <th>0</th>\n",
       "      <td>355000</td>\n",
       "      <td>18241</td>\n",
       "    </tr>\n",
       "    <tr>\n",
       "      <th>1</th>\n",
       "      <td>313000</td>\n",
       "      <td>17611</td>\n",
       "    </tr>\n",
       "    <tr>\n",
       "      <th>2</th>\n",
       "      <td>343000</td>\n",
       "      <td>20898</td>\n",
       "    </tr>\n",
       "    <tr>\n",
       "      <th>3</th>\n",
       "      <td>371000</td>\n",
       "      <td>21258</td>\n",
       "    </tr>\n",
       "    <tr>\n",
       "      <th>4</th>\n",
       "      <td>423000</td>\n",
       "      <td>20598</td>\n",
       "    </tr>\n",
       "  </tbody>\n",
       "</table>\n",
       "</div>"
      ],
      "text/plain": [
       "     종사자수  이륜차사고\n",
       "0  355000  18241\n",
       "1  313000  17611\n",
       "2  343000  20898\n",
       "3  371000  21258\n",
       "4  423000  20598"
      ]
     },
     "execution_count": 67,
     "metadata": {},
     "output_type": "execute_result"
    }
   ],
   "source": [
    "df_graph"
   ]
  },
  {
   "cell_type": "code",
   "execution_count": 70,
   "id": "cc5128e3-7243-4608-bd88-01fb583038d3",
   "metadata": {},
   "outputs": [
    {
     "data": {
      "text/plain": [
       "(array([17000., 17500., 18000., 18500., 19000., 19500., 20000., 20500.,\n",
       "        21000., 21500.]),\n",
       " [Text(1, 0, ''),\n",
       "  Text(1, 0, ''),\n",
       "  Text(1, 0, ''),\n",
       "  Text(1, 0, ''),\n",
       "  Text(1, 0, ''),\n",
       "  Text(1, 0, ''),\n",
       "  Text(1, 0, ''),\n",
       "  Text(1, 0, ''),\n",
       "  Text(1, 0, ''),\n",
       "  Text(1, 0, '')])"
      ]
     },
     "execution_count": 70,
     "metadata": {},
     "output_type": "execute_result"
    },
    {
     "data": {
      "image/png": "[encoded data removed]",
      "text/plain": [
       "<Figure size 1440x720 with 2 Axes>"
      ]
     },
     "metadata": {
      "needs_background": "light"
     },
     "output_type": "display_data"
    }
   ],
   "source": [
    "fig, ax1 = plt.subplots()\n",
    "ax1.bar(df_graph.index, df_graph['종사자수'],color='orange', label='Demand', alpha=0.7, width=0.7)\n",
    "plt.xticks(fontsize = 12)\n",
    "plt.yticks(fontsize = 20)\n",
    "# ax1.legend('사업체수',fontsize = 30)\n",
    "plt.title('-', fontsize= 30)\n",
    "\n",
    "ax2 = ax1.twinx()\n",
    "ax2.plot(df_graph.index, df_graph['이륜차사고'],'-s', color='green', markersize=7, linewidth=5, alpha=0.7)\n",
    "plt.yticks(fontsize=20)"
   ]
  },
  {
   "cell_type": "code",
   "execution_count": null,
   "id": "9502f441-d302-4988-8840-7362f3039e32",
   "metadata": {},
   "outputs": [],
   "source": []
  }
 ],
 "metadata": {
  "kernelspec": {
   "display_name": "Python 3 (ipykernel)",
   "language": "python",
   "name": "python3"
  },
  "language_info": {
   "codemirror_mode": {
    "name": "ipython",
    "version": 3
   },
   "file_extension": ".py",
   "mimetype": "text/x-python",
   "name": "python",
   "nbconvert_exporter": "python",
   "pygments_lexer": "ipython3",
   "version": "3.9.12"
  }
 },
 "nbformat": 4,
 "nbformat_minor": 5
}
