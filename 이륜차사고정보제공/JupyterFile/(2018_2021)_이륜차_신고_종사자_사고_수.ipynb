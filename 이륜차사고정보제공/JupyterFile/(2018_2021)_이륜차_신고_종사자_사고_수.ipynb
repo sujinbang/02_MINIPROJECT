{
 "cells": [
  {
   "cell_type": "markdown",
   "id": "4ea01bab",
   "metadata": {},
   "source": [
    "### 이륜차 신고현황 (2017~2021)"
   ]
  },
  {
   "cell_type": "code",
   "execution_count": 1,
   "id": "3ae9aa18",
   "metadata": {
    "ExecuteTime": {
     "end_time": "2022-07-22T01:16:38.713633Z",
     "start_time": "2022-07-22T01:16:38.700744Z"
    }
   },
   "outputs": [],
   "source": [
    "import pandas as pd\n",
    "import matplotlib.pyplot as plt\n",
    "import matplotlib\n",
    "import numpy as np"
   ]
  },
  {
   "cell_type": "code",
   "execution_count": 2,
   "id": "751b20c5",
   "metadata": {
    "ExecuteTime": {
     "end_time": "2022-07-22T00:26:57.166959Z",
     "start_time": "2022-07-22T00:26:57.152834Z"
    },
    "scrolled": false
   },
   "outputs": [],
   "source": [
    "# 데이터 불러오기\n",
    "file_path = './minidata/이륜차신고현황_연도별.csv'\n",
    "df = pd.read_csv(file_path)"
   ]
  },
  {
   "cell_type": "code",
   "execution_count": 3,
   "id": "938d29df",
   "metadata": {
    "ExecuteTime": {
     "end_time": "2022-07-22T00:27:16.047571Z",
     "start_time": "2022-07-22T00:27:16.015891Z"
    }
   },
   "outputs": [
    {
     "name": "stdout",
     "output_type": "stream",
     "text": [
      "<class 'pandas.core.frame.DataFrame'>\n",
      "RangeIndex: 75 entries, 0 to 74\n",
      "Data columns (total 9 columns):\n",
      " #   Column     Non-Null Count  Dtype \n",
      "---  ------     --------------  ----- \n",
      " 0   년(Annual)  75 non-null     int64 \n",
      " 1   LEVEL1     75 non-null     object\n",
      " 2   LEVEL2     75 non-null     object\n",
      " 3   값          75 non-null     int64 \n",
      " 4   증감         75 non-null     int64 \n",
      " 5   증감율        75 non-null     int64 \n",
      " 6   구성비        75 non-null     int64 \n",
      " 7   누계         75 non-null     int64 \n",
      " 8   누계구성비      75 non-null     int64 \n",
      "dtypes: int64(7), object(2)\n",
      "memory usage: 5.4+ KB\n"
     ]
    }
   ],
   "source": [
    "df.info()"
   ]
  },
  {
   "cell_type": "code",
   "execution_count": 4,
   "id": "5edc8928",
   "metadata": {
    "ExecuteTime": {
     "end_time": "2022-07-22T00:27:03.276500Z",
     "start_time": "2022-07-22T00:27:03.255560Z"
    }
   },
   "outputs": [
    {
     "data": {
      "text/plain": [
       "Index(['년(Annual)', 'LEVEL1', 'LEVEL2', '값', '증감', '증감율', '구성비', '누계',\n",
       "       '누계구성비'],\n",
       "      dtype='object')"
      ]
     },
     "execution_count": 4,
     "metadata": {},
     "output_type": "execute_result"
    }
   ],
   "source": [
    "df.columns"
   ]
  },
  {
   "cell_type": "code",
   "execution_count": 5,
   "id": "ae26637e",
   "metadata": {
    "ExecuteTime": {
     "end_time": "2022-07-22T00:34:24.005477Z",
     "start_time": "2022-07-22T00:34:23.993511Z"
    }
   },
   "outputs": [],
   "source": [
    "# 필요부분 필터링\n",
    "data = df[(df['LEVEL1'] == '계')&(df['LEVEL2'] == '소계')]"
   ]
  },
  {
   "cell_type": "code",
   "execution_count": 6,
   "id": "18b70014",
   "metadata": {
    "ExecuteTime": {
     "end_time": "2022-07-22T00:34:27.290860Z",
     "start_time": "2022-07-22T00:34:27.271232Z"
    }
   },
   "outputs": [
    {
     "data": {
      "text/html": [
       "<div>\n",
       "<style scoped>\n",
       "    .dataframe tbody tr th:only-of-type {\n",
       "        vertical-align: middle;\n",
       "    }\n",
       "\n",
       "    .dataframe tbody tr th {\n",
       "        vertical-align: top;\n",
       "    }\n",
       "\n",
       "    .dataframe thead th {\n",
       "        text-align: right;\n",
       "    }\n",
       "</style>\n",
       "<table border=\"1\" class=\"dataframe\">\n",
       "  <thead>\n",
       "    <tr style=\"text-align: right;\">\n",
       "      <th></th>\n",
       "      <th>년(Annual)</th>\n",
       "      <th>LEVEL1</th>\n",
       "      <th>LEVEL2</th>\n",
       "      <th>값</th>\n",
       "      <th>증감</th>\n",
       "      <th>증감율</th>\n",
       "      <th>구성비</th>\n",
       "      <th>누계</th>\n",
       "      <th>누계구성비</th>\n",
       "    </tr>\n",
       "  </thead>\n",
       "  <tbody>\n",
       "    <tr>\n",
       "      <th>0</th>\n",
       "      <td>2017</td>\n",
       "      <td>계</td>\n",
       "      <td>소계</td>\n",
       "      <td>2196475</td>\n",
       "      <td>2196475</td>\n",
       "      <td>2196475</td>\n",
       "      <td>0</td>\n",
       "      <td>0</td>\n",
       "      <td>0</td>\n",
       "    </tr>\n",
       "    <tr>\n",
       "      <th>15</th>\n",
       "      <td>2018</td>\n",
       "      <td>계</td>\n",
       "      <td>소계</td>\n",
       "      <td>2208424</td>\n",
       "      <td>2208424</td>\n",
       "      <td>2208424</td>\n",
       "      <td>0</td>\n",
       "      <td>0</td>\n",
       "      <td>0</td>\n",
       "    </tr>\n",
       "    <tr>\n",
       "      <th>30</th>\n",
       "      <td>2019</td>\n",
       "      <td>계</td>\n",
       "      <td>소계</td>\n",
       "      <td>2236895</td>\n",
       "      <td>2236895</td>\n",
       "      <td>2236895</td>\n",
       "      <td>0</td>\n",
       "      <td>0</td>\n",
       "      <td>0</td>\n",
       "    </tr>\n",
       "    <tr>\n",
       "      <th>45</th>\n",
       "      <td>2020</td>\n",
       "      <td>계</td>\n",
       "      <td>소계</td>\n",
       "      <td>2289009</td>\n",
       "      <td>2289009</td>\n",
       "      <td>2289009</td>\n",
       "      <td>0</td>\n",
       "      <td>0</td>\n",
       "      <td>0</td>\n",
       "    </tr>\n",
       "    <tr>\n",
       "      <th>60</th>\n",
       "      <td>2021</td>\n",
       "      <td>계</td>\n",
       "      <td>소계</td>\n",
       "      <td>2213837</td>\n",
       "      <td>2213837</td>\n",
       "      <td>2213837</td>\n",
       "      <td>0</td>\n",
       "      <td>0</td>\n",
       "      <td>0</td>\n",
       "    </tr>\n",
       "  </tbody>\n",
       "</table>\n",
       "</div>"
      ],
      "text/plain": [
       "    년(Annual) LEVEL1 LEVEL2        값       증감      증감율  구성비  누계  누계구성비\n",
       "0        2017      계     소계  2196475  2196475  2196475    0   0      0\n",
       "15       2018      계     소계  2208424  2208424  2208424    0   0      0\n",
       "30       2019      계     소계  2236895  2236895  2236895    0   0      0\n",
       "45       2020      계     소계  2289009  2289009  2289009    0   0      0\n",
       "60       2021      계     소계  2213837  2213837  2213837    0   0      0"
      ]
     },
     "execution_count": 6,
     "metadata": {},
     "output_type": "execute_result"
    }
   ],
   "source": [
    "data"
   ]
  },
  {
   "cell_type": "code",
   "execution_count": 7,
   "id": "8a53ac9a",
   "metadata": {
    "ExecuteTime": {
     "end_time": "2022-07-22T00:43:13.689831Z",
     "start_time": "2022-07-22T00:43:13.678861Z"
    },
    "scrolled": true
   },
   "outputs": [],
   "source": [
    "data = data[['년(Annual)','값']].reset_index(drop=True)"
   ]
  },
  {
   "cell_type": "code",
   "execution_count": 8,
   "id": "e8e49dd8",
   "metadata": {
    "ExecuteTime": {
     "end_time": "2022-07-22T00:43:42.128527Z",
     "start_time": "2022-07-22T00:43:42.118634Z"
    }
   },
   "outputs": [],
   "source": [
    "# 컬럼명 변경\n",
    "data.columns = ['년', '이륜차 신고 수']"
   ]
  },
  {
   "cell_type": "code",
   "execution_count": 9,
   "id": "95b4fc71",
   "metadata": {
    "ExecuteTime": {
     "end_time": "2022-07-22T00:54:05.910592Z",
     "start_time": "2022-07-22T00:54:05.893836Z"
    }
   },
   "outputs": [],
   "source": [
    "data.set_index('년', inplace=True)"
   ]
  },
  {
   "cell_type": "code",
   "execution_count": 10,
   "id": "faabefbb",
   "metadata": {
    "ExecuteTime": {
     "end_time": "2022-07-22T02:08:56.569429Z",
     "start_time": "2022-07-22T02:08:56.552925Z"
    }
   },
   "outputs": [
    {
     "data": {
      "text/html": [
       "<div>\n",
       "<style scoped>\n",
       "    .dataframe tbody tr th:only-of-type {\n",
       "        vertical-align: middle;\n",
       "    }\n",
       "\n",
       "    .dataframe tbody tr th {\n",
       "        vertical-align: top;\n",
       "    }\n",
       "\n",
       "    .dataframe thead th {\n",
       "        text-align: right;\n",
       "    }\n",
       "</style>\n",
       "<table border=\"1\" class=\"dataframe\">\n",
       "  <thead>\n",
       "    <tr style=\"text-align: right;\">\n",
       "      <th></th>\n",
       "      <th>이륜차 신고 수</th>\n",
       "    </tr>\n",
       "    <tr>\n",
       "      <th>년</th>\n",
       "      <th></th>\n",
       "    </tr>\n",
       "  </thead>\n",
       "  <tbody>\n",
       "    <tr>\n",
       "      <th>2017</th>\n",
       "      <td>2196475</td>\n",
       "    </tr>\n",
       "    <tr>\n",
       "      <th>2018</th>\n",
       "      <td>2208424</td>\n",
       "    </tr>\n",
       "    <tr>\n",
       "      <th>2019</th>\n",
       "      <td>2236895</td>\n",
       "    </tr>\n",
       "    <tr>\n",
       "      <th>2020</th>\n",
       "      <td>2289009</td>\n",
       "    </tr>\n",
       "    <tr>\n",
       "      <th>2021</th>\n",
       "      <td>2213837</td>\n",
       "    </tr>\n",
       "  </tbody>\n",
       "</table>\n",
       "</div>"
      ],
      "text/plain": [
       "      이륜차 신고 수\n",
       "년             \n",
       "2017   2196475\n",
       "2018   2208424\n",
       "2019   2236895\n",
       "2020   2289009\n",
       "2021   2213837"
      ]
     },
     "execution_count": 10,
     "metadata": {},
     "output_type": "execute_result"
    }
   ],
   "source": [
    "data"
   ]
  },
  {
   "cell_type": "code",
   "execution_count": 12,
   "id": "b3563e57",
   "metadata": {
    "ExecuteTime": {
     "end_time": "2022-07-22T06:34:43.622534Z",
     "start_time": "2022-07-22T06:34:43.302145Z"
    },
    "scrolled": false
   },
   "outputs": [
    {
     "name": "stderr",
     "output_type": "stream",
     "text": [
      "C:\\Users\\admin\\AppData\\Local\\Temp\\ipykernel_4772\\4122469484.py:11: UserWarning: FixedFormatter should only be used together with FixedLocator\n",
      "  plt.gca().set_yticklabels(['{:,.0f}'.format(x) for x in current_values])\n"
     ]
    },
    {
     "data": {
      "text/plain": [
       "<matplotlib.legend.Legend at 0x23e8255cdc0>"
      ]
     },
     "execution_count": 12,
     "metadata": {},
     "output_type": "execute_result"
    },
    {
     "data": {
      "image/png": "[encoded data removed]",
      "text/plain": [
       "<Figure size 1440x720 with 1 Axes>"
      ]
     },
     "metadata": {
      "needs_background": "light"
     },
     "output_type": "display_data"
    }
   ],
   "source": [
    "# 시각화\n",
    "plt.rc('font', family = 'Malgun Gothic', size = 10)\n",
    "\n",
    "plt.rcParams['figure.figsize'] = (20,10)\n",
    "data.plot(kind='line', marker = \"o\")\n",
    "plt.title('전국 이륜차 신고 현황 (2017~2022)', size = 20, weight = 'bold', pad = 30)\n",
    "plt.rc('font', family = 'Malgun Gothic', size = 18)\n",
    "\n",
    "# 천단위콤마\n",
    "current_values = plt.gca().get_yticks()\n",
    "plt.gca().set_yticklabels(['{:,.0f}'.format(x) for x in current_values])\n",
    "\n",
    "\n",
    "plt.xticks(np.arange(2017,2022,1), rotation = 0)\n",
    "plt.legend()\n",
    "#plt.ylabel(\"이륜차 신고 수\")\n",
    "\n",
    "# # 숫자 넣는 부분, height + 0.25로 숫자 약간 위로 위치하게 조정\n",
    "# x = ['2017', '2018', '2019', '2020', '2021']\n",
    "# for i in range(x):\n",
    "#     height = data[i]\n",
    "#     plt.text(x[i], height + 0.25, '%.1f' %height, ha='center', va='bottom', size = 12)"
   ]
  },
  {
   "cell_type": "code",
   "execution_count": 124,
   "id": "56d8aa26",
   "metadata": {
    "ExecuteTime": {
     "end_time": "2022-07-22T06:49:08.359918Z",
     "start_time": "2022-07-22T06:49:08.060537Z"
    }
   },
   "outputs": [
    {
     "data": {
      "image/png": "[encoded data removed]",
      "text/plain": [
       "<Figure size 1440x720 with 1 Axes>"
      ]
     },
     "metadata": {
      "needs_background": "light"
     },
     "output_type": "display_data"
    }
   ],
   "source": [
    "x = ['2017년','2018년', '2019년', '2020년', '2021년']\n",
    "y = [2196475, 2208424, 2236895, 2289009, 2213837]\n",
    "\n",
    "line_graph = plt.plot(x, y, 'o-', color = 'red')\n",
    "plt.title('2017~2021년 이륜차 신고대수', fontsize = 25)\n",
    "#plt.ylim(0, 22)\n",
    "plt.xlabel('년도', fontsize = 15)\n",
    "plt.ylabel('신고수',fontsize = 15, rotation = 0)\n",
    "plt.xticks(fontsize = 13)\n",
    "plt.yticks(fontsize = 13)\n",
    "\n",
    "\n",
    "# 숫자 넣는 부분, height + 0.25로 숫자 약간 위로 위치하게 조정\n",
    "for i in range(len(x)):\n",
    "    height = y[i]\n",
    "    plt.text(x[i], height + 0.25, '%.1f' %height, ha='center', va='bottom', size = 18)\n",
    "\n",
    "plt.show()"
   ]
  },
  {
   "cell_type": "code",
   "execution_count": null,
   "id": "d9e00d73",
   "metadata": {},
   "outputs": [],
   "source": []
  },
  {
   "cell_type": "code",
   "execution_count": 14,
   "id": "e0b1be3f",
   "metadata": {},
   "outputs": [],
   "source": [
    "rider = pd.read_csv('./minidata/배달원(전처리).csv')\n",
    "rider = rider.set_index('년도')"
   ]
  },
  {
   "cell_type": "code",
   "execution_count": 15,
   "id": "8b41f9a0",
   "metadata": {
    "scrolled": true
   },
   "outputs": [
    {
     "data": {
      "text/html": [
       "<div>\n",
       "<style scoped>\n",
       "    .dataframe tbody tr th:only-of-type {\n",
       "        vertical-align: middle;\n",
       "    }\n",
       "\n",
       "    .dataframe tbody tr th {\n",
       "        vertical-align: top;\n",
       "    }\n",
       "\n",
       "    .dataframe thead th {\n",
       "        text-align: right;\n",
       "    }\n",
       "</style>\n",
       "<table border=\"1\" class=\"dataframe\">\n",
       "  <thead>\n",
       "    <tr style=\"text-align: right;\">\n",
       "      <th></th>\n",
       "      <th>종사자수</th>\n",
       "    </tr>\n",
       "    <tr>\n",
       "      <th>년도</th>\n",
       "      <th></th>\n",
       "    </tr>\n",
       "  </thead>\n",
       "  <tbody>\n",
       "    <tr>\n",
       "      <th>2017</th>\n",
       "      <td>355000</td>\n",
       "    </tr>\n",
       "    <tr>\n",
       "      <th>2018</th>\n",
       "      <td>313000</td>\n",
       "    </tr>\n",
       "    <tr>\n",
       "      <th>2019</th>\n",
       "      <td>343000</td>\n",
       "    </tr>\n",
       "    <tr>\n",
       "      <th>2020</th>\n",
       "      <td>371000</td>\n",
       "    </tr>\n",
       "    <tr>\n",
       "      <th>2021</th>\n",
       "      <td>423000</td>\n",
       "    </tr>\n",
       "  </tbody>\n",
       "</table>\n",
       "</div>"
      ],
      "text/plain": [
       "        종사자수\n",
       "년도          \n",
       "2017  355000\n",
       "2018  313000\n",
       "2019  343000\n",
       "2020  371000\n",
       "2021  423000"
      ]
     },
     "execution_count": 15,
     "metadata": {},
     "output_type": "execute_result"
    }
   ],
   "source": [
    "rider"
   ]
  },
  {
   "cell_type": "code",
   "execution_count": 17,
   "id": "0c7c38c2",
   "metadata": {},
   "outputs": [
    {
     "data": {
      "text/html": [
       "<div>\n",
       "<style scoped>\n",
       "    .dataframe tbody tr th:only-of-type {\n",
       "        vertical-align: middle;\n",
       "    }\n",
       "\n",
       "    .dataframe tbody tr th {\n",
       "        vertical-align: top;\n",
       "    }\n",
       "\n",
       "    .dataframe thead th {\n",
       "        text-align: right;\n",
       "    }\n",
       "</style>\n",
       "<table border=\"1\" class=\"dataframe\">\n",
       "  <thead>\n",
       "    <tr style=\"text-align: right;\">\n",
       "      <th></th>\n",
       "      <th>기준년도</th>\n",
       "      <th>2017</th>\n",
       "      <th>2018</th>\n",
       "      <th>2019</th>\n",
       "      <th>2020</th>\n",
       "      <th>2021</th>\n",
       "    </tr>\n",
       "  </thead>\n",
       "  <tbody>\n",
       "    <tr>\n",
       "      <th>0</th>\n",
       "      <td>사고건수</td>\n",
       "      <td>18241.0</td>\n",
       "      <td>17611.0</td>\n",
       "      <td>20898.0</td>\n",
       "      <td>21258.0</td>\n",
       "      <td>20598.0</td>\n",
       "    </tr>\n",
       "    <tr>\n",
       "      <th>1</th>\n",
       "      <td>사망자수</td>\n",
       "      <td>564.0</td>\n",
       "      <td>537.0</td>\n",
       "      <td>498.0</td>\n",
       "      <td>525.0</td>\n",
       "      <td>459.0</td>\n",
       "    </tr>\n",
       "    <tr>\n",
       "      <th>2</th>\n",
       "      <td>부상자수</td>\n",
       "      <td>22082.0</td>\n",
       "      <td>21621.0</td>\n",
       "      <td>26514.0</td>\n",
       "      <td>27348.0</td>\n",
       "      <td>26617.0</td>\n",
       "    </tr>\n",
       "  </tbody>\n",
       "</table>\n",
       "</div>"
      ],
      "text/plain": [
       "   기준년도     2017     2018     2019     2020     2021\n",
       "0  사고건수  18241.0  17611.0  20898.0  21258.0  20598.0\n",
       "1  사망자수    564.0    537.0    498.0    525.0    459.0\n",
       "2  부상자수  22082.0  21621.0  26514.0  27348.0  26617.0"
      ]
     },
     "execution_count": 17,
     "metadata": {},
     "output_type": "execute_result"
    }
   ],
   "source": [
    "count = pd.read_csv('./minidata/사고건수.csv')\n",
    "count"
   ]
  },
  {
   "cell_type": "code",
   "execution_count": null,
   "id": "8959a3d6",
   "metadata": {},
   "outputs": [],
   "source": [
    "count = count.set_index('기준년도')\n",
    "count = count.loc[['사고건수']]"
   ]
  },
  {
   "cell_type": "code",
   "execution_count": 23,
   "id": "348697c1",
   "metadata": {
    "scrolled": false
   },
   "outputs": [
    {
     "data": {
      "text/html": [
       "<div>\n",
       "<style scoped>\n",
       "    .dataframe tbody tr th:only-of-type {\n",
       "        vertical-align: middle;\n",
       "    }\n",
       "\n",
       "    .dataframe tbody tr th {\n",
       "        vertical-align: top;\n",
       "    }\n",
       "\n",
       "    .dataframe thead th {\n",
       "        text-align: right;\n",
       "    }\n",
       "</style>\n",
       "<table border=\"1\" class=\"dataframe\">\n",
       "  <thead>\n",
       "    <tr style=\"text-align: right;\">\n",
       "      <th>기준년도</th>\n",
       "      <th>사고건수</th>\n",
       "    </tr>\n",
       "  </thead>\n",
       "  <tbody>\n",
       "    <tr>\n",
       "      <th>2017</th>\n",
       "      <td>18241.0</td>\n",
       "    </tr>\n",
       "    <tr>\n",
       "      <th>2018</th>\n",
       "      <td>17611.0</td>\n",
       "    </tr>\n",
       "    <tr>\n",
       "      <th>2019</th>\n",
       "      <td>20898.0</td>\n",
       "    </tr>\n",
       "    <tr>\n",
       "      <th>2020</th>\n",
       "      <td>21258.0</td>\n",
       "    </tr>\n",
       "    <tr>\n",
       "      <th>2021</th>\n",
       "      <td>20598.0</td>\n",
       "    </tr>\n",
       "  </tbody>\n",
       "</table>\n",
       "</div>"
      ],
      "text/plain": [
       "기준년도     사고건수\n",
       "2017  18241.0\n",
       "2018  17611.0\n",
       "2019  20898.0\n",
       "2020  21258.0\n",
       "2021  20598.0"
      ]
     },
     "execution_count": 23,
     "metadata": {},
     "output_type": "execute_result"
    }
   ],
   "source": [
    "count = count.T\n",
    "count"
   ]
  },
  {
   "cell_type": "code",
   "execution_count": 27,
   "id": "83ca9ecd",
   "metadata": {},
   "outputs": [
    {
     "data": {
      "text/html": [
       "<div>\n",
       "<style scoped>\n",
       "    .dataframe tbody tr th:only-of-type {\n",
       "        vertical-align: middle;\n",
       "    }\n",
       "\n",
       "    .dataframe tbody tr th {\n",
       "        vertical-align: top;\n",
       "    }\n",
       "\n",
       "    .dataframe thead th {\n",
       "        text-align: right;\n",
       "    }\n",
       "</style>\n",
       "<table border=\"1\" class=\"dataframe\">\n",
       "  <thead>\n",
       "    <tr style=\"text-align: right;\">\n",
       "      <th>기준년도</th>\n",
       "      <th>사고건수</th>\n",
       "    </tr>\n",
       "  </thead>\n",
       "  <tbody>\n",
       "    <tr>\n",
       "      <th>0</th>\n",
       "      <td>18241.0</td>\n",
       "    </tr>\n",
       "    <tr>\n",
       "      <th>1</th>\n",
       "      <td>17611.0</td>\n",
       "    </tr>\n",
       "    <tr>\n",
       "      <th>2</th>\n",
       "      <td>20898.0</td>\n",
       "    </tr>\n",
       "    <tr>\n",
       "      <th>3</th>\n",
       "      <td>21258.0</td>\n",
       "    </tr>\n",
       "    <tr>\n",
       "      <th>4</th>\n",
       "      <td>20598.0</td>\n",
       "    </tr>\n",
       "  </tbody>\n",
       "</table>\n",
       "</div>"
      ],
      "text/plain": [
       "기준년도     사고건수\n",
       "0     18241.0\n",
       "1     17611.0\n",
       "2     20898.0\n",
       "3     21258.0\n",
       "4     20598.0"
      ]
     },
     "execution_count": 27,
     "metadata": {},
     "output_type": "execute_result"
    }
   ],
   "source": [
    "count = count.reset_index(drop=True)\n",
    "count"
   ]
  },
  {
   "cell_type": "code",
   "execution_count": 28,
   "id": "5c4801d6",
   "metadata": {},
   "outputs": [
    {
     "data": {
      "text/html": [
       "<div>\n",
       "<style scoped>\n",
       "    .dataframe tbody tr th:only-of-type {\n",
       "        vertical-align: middle;\n",
       "    }\n",
       "\n",
       "    .dataframe tbody tr th {\n",
       "        vertical-align: top;\n",
       "    }\n",
       "\n",
       "    .dataframe thead th {\n",
       "        text-align: right;\n",
       "    }\n",
       "</style>\n",
       "<table border=\"1\" class=\"dataframe\">\n",
       "  <thead>\n",
       "    <tr style=\"text-align: right;\">\n",
       "      <th></th>\n",
       "      <th>종사자수</th>\n",
       "    </tr>\n",
       "  </thead>\n",
       "  <tbody>\n",
       "    <tr>\n",
       "      <th>0</th>\n",
       "      <td>355000</td>\n",
       "    </tr>\n",
       "    <tr>\n",
       "      <th>1</th>\n",
       "      <td>313000</td>\n",
       "    </tr>\n",
       "    <tr>\n",
       "      <th>2</th>\n",
       "      <td>343000</td>\n",
       "    </tr>\n",
       "    <tr>\n",
       "      <th>3</th>\n",
       "      <td>371000</td>\n",
       "    </tr>\n",
       "    <tr>\n",
       "      <th>4</th>\n",
       "      <td>423000</td>\n",
       "    </tr>\n",
       "  </tbody>\n",
       "</table>\n",
       "</div>"
      ],
      "text/plain": [
       "     종사자수\n",
       "0  355000\n",
       "1  313000\n",
       "2  343000\n",
       "3  371000\n",
       "4  423000"
      ]
     },
     "execution_count": 28,
     "metadata": {},
     "output_type": "execute_result"
    }
   ],
   "source": [
    "rider = rider.reset_index(drop=True)\n",
    "rider"
   ]
  },
  {
   "cell_type": "code",
   "execution_count": 29,
   "id": "7779259e",
   "metadata": {},
   "outputs": [
    {
     "data": {
      "text/html": [
       "<div>\n",
       "<style scoped>\n",
       "    .dataframe tbody tr th:only-of-type {\n",
       "        vertical-align: middle;\n",
       "    }\n",
       "\n",
       "    .dataframe tbody tr th {\n",
       "        vertical-align: top;\n",
       "    }\n",
       "\n",
       "    .dataframe thead th {\n",
       "        text-align: right;\n",
       "    }\n",
       "</style>\n",
       "<table border=\"1\" class=\"dataframe\">\n",
       "  <thead>\n",
       "    <tr style=\"text-align: right;\">\n",
       "      <th></th>\n",
       "      <th>이륜차 신고 수</th>\n",
       "    </tr>\n",
       "  </thead>\n",
       "  <tbody>\n",
       "    <tr>\n",
       "      <th>0</th>\n",
       "      <td>2196475</td>\n",
       "    </tr>\n",
       "    <tr>\n",
       "      <th>1</th>\n",
       "      <td>2208424</td>\n",
       "    </tr>\n",
       "    <tr>\n",
       "      <th>2</th>\n",
       "      <td>2236895</td>\n",
       "    </tr>\n",
       "    <tr>\n",
       "      <th>3</th>\n",
       "      <td>2289009</td>\n",
       "    </tr>\n",
       "    <tr>\n",
       "      <th>4</th>\n",
       "      <td>2213837</td>\n",
       "    </tr>\n",
       "  </tbody>\n",
       "</table>\n",
       "</div>"
      ],
      "text/plain": [
       "   이륜차 신고 수\n",
       "0   2196475\n",
       "1   2208424\n",
       "2   2236895\n",
       "3   2289009\n",
       "4   2213837"
      ]
     },
     "execution_count": 29,
     "metadata": {},
     "output_type": "execute_result"
    }
   ],
   "source": [
    "data = data.reset_index(drop=True)\n",
    "data"
   ]
  },
  {
   "cell_type": "code",
   "execution_count": 79,
   "id": "16f4b640",
   "metadata": {
    "scrolled": false
   },
   "outputs": [
    {
     "data": {
      "text/html": [
       "<div>\n",
       "<style scoped>\n",
       "    .dataframe tbody tr th:only-of-type {\n",
       "        vertical-align: middle;\n",
       "    }\n",
       "\n",
       "    .dataframe tbody tr th {\n",
       "        vertical-align: top;\n",
       "    }\n",
       "\n",
       "    .dataframe thead th {\n",
       "        text-align: right;\n",
       "    }\n",
       "</style>\n",
       "<table border=\"1\" class=\"dataframe\">\n",
       "  <thead>\n",
       "    <tr style=\"text-align: right;\">\n",
       "      <th></th>\n",
       "      <th>이륜차 신고 수</th>\n",
       "      <th>종사자수</th>\n",
       "      <th>사고건수</th>\n",
       "    </tr>\n",
       "  </thead>\n",
       "  <tbody>\n",
       "    <tr>\n",
       "      <th>2017</th>\n",
       "      <td>2196475</td>\n",
       "      <td>355000</td>\n",
       "      <td>18241.0</td>\n",
       "    </tr>\n",
       "    <tr>\n",
       "      <th>2018</th>\n",
       "      <td>2208424</td>\n",
       "      <td>313000</td>\n",
       "      <td>17611.0</td>\n",
       "    </tr>\n",
       "    <tr>\n",
       "      <th>2019</th>\n",
       "      <td>2236895</td>\n",
       "      <td>343000</td>\n",
       "      <td>20898.0</td>\n",
       "    </tr>\n",
       "    <tr>\n",
       "      <th>2020</th>\n",
       "      <td>2289009</td>\n",
       "      <td>371000</td>\n",
       "      <td>21258.0</td>\n",
       "    </tr>\n",
       "    <tr>\n",
       "      <th>2021</th>\n",
       "      <td>2213837</td>\n",
       "      <td>423000</td>\n",
       "      <td>20598.0</td>\n",
       "    </tr>\n",
       "  </tbody>\n",
       "</table>\n",
       "</div>"
      ],
      "text/plain": [
       "      이륜차 신고 수    종사자수     사고건수\n",
       "2017   2196475  355000  18241.0\n",
       "2018   2208424  313000  17611.0\n",
       "2019   2236895  343000  20898.0\n",
       "2020   2289009  371000  21258.0\n",
       "2021   2213837  423000  20598.0"
      ]
     },
     "execution_count": 79,
     "metadata": {},
     "output_type": "execute_result"
    }
   ],
   "source": [
    "df = pd.concat([data,rider,count], axis=1)\n",
    "df = df.rename(index={0:'2017',1:'2018',2:'2019',3:'2020',4:'2021'})\n",
    "df"
   ]
  },
  {
   "cell_type": "code",
   "execution_count": 80,
   "id": "69eb501e",
   "metadata": {},
   "outputs": [],
   "source": [
    "df_21 = df.drop('2017', axis=0)"
   ]
  },
  {
   "cell_type": "code",
   "execution_count": 81,
   "id": "5150c9e4",
   "metadata": {},
   "outputs": [
    {
     "data": {
      "text/html": [
       "<div>\n",
       "<style scoped>\n",
       "    .dataframe tbody tr th:only-of-type {\n",
       "        vertical-align: middle;\n",
       "    }\n",
       "\n",
       "    .dataframe tbody tr th {\n",
       "        vertical-align: top;\n",
       "    }\n",
       "\n",
       "    .dataframe thead th {\n",
       "        text-align: right;\n",
       "    }\n",
       "</style>\n",
       "<table border=\"1\" class=\"dataframe\">\n",
       "  <thead>\n",
       "    <tr style=\"text-align: right;\">\n",
       "      <th></th>\n",
       "      <th>이륜차 신고 수</th>\n",
       "      <th>종사자수</th>\n",
       "      <th>사고건수</th>\n",
       "    </tr>\n",
       "  </thead>\n",
       "  <tbody>\n",
       "    <tr>\n",
       "      <th>2018</th>\n",
       "      <td>2208424</td>\n",
       "      <td>313000</td>\n",
       "      <td>17611.0</td>\n",
       "    </tr>\n",
       "    <tr>\n",
       "      <th>2019</th>\n",
       "      <td>2236895</td>\n",
       "      <td>343000</td>\n",
       "      <td>20898.0</td>\n",
       "    </tr>\n",
       "    <tr>\n",
       "      <th>2020</th>\n",
       "      <td>2289009</td>\n",
       "      <td>371000</td>\n",
       "      <td>21258.0</td>\n",
       "    </tr>\n",
       "    <tr>\n",
       "      <th>2021</th>\n",
       "      <td>2213837</td>\n",
       "      <td>423000</td>\n",
       "      <td>20598.0</td>\n",
       "    </tr>\n",
       "  </tbody>\n",
       "</table>\n",
       "</div>"
      ],
      "text/plain": [
       "      이륜차 신고 수    종사자수     사고건수\n",
       "2018   2208424  313000  17611.0\n",
       "2019   2236895  343000  20898.0\n",
       "2020   2289009  371000  21258.0\n",
       "2021   2213837  423000  20598.0"
      ]
     },
     "execution_count": 81,
     "metadata": {},
     "output_type": "execute_result"
    }
   ],
   "source": [
    "df_21"
   ]
  },
  {
   "cell_type": "code",
   "execution_count": 33,
   "id": "923f33d6",
   "metadata": {},
   "outputs": [
    {
     "data": {
      "text/plain": [
       "[<matplotlib.lines.Line2D at 0x23e86623eb0>,\n",
       " <matplotlib.lines.Line2D at 0x23e8662cf70>,\n",
       " <matplotlib.lines.Line2D at 0x23e866390d0>]"
      ]
     },
     "execution_count": 33,
     "metadata": {},
     "output_type": "execute_result"
    },
    {
     "data": {
      "image/png": "[encoded data removed]",
      "text/plain": [
       "<Figure size 1440x720 with 1 Axes>"
      ]
     },
     "metadata": {
      "needs_background": "light"
     },
     "output_type": "display_data"
    }
   ],
   "source": [
    "plt.plot(df)"
   ]
  },
  {
   "cell_type": "code",
   "execution_count": 96,
   "id": "41f87afb",
   "metadata": {},
   "outputs": [
    {
     "data": {
      "text/plain": [
       "(array([17000., 17500., 18000., 18500., 19000., 19500., 20000., 20500.,\n",
       "        21000., 21500.]),\n",
       " [Text(1, 0, ''),\n",
       "  Text(1, 0, ''),\n",
       "  Text(1, 0, ''),\n",
       "  Text(1, 0, ''),\n",
       "  Text(1, 0, ''),\n",
       "  Text(1, 0, ''),\n",
       "  Text(1, 0, ''),\n",
       "  Text(1, 0, ''),\n",
       "  Text(1, 0, ''),\n",
       "  Text(1, 0, '')])"
      ]
     },
     "execution_count": 96,
     "metadata": {},
     "output_type": "execute_result"
    },
    {
     "data": {
      "image/png": "[encoded data removed]",
      "text/plain": [
       "<Figure size 1440x720 with 2 Axes>"
      ]
     },
     "metadata": {
      "needs_background": "light"
     },
     "output_type": "display_data"
    }
   ],
   "source": [
    "fig, ax1 = plt.subplots()\n",
    "ax1.bar(df_21.index, df_21['종사자수'],color='orange', label='Demand', alpha=0.7, width=0.7)\n",
    "plt.xticks(fontsize = 12)\n",
    "plt.yticks(fontsize = 20)\n",
    "plt.xlabel('년도')\n",
    "plt.ylabel('종사자수')\n",
    "\n",
    "# ax1.legend('사업체수',fontsize = 30)\n",
    "plt.title('2018~2021년 배달종사자수 및 사고건수', fontsize= 30)\n",
    "\n",
    "ax2 = ax1.twinx()\n",
    "ax2.plot(df_21.index, df_21['사고건수'],'-s', color='red', markersize=7, linewidth=7, alpha=0.7)\n",
    "plt.ylabel('사고건수')\n",
    "plt.yticks(fontsize=20)"
   ]
  },
  {
   "cell_type": "code",
   "execution_count": 84,
   "id": "a966ee54",
   "metadata": {},
   "outputs": [],
   "source": [
    "df_count = df_21[['종사자수','사고건수']]"
   ]
  },
  {
   "cell_type": "code",
   "execution_count": 95,
   "id": "bc29bad0",
   "metadata": {},
   "outputs": [
    {
     "name": "stderr",
     "output_type": "stream",
     "text": [
      "C:\\Users\\admin\\AppData\\Local\\Temp\\ipykernel_4772\\3206021148.py:16: UserWarning: FixedFormatter should only be used together with FixedLocator\n",
      "  plt.gca().set_yticklabels(['{:,.0f}'.format(x) for x in current_values])\n"
     ]
    },
    {
     "data": {
      "image/png": "[encoded data removed]",
      "text/plain": [
       "<Figure size 1440x720 with 2 Axes>"
      ]
     },
     "metadata": {
      "needs_background": "light"
     },
     "output_type": "display_data"
    }
   ],
   "source": [
    "# 그래프 크기 지정하기 = 너비, 높이\n",
    "plt.rcParams['figure.figsize'] = (20,10)\n",
    "# 선의 두께 지정\n",
    "plt.rcParams['lines.linewidth'] = 2\n",
    "# 폰트지정\n",
    "plt.rc(\"font\", family = \"Malgun Gothic\", size=10)\n",
    "\n",
    "ax1 = df_count.plot.bar(stacked=False, color = ['navy','red'])\n",
    "\n",
    "# x축\n",
    "plt.xticks([i for i in range(0,4,1)], ['2018','2019','2020','2021'], rotation = 0, fontsize='15')\n",
    "# plt.xticks(df.index)\n",
    "\n",
    "# 천단위콤마\n",
    "current_values = plt.gca().get_yticks()\n",
    "plt.gca().set_yticklabels(['{:,.0f}'.format(x) for x in current_values])\n",
    "\n",
    "# title\n",
    "plt.title(\"2018~2021년 종사자&사고건&이륜차신고 수\", size = 20, weight = 'bold', pad = 30)\n",
    "plt.xlabel(\"년도\", fontsize='15')\n",
    "plt.legend(loc=\"upper left\")\n",
    "\n",
    "# 범례 위치 변경하기\n",
    "plt.legend(loc=\"upper left\")\n",
    "\n",
    "ax2 = ax1.twinx()\n",
    "ax2 = df_21['이륜차 신고 수'].plot(color = 'darkorange', linewidth = 5, marker='o', markersize = 15)\n",
    "\n",
    "#plt.ylabel(\"사망자 수\")\n",
    "# x축\n",
    "plt.xticks([i for i in range(0,4,1)], ['2018','2019','2020','2021'], rotation = 0)\n",
    "\n",
    "# plt.xticks(df.index)\n",
    "# y축 범위\n",
    "plt.ylim(1500000,2300000)\n",
    "\n",
    "\n",
    "\n",
    "#범례 위치 변경하기\n",
    "plt.legend(loc=\"upper right\")\n",
    "\n",
    "plt.show()"
   ]
  },
  {
   "cell_type": "code",
   "execution_count": 94,
   "id": "e6ed7067",
   "metadata": {},
   "outputs": [
    {
     "data": {
      "text/plain": [
       "(array([0. , 0.2, 0.4, 0.6, 0.8, 1. ]),\n",
       " [Text(1, 0, ''),\n",
       "  Text(1, 0, ''),\n",
       "  Text(1, 0, ''),\n",
       "  Text(1, 0, ''),\n",
       "  Text(1, 0, ''),\n",
       "  Text(1, 0, '')])"
      ]
     },
     "execution_count": 94,
     "metadata": {},
     "output_type": "execute_result"
    },
    {
     "data": {
      "image/png": "[encoded data removed]",
      "text/plain": [
       "<Figure size 1440x1080 with 3 Axes>"
      ]
     },
     "metadata": {
      "needs_background": "light"
     },
     "output_type": "display_data"
    }
   ],
   "source": [
    "plt.rcParams['figure.figsize'] = (20, 15)\n",
    "fig, ax1 = plt.subplots()\n",
    "ax1.bar(df_21.index, df_21['이륜차 신고 수'],color='orange', label='Demand', alpha=0.7, width=0.7)\n",
    "plt.xticks(fontsize = 12)\n",
    "plt.yticks(fontsize = 15)\n",
    "plt.xlabel('년도')\n",
    "\n",
    "# ax1.legend('사업체수',fontsize = 30)\n",
    "plt.title('2018~2021년 종사자&사고건&이륜차신고 수', fontsize= 30)\n",
    "\n",
    "ax2 = ax1.twinx()\n",
    "ax2.plot(df_21.index, df_21['사고건수'],'-s', color='green', markersize=7, linewidth=5, alpha=0.7)\n",
    "plt.ylabel('사고건수')\n",
    "plt.yticks(fontsize=10)\n",
    "\n",
    "ax3 = ax1.twinx()\n",
    "ax2.plot(df_21.index, df_21['종사자수'],'-s', color='green', markersize=7, linewidth=5, alpha=0.7)\n",
    "plt.ylabel('종사자수')\n",
    "plt.yticks(fontsize=10)"
   ]
  },
  {
   "cell_type": "markdown",
   "id": "b39d631d",
   "metadata": {},
   "source": [
    "### 분석"
   ]
  },
  {
   "cell_type": "code",
   "execution_count": 99,
   "id": "45d0fc40",
   "metadata": {},
   "outputs": [
    {
     "name": "stdout",
     "output_type": "stream",
     "text": [
      "          이륜차 신고 수      종사자수      사고건수\n",
      "이륜차 신고 수  1.000000  0.088607  0.647723\n",
      "종사자수      0.088607  1.000000  0.627932\n",
      "사고건수      0.647723  0.627932  1.000000\n"
     ]
    }
   ],
   "source": [
    "print(df_21.corr())"
   ]
  },
  {
   "cell_type": "code",
   "execution_count": 103,
   "id": "d7a844fc",
   "metadata": {},
   "outputs": [
    {
     "data": {
      "text/html": [
       "<div>\n",
       "<style scoped>\n",
       "    .dataframe tbody tr th:only-of-type {\n",
       "        vertical-align: middle;\n",
       "    }\n",
       "\n",
       "    .dataframe tbody tr th {\n",
       "        vertical-align: top;\n",
       "    }\n",
       "\n",
       "    .dataframe thead th {\n",
       "        text-align: right;\n",
       "    }\n",
       "</style>\n",
       "<table border=\"1\" class=\"dataframe\">\n",
       "  <thead>\n",
       "    <tr style=\"text-align: right;\">\n",
       "      <th></th>\n",
       "      <th>이륜차신고수</th>\n",
       "      <th>종사자수</th>\n",
       "      <th>사고건수</th>\n",
       "    </tr>\n",
       "  </thead>\n",
       "  <tbody>\n",
       "    <tr>\n",
       "      <th>2018</th>\n",
       "      <td>2208424</td>\n",
       "      <td>313000</td>\n",
       "      <td>17611.0</td>\n",
       "    </tr>\n",
       "    <tr>\n",
       "      <th>2019</th>\n",
       "      <td>2236895</td>\n",
       "      <td>343000</td>\n",
       "      <td>20898.0</td>\n",
       "    </tr>\n",
       "    <tr>\n",
       "      <th>2020</th>\n",
       "      <td>2289009</td>\n",
       "      <td>371000</td>\n",
       "      <td>21258.0</td>\n",
       "    </tr>\n",
       "    <tr>\n",
       "      <th>2021</th>\n",
       "      <td>2213837</td>\n",
       "      <td>423000</td>\n",
       "      <td>20598.0</td>\n",
       "    </tr>\n",
       "  </tbody>\n",
       "</table>\n",
       "</div>"
      ],
      "text/plain": [
       "       이륜차신고수    종사자수     사고건수\n",
       "2018  2208424  313000  17611.0\n",
       "2019  2236895  343000  20898.0\n",
       "2020  2289009  371000  21258.0\n",
       "2021  2213837  423000  20598.0"
      ]
     },
     "execution_count": 103,
     "metadata": {},
     "output_type": "execute_result"
    }
   ],
   "source": [
    "df_21 = df_21.rename(columns = {'이륜차 신고 수':'이륜차신고수'})\n",
    "df_21"
   ]
  },
  {
   "cell_type": "markdown",
   "id": "adcfdc01",
   "metadata": {},
   "source": [
    "### 다항선형회귀(사용x)"
   ]
  },
  {
   "cell_type": "code",
   "execution_count": 105,
   "id": "4ebd2fb5",
   "metadata": {},
   "outputs": [
    {
     "name": "stdout",
     "output_type": "stream",
     "text": [
      "model = \n",
      " <statsmodels.regression.linear_model.RegressionResultsWrapper object at 0x0000023E9281D610>\n",
      "---------------------------\n",
      "학습모델 결과 = \n",
      "                             OLS Regression Results                            \n",
      "==============================================================================\n",
      "Dep. Variable:                   사고건수   R-squared:                       0.748\n",
      "Model:                            OLS   Adj. R-squared:                  0.243\n",
      "Method:                 Least Squares   F-statistic:                     1.481\n",
      "Date:                Wed, 27 Jul 2022   Prob (F-statistic):              0.502\n",
      "Time:                        11:58:29   Log-Likelihood:                -32.042\n",
      "No. Observations:                   4   AIC:                             70.08\n",
      "Df Residuals:                       1   BIC:                             68.24\n",
      "Df Model:                           2                                         \n",
      "Covariance Type:            nonrobust                                         \n",
      "==============================================================================\n",
      "                 coef    std err          t      P>|t|      [0.025      0.975]\n",
      "------------------------------------------------------------------------------\n",
      "Intercept  -4.819e+04   5.12e+04     -0.941      0.520   -6.99e+05    6.03e+05\n",
      "종사자수           0.0206      0.018      1.140      0.458      -0.209       0.250\n",
      "이륜차신고수         0.0272      0.023      1.183      0.447      -0.265       0.319\n",
      "==============================================================================\n",
      "Omnibus:                          nan   Durbin-Watson:                   2.991\n",
      "Prob(Omnibus):                    nan   Jarque-Bera (JB):                0.660\n",
      "Skew:                           0.896   Prob(JB):                        0.719\n",
      "Kurtosis:                       2.134   Cond. No.                     1.59e+08\n",
      "==============================================================================\n",
      "\n",
      "Notes:\n",
      "[1] Standard Errors assume that the covariance matrix of the errors is correctly specified.\n",
      "[2] The condition number is large, 1.59e+08. This might indicate that there are\n",
      "strong multicollinearity or other numerical problems.\n",
      "-------------------------------\n",
      "y절편(b) = -48188.1123644833 / 적절성 기울기(a1) = 0.02059816961313357 / 친밀도 기울기(a2) = 0.027184356068410645\n",
      "-------------------------------\n",
      "결정계수(R-squared) =  0.7476363536949068\n",
      "-------------------------------\n",
      "유의수준(p-value) = 0.520\n"
     ]
    },
    {
     "name": "stderr",
     "output_type": "stream",
     "text": [
      "C:\\Users\\admin\\anaconda3\\lib\\site-packages\\statsmodels\\stats\\stattools.py:74: ValueWarning: omni_normtest is not valid with less than 8 observations; 4 samples were given.\n",
      "  warn(\"omni_normtest is not valid with less than 8 observations; %i \"\n"
     ]
    }
   ],
   "source": [
    "### 모델 객체 생성 및 학습모델 생성하기\n",
    "\n",
    "# 모델 생성에 사용할 라이브러리 불러들이기\n",
    "import statsmodels.formula.api as smf\n",
    "\n",
    "# 만족도와 상관관계가 높은 적절성 데이터를 사용하여\n",
    "#  - 종속변수(y) = 만족도 사용\n",
    "#  - 독립변수(x) = 적절성 및 친밀도 사용(여러 개 사용)\n",
    "formulas = \"사고건수 ~ 종사자수 + 이륜차신고수\"\n",
    "\n",
    "### 학습모델 생성하기\n",
    "model = smf.ols(formula = formulas, data=df_21).fit()\n",
    "print(\"model = \\n\", model)\n",
    "print(\"---------------------------\")\n",
    "\n",
    "### 학습모델 결과 확인하기 : summary()\n",
    "print(\"학습모델 결과 = \\n\", model.summary())\n",
    "print(\"-------------------------------\")\n",
    "\n",
    "# print(\"지수값을 실수값으로 표현 : 7.29e-15 = {:.9f}\".format(7.29e-15))\n",
    "# print(\"-------------------------------\")\n",
    "\n",
    "# - R-squared : 결정계수(1에 까가울 수록 학습모델이 좋은 것임)\n",
    "#   (결정계수는 예측을 얼마나 잘 할 수 있을까로 해설할 수도 있다.)\n",
    "# - Adj. R-squared : 수정결정계수(1에 까가울 수록 학습모델이 좋은 것임) : 0.598\n",
    "# - *** 독립변수가 많을 경우 R-squared과 Adj. R-squared의 차이가 클 경우 \n",
    "#       독립변수 [이상치를 확인]해야한다. ***\n",
    "\n",
    "# -  p-value : 독립변수 모두 < 0.05 => 모델은 유효하다.\n",
    "#     --> 적절성 p-value : 0.000 < 0.005\n",
    "#     --> 친밀도 p-value : 0.014 < 0.005\n",
    "# - 적절성의 std err(표준 오차)\n",
    "# - 적절성의 Intercept(y절편) : 0.6673\n",
    "# -  coef(기울기) \n",
    "#    --> 적절성 : 0.685224\n",
    "#    --> 친밀도 : 0.095926\n",
    "# - 적정성의 Kurtosis : 3.992 => 일반적으로 3보다 클경우,\n",
    "#   평균에 데이터가 몰려있다고 판단한다.\n",
    "#   kurtosis() 첨도는 확률분포에서 분포의 [뾰족한 정도]를 나타내는 [척도]입니다. \n",
    "#   --> 첨도가 높은 경우: 데이터의 분포가 평균(혹은 중심)에 많이 몰려 있어 뾰족하다\n",
    "\n",
    "\n",
    "### 위 학습결과(summary())의 내용의 데이터 추출해 보기.....\n",
    "\n",
    "### y절편(b)과 기울기(a) 산출\n",
    "# 회귀식 y = a * x + b\n",
    "# y절편(Intercept) : 힌게 데이터 조회\n",
    "# 기울기  : 사용된 독립변수의 갯수 만큼 조회됨\n",
    "\n",
    "b, a1, a2 = model.params\n",
    "\n",
    "print(\"y절편(b) = {} / 적절성 기울기(a1) = {} / 친밀도 기울기(a2) = {}\"\\\n",
    "          .format(b, a1, a2))\n",
    "print(\"-------------------------------\")\n",
    "\n",
    "### 결정계수(R-squared)\n",
    "# - 단순 회귀분석의 결정계수 보다 조금 높게 나옴\n",
    "rsquared = model.rsquared\n",
    "print(\"결정계수(R-squared) = \", rsquared) \n",
    "print(\"-------------------------------\")\n",
    "\n",
    "### 유의수준(p-value)\n",
    "print(\"유의수준(p-value) = {:.3f}\".format(model.pvalues[0]))\n",
    "\n",
    "### (해석)\n",
    "# - 생성한 학습모델에 사용된 독립변수는\n",
    "# - 유의수준 p-value는 모든 독립변수 < 0.05 으로 유의미 하다.\n",
    "# - 결정계수(R-squared) 0.598 > 0.05  => 의미있는 학습모델\n",
    "# - 하지만, 예측 시에 정확도가 다소 낮을 수 있다."
   ]
  },
  {
   "cell_type": "markdown",
   "id": "906ed164",
   "metadata": {},
   "source": [
    "### 종사자수 신고대수 사고건수 상관관계"
   ]
  },
  {
   "cell_type": "code",
   "execution_count": 106,
   "id": "493ce14e",
   "metadata": {},
   "outputs": [],
   "source": [
    "import seaborn as sns"
   ]
  },
  {
   "cell_type": "code",
   "execution_count": 107,
   "id": "b45a4e02",
   "metadata": {},
   "outputs": [
    {
     "data": {
      "text/plain": [
       "<seaborn.axisgrid.PairGrid at 0x23e9135a730>"
      ]
     },
     "execution_count": 107,
     "metadata": {},
     "output_type": "execute_result"
    },
    {
     "data": {
      "image/png": "[encoded data removed]",
      "text/plain": [
       "<Figure size 540x540 with 12 Axes>"
      ]
     },
     "metadata": {
      "needs_background": "light"
     },
     "output_type": "display_data"
    }
   ],
   "source": [
    "sns.pairplot(df_21)"
   ]
  },
  {
   "cell_type": "markdown",
   "id": "32302437",
   "metadata": {},
   "source": [
    "### 신고대수&사고건수"
   ]
  },
  {
   "cell_type": "code",
   "execution_count": 126,
   "id": "29fe168b",
   "metadata": {},
   "outputs": [
    {
     "data": {
      "text/html": [
       "<div>\n",
       "<style scoped>\n",
       "    .dataframe tbody tr th:only-of-type {\n",
       "        vertical-align: middle;\n",
       "    }\n",
       "\n",
       "    .dataframe tbody tr th {\n",
       "        vertical-align: top;\n",
       "    }\n",
       "\n",
       "    .dataframe thead th {\n",
       "        text-align: right;\n",
       "    }\n",
       "</style>\n",
       "<table border=\"1\" class=\"dataframe\">\n",
       "  <thead>\n",
       "    <tr style=\"text-align: right;\">\n",
       "      <th></th>\n",
       "      <th>이륜차신고수</th>\n",
       "      <th>사고건수</th>\n",
       "    </tr>\n",
       "  </thead>\n",
       "  <tbody>\n",
       "    <tr>\n",
       "      <th>2018</th>\n",
       "      <td>2208424</td>\n",
       "      <td>17611.0</td>\n",
       "    </tr>\n",
       "    <tr>\n",
       "      <th>2019</th>\n",
       "      <td>2236895</td>\n",
       "      <td>20898.0</td>\n",
       "    </tr>\n",
       "    <tr>\n",
       "      <th>2020</th>\n",
       "      <td>2289009</td>\n",
       "      <td>21258.0</td>\n",
       "    </tr>\n",
       "    <tr>\n",
       "      <th>2021</th>\n",
       "      <td>2213837</td>\n",
       "      <td>20598.0</td>\n",
       "    </tr>\n",
       "  </tbody>\n",
       "</table>\n",
       "</div>"
      ],
      "text/plain": [
       "       이륜차신고수     사고건수\n",
       "2018  2208424  17611.0\n",
       "2019  2236895  20898.0\n",
       "2020  2289009  21258.0\n",
       "2021  2213837  20598.0"
      ]
     },
     "execution_count": 126,
     "metadata": {},
     "output_type": "execute_result"
    }
   ],
   "source": [
    "use = df_21[['이륜차신고수','사고건수']]\n",
    "use"
   ]
  },
  {
   "cell_type": "code",
   "execution_count": 127,
   "id": "afad4f08",
   "metadata": {},
   "outputs": [
    {
     "data": {
      "text/plain": [
       "<seaborn.axisgrid.PairGrid at 0x23eaaec5b20>"
      ]
     },
     "execution_count": 127,
     "metadata": {},
     "output_type": "execute_result"
    },
    {
     "data": {
      "image/png": "[encoded data removed]",
      "text/plain": [
       "<Figure size 360x360 with 6 Axes>"
      ]
     },
     "metadata": {
      "needs_background": "light"
     },
     "output_type": "display_data"
    }
   ],
   "source": [
    "sns.pairplot(use)"
   ]
  },
  {
   "cell_type": "code",
   "execution_count": 130,
   "id": "b83c6897",
   "metadata": {},
   "outputs": [
    {
     "name": "stdout",
     "output_type": "stream",
     "text": [
      "검정 결과 = Ttest_relResult(statistic=124.14151971761909, pvalue=1.1524394917440526e-06)\n",
      "검정 통계량 = 124.142, p-value = 0.000\n"
     ]
    }
   ],
   "source": [
    "from scipy import stats\n",
    "# 전/후 검증하기\n",
    "result = stats.ttest_rel(use['이륜차신고수'], use['사고건수'])\n",
    "print('검정 결과 =', result)\n",
    "print('검정 통계량 = %.3f, p-value = %.3f' %(result))\n",
    "\n",
    "#(해석)\n",
    "# 1. p-value 0.000 < 0.05 귀무가설 기각\n",
    "# 2. 대립가설 채택 : 이륜차신고수와 사고건수 관계있다."
   ]
  },
  {
   "cell_type": "code",
   "execution_count": 138,
   "id": "ffc862cb",
   "metadata": {},
   "outputs": [
    {
     "data": {
      "image/png": "[encoded data removed]",
      "text/plain": [
       "<Figure size 1440x720 with 2 Axes>"
      ]
     },
     "metadata": {
      "needs_background": "light"
     },
     "output_type": "display_data"
    }
   ],
   "source": [
    "data2 = df_21[[\"이륜차신고수\",\"종사자수\", \"사고건수\"]]\n",
    "sns.heatmap(data2.corr(), annot=True, cmap='RdPu', linewidth=0.1)\n",
    "plt.show()"
   ]
  },
  {
   "cell_type": "code",
   "execution_count": 137,
   "id": "6225e404",
   "metadata": {},
   "outputs": [
    {
     "data": {
      "image/png": "[encoded data removed]",
      "text/plain": [
       "<Figure size 720x648 with 2 Axes>"
      ]
     },
     "metadata": {
      "needs_background": "light"
     },
     "output_type": "display_data"
    }
   ],
   "source": [
    "fig, ax = plt.subplots(1,1, figsize=(10,9))\n",
    "\n",
    "mask = np.zeros_like(df_21.corr())\n",
    "mask[np.triu_indices_from(mask)] = True\n",
    "\n",
    "sns.heatmap(df_21.corr(), annot=True, cmap='RdPu', linewidth=0.1, mask=mask)\n",
    "plt.show()"
   ]
  }
 ],
 "metadata": {
  "kernelspec": {
   "display_name": "Python 3 (ipykernel)",
   "language": "python",
   "name": "python3"
  },
  "language_info": {
   "codemirror_mode": {
    "name": "ipython",
    "version": 3
   },
   "file_extension": ".py",
   "mimetype": "text/x-python",
   "name": "python",
   "nbconvert_exporter": "python",
   "pygments_lexer": "ipython3",
   "version": "3.9.12"
  },
  "toc": {
   "base_numbering": 1,
   "nav_menu": {},
   "number_sections": true,
   "sideBar": true,
   "skip_h1_title": false,
   "title_cell": "Table of Contents",
   "title_sidebar": "Contents",
   "toc_cell": false,
   "toc_position": {},
   "toc_section_display": true,
   "toc_window_display": false
  }
 },
 "nbformat": 4,
 "nbformat_minor": 5
}
