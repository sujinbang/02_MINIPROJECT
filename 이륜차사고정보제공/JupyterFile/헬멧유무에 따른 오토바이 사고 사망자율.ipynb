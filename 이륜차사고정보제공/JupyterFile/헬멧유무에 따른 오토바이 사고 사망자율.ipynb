{
 "cells": [
  {
   "cell_type": "markdown",
   "id": "ca87b2f0",
   "metadata": {},
   "source": [
    "### 헬멧유무에 따른 오토바이 사고 사망자율"
   ]
  },
  {
   "cell_type": "code",
   "execution_count": 130,
   "id": "2c43d6ff",
   "metadata": {
    "ExecuteTime": {
     "end_time": "2022-07-27T01:41:52.547463Z",
     "start_time": "2022-07-27T01:41:52.539482Z"
    }
   },
   "outputs": [],
   "source": [
    "import pandas as pd"
   ]
  },
  {
   "cell_type": "code",
   "execution_count": 131,
   "id": "70721fe4",
   "metadata": {
    "ExecuteTime": {
     "end_time": "2022-07-27T01:41:54.111295Z",
     "start_time": "2022-07-27T01:41:54.067408Z"
    }
   },
   "outputs": [
    {
     "data": {
      "text/html": [
       "<div>\n",
       "<style scoped>\n",
       "    .dataframe tbody tr th:only-of-type {\n",
       "        vertical-align: middle;\n",
       "    }\n",
       "\n",
       "    .dataframe tbody tr th {\n",
       "        vertical-align: top;\n",
       "    }\n",
       "\n",
       "    .dataframe thead th {\n",
       "        text-align: right;\n",
       "    }\n",
       "</style>\n",
       "<table border=\"1\" class=\"dataframe\">\n",
       "  <thead>\n",
       "    <tr style=\"text-align: right;\">\n",
       "      <th></th>\n",
       "      <th>건수</th>\n",
       "      <th>내원</th>\n",
       "      <th>입원</th>\n",
       "      <th>사망</th>\n",
       "      <th>내원.1</th>\n",
       "      <th>입원.1</th>\n",
       "      <th>사망.1</th>\n",
       "      <th>내원.2</th>\n",
       "      <th>입원.2</th>\n",
       "      <th>사망.2</th>\n",
       "    </tr>\n",
       "  </thead>\n",
       "  <tbody>\n",
       "    <tr>\n",
       "      <th>0</th>\n",
       "      <td>오토바이 헬멧</td>\n",
       "      <td>6108</td>\n",
       "      <td>2171</td>\n",
       "      <td>174</td>\n",
       "      <td>6459</td>\n",
       "      <td>2104</td>\n",
       "      <td>184</td>\n",
       "      <td>5860</td>\n",
       "      <td>1957</td>\n",
       "      <td>199</td>\n",
       "    </tr>\n",
       "    <tr>\n",
       "      <th>1</th>\n",
       "      <td>착용</td>\n",
       "      <td>3892</td>\n",
       "      <td>1181</td>\n",
       "      <td>57</td>\n",
       "      <td>4406</td>\n",
       "      <td>1256</td>\n",
       "      <td>72</td>\n",
       "      <td>4270</td>\n",
       "      <td>1284</td>\n",
       "      <td>83</td>\n",
       "    </tr>\n",
       "    <tr>\n",
       "      <th>2</th>\n",
       "      <td>미착용</td>\n",
       "      <td>1807</td>\n",
       "      <td>740</td>\n",
       "      <td>76</td>\n",
       "      <td>1743</td>\n",
       "      <td>685</td>\n",
       "      <td>80</td>\n",
       "      <td>1357</td>\n",
       "      <td>539</td>\n",
       "      <td>83</td>\n",
       "    </tr>\n",
       "    <tr>\n",
       "      <th>3</th>\n",
       "      <td>미상</td>\n",
       "      <td>409</td>\n",
       "      <td>250</td>\n",
       "      <td>41</td>\n",
       "      <td>310</td>\n",
       "      <td>163</td>\n",
       "      <td>32</td>\n",
       "      <td>233</td>\n",
       "      <td>134</td>\n",
       "      <td>33</td>\n",
       "    </tr>\n",
       "  </tbody>\n",
       "</table>\n",
       "</div>"
      ],
      "text/plain": [
       "        건수    내원    입원   사망  내원.1  입원.1  사망.1  내원.2  입원.2  사망.2\n",
       "0  오토바이 헬멧  6108  2171  174  6459  2104   184  5860  1957   199\n",
       "1       착용  3892  1181   57  4406  1256    72  4270  1284    83\n",
       "2      미착용  1807   740   76  1743   685    80  1357   539    83\n",
       "3       미상   409   250   41   310   163    32   233   134    33"
      ]
     },
     "execution_count": 131,
     "metadata": {},
     "output_type": "execute_result"
    }
   ],
   "source": [
    "file_path = './오토바이 손상환자의 보호장비 착용여부에 따른 입원율 및 사망률 (2018-2020).xlsx'\n",
    "df = pd.read_excel(file_path)\n",
    "df"
   ]
  },
  {
   "cell_type": "code",
   "execution_count": 135,
   "id": "bd0adabb",
   "metadata": {
    "ExecuteTime": {
     "end_time": "2022-07-27T01:42:30.978578Z",
     "start_time": "2022-07-27T01:42:30.963557Z"
    }
   },
   "outputs": [
    {
     "data": {
      "text/html": [
       "<div>\n",
       "<style scoped>\n",
       "    .dataframe tbody tr th:only-of-type {\n",
       "        vertical-align: middle;\n",
       "    }\n",
       "\n",
       "    .dataframe tbody tr th {\n",
       "        vertical-align: top;\n",
       "    }\n",
       "\n",
       "    .dataframe thead th {\n",
       "        text-align: right;\n",
       "    }\n",
       "</style>\n",
       "<table border=\"1\" class=\"dataframe\">\n",
       "  <thead>\n",
       "    <tr style=\"text-align: right;\">\n",
       "      <th></th>\n",
       "      <th>내원.1</th>\n",
       "      <th>입원.1</th>\n",
       "      <th>사망.1</th>\n",
       "    </tr>\n",
       "  </thead>\n",
       "  <tbody>\n",
       "    <tr>\n",
       "      <th>0</th>\n",
       "      <td>6459</td>\n",
       "      <td>2104</td>\n",
       "      <td>184</td>\n",
       "    </tr>\n",
       "    <tr>\n",
       "      <th>1</th>\n",
       "      <td>4406</td>\n",
       "      <td>1256</td>\n",
       "      <td>72</td>\n",
       "    </tr>\n",
       "    <tr>\n",
       "      <th>2</th>\n",
       "      <td>1743</td>\n",
       "      <td>685</td>\n",
       "      <td>80</td>\n",
       "    </tr>\n",
       "    <tr>\n",
       "      <th>3</th>\n",
       "      <td>310</td>\n",
       "      <td>163</td>\n",
       "      <td>32</td>\n",
       "    </tr>\n",
       "  </tbody>\n",
       "</table>\n",
       "</div>"
      ],
      "text/plain": [
       "   내원.1  입원.1  사망.1\n",
       "0  6459  2104   184\n",
       "1  4406  1256    72\n",
       "2  1743   685    80\n",
       "3   310   163    32"
      ]
     },
     "execution_count": 135,
     "metadata": {},
     "output_type": "execute_result"
    }
   ],
   "source": [
    "df.iloc[:, 4:7]"
   ]
  },
  {
   "cell_type": "code",
   "execution_count": 134,
   "id": "e2391d20",
   "metadata": {
    "ExecuteTime": {
     "end_time": "2022-07-27T01:42:19.336980Z",
     "start_time": "2022-07-27T01:42:19.323821Z"
    }
   },
   "outputs": [
    {
     "data": {
      "text/html": [
       "<div>\n",
       "<style scoped>\n",
       "    .dataframe tbody tr th:only-of-type {\n",
       "        vertical-align: middle;\n",
       "    }\n",
       "\n",
       "    .dataframe tbody tr th {\n",
       "        vertical-align: top;\n",
       "    }\n",
       "\n",
       "    .dataframe thead th {\n",
       "        text-align: right;\n",
       "    }\n",
       "</style>\n",
       "<table border=\"1\" class=\"dataframe\">\n",
       "  <thead>\n",
       "    <tr style=\"text-align: right;\">\n",
       "      <th></th>\n",
       "      <th>건수</th>\n",
       "      <th>내원</th>\n",
       "      <th>입원</th>\n",
       "      <th>사망</th>\n",
       "      <th>사망자율</th>\n",
       "    </tr>\n",
       "  </thead>\n",
       "  <tbody>\n",
       "    <tr>\n",
       "      <th>0</th>\n",
       "      <td>오토바이 헬멧</td>\n",
       "      <td>6108</td>\n",
       "      <td>2171</td>\n",
       "      <td>174</td>\n",
       "      <td>2.848723</td>\n",
       "    </tr>\n",
       "    <tr>\n",
       "      <th>1</th>\n",
       "      <td>착용</td>\n",
       "      <td>3892</td>\n",
       "      <td>1181</td>\n",
       "      <td>57</td>\n",
       "      <td>1.464543</td>\n",
       "    </tr>\n",
       "    <tr>\n",
       "      <th>2</th>\n",
       "      <td>미착용</td>\n",
       "      <td>1807</td>\n",
       "      <td>740</td>\n",
       "      <td>76</td>\n",
       "      <td>4.205866</td>\n",
       "    </tr>\n",
       "    <tr>\n",
       "      <th>3</th>\n",
       "      <td>미상</td>\n",
       "      <td>409</td>\n",
       "      <td>250</td>\n",
       "      <td>41</td>\n",
       "      <td>10.024450</td>\n",
       "    </tr>\n",
       "  </tbody>\n",
       "</table>\n",
       "</div>"
      ],
      "text/plain": [
       "        건수    내원    입원   사망       사망자율\n",
       "0  오토바이 헬멧  6108  2171  174   2.848723\n",
       "1       착용  3892  1181   57   1.464543\n",
       "2      미착용  1807   740   76   4.205866\n",
       "3       미상   409   250   41  10.024450"
      ]
     },
     "execution_count": 134,
     "metadata": {},
     "output_type": "execute_result"
    }
   ],
   "source": [
    "# 2018년\n",
    "df_2018 = df.iloc[:, :4]\n",
    "df_2018['사망자율'] = df_2018[\"사망\"]/df_2018[\"내원\"]*100\n",
    "df_2018"
   ]
  },
  {
   "cell_type": "code",
   "execution_count": 136,
   "id": "44966960",
   "metadata": {
    "ExecuteTime": {
     "end_time": "2022-07-27T01:42:42.949820Z",
     "start_time": "2022-07-27T01:42:42.923900Z"
    }
   },
   "outputs": [
    {
     "data": {
      "text/html": [
       "<div>\n",
       "<style scoped>\n",
       "    .dataframe tbody tr th:only-of-type {\n",
       "        vertical-align: middle;\n",
       "    }\n",
       "\n",
       "    .dataframe tbody tr th {\n",
       "        vertical-align: top;\n",
       "    }\n",
       "\n",
       "    .dataframe thead th {\n",
       "        text-align: right;\n",
       "    }\n",
       "</style>\n",
       "<table border=\"1\" class=\"dataframe\">\n",
       "  <thead>\n",
       "    <tr style=\"text-align: right;\">\n",
       "      <th></th>\n",
       "      <th>내원</th>\n",
       "      <th>입원</th>\n",
       "      <th>사망</th>\n",
       "      <th>사망자율</th>\n",
       "    </tr>\n",
       "  </thead>\n",
       "  <tbody>\n",
       "    <tr>\n",
       "      <th>0</th>\n",
       "      <td>6459</td>\n",
       "      <td>2104</td>\n",
       "      <td>184</td>\n",
       "      <td>2.848738</td>\n",
       "    </tr>\n",
       "    <tr>\n",
       "      <th>1</th>\n",
       "      <td>4406</td>\n",
       "      <td>1256</td>\n",
       "      <td>72</td>\n",
       "      <td>1.634135</td>\n",
       "    </tr>\n",
       "    <tr>\n",
       "      <th>2</th>\n",
       "      <td>1743</td>\n",
       "      <td>685</td>\n",
       "      <td>80</td>\n",
       "      <td>4.589788</td>\n",
       "    </tr>\n",
       "    <tr>\n",
       "      <th>3</th>\n",
       "      <td>310</td>\n",
       "      <td>163</td>\n",
       "      <td>32</td>\n",
       "      <td>10.322581</td>\n",
       "    </tr>\n",
       "  </tbody>\n",
       "</table>\n",
       "</div>"
      ],
      "text/plain": [
       "     내원    입원   사망       사망자율\n",
       "0  6459  2104  184   2.848738\n",
       "1  4406  1256   72   1.634135\n",
       "2  1743   685   80   4.589788\n",
       "3   310   163   32  10.322581"
      ]
     },
     "execution_count": 136,
     "metadata": {},
     "output_type": "execute_result"
    }
   ],
   "source": [
    "# 2019년\n",
    "df_2019 = df.iloc[:, 4:7]\n",
    "df_2019.columns = ['내원','입원','사망']\n",
    "df_2019['사망자율'] = df_2019[\"사망\"]/df_2019[\"내원\"]*100\n",
    "df_2019"
   ]
  },
  {
   "cell_type": "code",
   "execution_count": 137,
   "id": "bda01457",
   "metadata": {
    "ExecuteTime": {
     "end_time": "2022-07-27T01:43:02.282244Z",
     "start_time": "2022-07-27T01:43:02.251728Z"
    },
    "scrolled": false
   },
   "outputs": [
    {
     "data": {
      "text/html": [
       "<div>\n",
       "<style scoped>\n",
       "    .dataframe tbody tr th:only-of-type {\n",
       "        vertical-align: middle;\n",
       "    }\n",
       "\n",
       "    .dataframe tbody tr th {\n",
       "        vertical-align: top;\n",
       "    }\n",
       "\n",
       "    .dataframe thead th {\n",
       "        text-align: right;\n",
       "    }\n",
       "</style>\n",
       "<table border=\"1\" class=\"dataframe\">\n",
       "  <thead>\n",
       "    <tr style=\"text-align: right;\">\n",
       "      <th></th>\n",
       "      <th>내원</th>\n",
       "      <th>입원</th>\n",
       "      <th>사망</th>\n",
       "      <th>사망자율</th>\n",
       "    </tr>\n",
       "  </thead>\n",
       "  <tbody>\n",
       "    <tr>\n",
       "      <th>0</th>\n",
       "      <td>5860</td>\n",
       "      <td>1957</td>\n",
       "      <td>199</td>\n",
       "      <td>3.395904</td>\n",
       "    </tr>\n",
       "    <tr>\n",
       "      <th>1</th>\n",
       "      <td>4270</td>\n",
       "      <td>1284</td>\n",
       "      <td>83</td>\n",
       "      <td>1.943794</td>\n",
       "    </tr>\n",
       "    <tr>\n",
       "      <th>2</th>\n",
       "      <td>1357</td>\n",
       "      <td>539</td>\n",
       "      <td>83</td>\n",
       "      <td>6.116433</td>\n",
       "    </tr>\n",
       "    <tr>\n",
       "      <th>3</th>\n",
       "      <td>233</td>\n",
       "      <td>134</td>\n",
       "      <td>33</td>\n",
       "      <td>14.163090</td>\n",
       "    </tr>\n",
       "  </tbody>\n",
       "</table>\n",
       "</div>"
      ],
      "text/plain": [
       "     내원    입원   사망       사망자율\n",
       "0  5860  1957  199   3.395904\n",
       "1  4270  1284   83   1.943794\n",
       "2  1357   539   83   6.116433\n",
       "3   233   134   33  14.163090"
      ]
     },
     "execution_count": 137,
     "metadata": {},
     "output_type": "execute_result"
    }
   ],
   "source": [
    "# 2020년\n",
    "df_2020 = df.iloc[:, 7:]\n",
    "df_2020.columns = ['내원','입원','사망']\n",
    "df_2020['사망자율'] = df_2020[\"사망\"]/df_2020[\"내원\"]*100\n",
    "df_2020"
   ]
  },
  {
   "cell_type": "code",
   "execution_count": 138,
   "id": "d41114ca",
   "metadata": {
    "ExecuteTime": {
     "end_time": "2022-07-27T01:43:08.104945Z",
     "start_time": "2022-07-27T01:43:08.092032Z"
    }
   },
   "outputs": [],
   "source": [
    "df_all = pd.concat([df_2018,df_2019,df_2020], axis=1)\n",
    "df_all\n",
    "df_all.to_csv(\"./년도별 오토바이헬멧유무데이터.csv\")"
   ]
  },
  {
   "cell_type": "code",
   "execution_count": 139,
   "id": "be103bce",
   "metadata": {
    "ExecuteTime": {
     "end_time": "2022-07-27T01:43:10.779454Z",
     "start_time": "2022-07-27T01:43:10.755636Z"
    }
   },
   "outputs": [
    {
     "data": {
      "text/html": [
       "<div>\n",
       "<style scoped>\n",
       "    .dataframe tbody tr th:only-of-type {\n",
       "        vertical-align: middle;\n",
       "    }\n",
       "\n",
       "    .dataframe tbody tr th {\n",
       "        vertical-align: top;\n",
       "    }\n",
       "\n",
       "    .dataframe thead th {\n",
       "        text-align: right;\n",
       "    }\n",
       "</style>\n",
       "<table border=\"1\" class=\"dataframe\">\n",
       "  <thead>\n",
       "    <tr style=\"text-align: right;\">\n",
       "      <th></th>\n",
       "      <th>건수</th>\n",
       "      <th>내원</th>\n",
       "      <th>입원</th>\n",
       "      <th>사망</th>\n",
       "      <th>사망자율</th>\n",
       "      <th>내원</th>\n",
       "      <th>입원</th>\n",
       "      <th>사망</th>\n",
       "      <th>사망자율</th>\n",
       "      <th>내원</th>\n",
       "      <th>입원</th>\n",
       "      <th>사망</th>\n",
       "      <th>사망자율</th>\n",
       "    </tr>\n",
       "  </thead>\n",
       "  <tbody>\n",
       "    <tr>\n",
       "      <th>0</th>\n",
       "      <td>오토바이 헬멧</td>\n",
       "      <td>6108</td>\n",
       "      <td>2171</td>\n",
       "      <td>174</td>\n",
       "      <td>2.848723</td>\n",
       "      <td>6459</td>\n",
       "      <td>2104</td>\n",
       "      <td>184</td>\n",
       "      <td>2.848738</td>\n",
       "      <td>5860</td>\n",
       "      <td>1957</td>\n",
       "      <td>199</td>\n",
       "      <td>3.395904</td>\n",
       "    </tr>\n",
       "    <tr>\n",
       "      <th>1</th>\n",
       "      <td>착용</td>\n",
       "      <td>3892</td>\n",
       "      <td>1181</td>\n",
       "      <td>57</td>\n",
       "      <td>1.464543</td>\n",
       "      <td>4406</td>\n",
       "      <td>1256</td>\n",
       "      <td>72</td>\n",
       "      <td>1.634135</td>\n",
       "      <td>4270</td>\n",
       "      <td>1284</td>\n",
       "      <td>83</td>\n",
       "      <td>1.943794</td>\n",
       "    </tr>\n",
       "    <tr>\n",
       "      <th>2</th>\n",
       "      <td>미착용</td>\n",
       "      <td>1807</td>\n",
       "      <td>740</td>\n",
       "      <td>76</td>\n",
       "      <td>4.205866</td>\n",
       "      <td>1743</td>\n",
       "      <td>685</td>\n",
       "      <td>80</td>\n",
       "      <td>4.589788</td>\n",
       "      <td>1357</td>\n",
       "      <td>539</td>\n",
       "      <td>83</td>\n",
       "      <td>6.116433</td>\n",
       "    </tr>\n",
       "    <tr>\n",
       "      <th>3</th>\n",
       "      <td>미상</td>\n",
       "      <td>409</td>\n",
       "      <td>250</td>\n",
       "      <td>41</td>\n",
       "      <td>10.024450</td>\n",
       "      <td>310</td>\n",
       "      <td>163</td>\n",
       "      <td>32</td>\n",
       "      <td>10.322581</td>\n",
       "      <td>233</td>\n",
       "      <td>134</td>\n",
       "      <td>33</td>\n",
       "      <td>14.163090</td>\n",
       "    </tr>\n",
       "  </tbody>\n",
       "</table>\n",
       "</div>"
      ],
      "text/plain": [
       "        건수    내원    입원   사망       사망자율    내원    입원   사망       사망자율    내원  \\\n",
       "0  오토바이 헬멧  6108  2171  174   2.848723  6459  2104  184   2.848738  5860   \n",
       "1       착용  3892  1181   57   1.464543  4406  1256   72   1.634135  4270   \n",
       "2      미착용  1807   740   76   4.205866  1743   685   80   4.589788  1357   \n",
       "3       미상   409   250   41  10.024450   310   163   32  10.322581   233   \n",
       "\n",
       "     입원   사망       사망자율  \n",
       "0  1957  199   3.395904  \n",
       "1  1284   83   1.943794  \n",
       "2   539   83   6.116433  \n",
       "3   134   33  14.163090  "
      ]
     },
     "execution_count": 139,
     "metadata": {},
     "output_type": "execute_result"
    }
   ],
   "source": [
    "df_all"
   ]
  },
  {
   "cell_type": "code",
   "execution_count": 140,
   "id": "0b220094",
   "metadata": {
    "ExecuteTime": {
     "end_time": "2022-07-27T01:43:22.561522Z",
     "start_time": "2022-07-27T01:43:22.547351Z"
    }
   },
   "outputs": [],
   "source": [
    "# 각 년도 사망자율을 한 데이터프레임에 넣기\n",
    "data = pd.concat([df_2018['사망자율'],df_2019['사망자율'],df_2020['사망자율']], axis=1)"
   ]
  },
  {
   "cell_type": "code",
   "execution_count": 141,
   "id": "159c3e86",
   "metadata": {
    "ExecuteTime": {
     "end_time": "2022-07-27T01:43:23.965673Z",
     "start_time": "2022-07-27T01:43:23.955314Z"
    }
   },
   "outputs": [
    {
     "data": {
      "text/html": [
       "<div>\n",
       "<style scoped>\n",
       "    .dataframe tbody tr th:only-of-type {\n",
       "        vertical-align: middle;\n",
       "    }\n",
       "\n",
       "    .dataframe tbody tr th {\n",
       "        vertical-align: top;\n",
       "    }\n",
       "\n",
       "    .dataframe thead th {\n",
       "        text-align: right;\n",
       "    }\n",
       "</style>\n",
       "<table border=\"1\" class=\"dataframe\">\n",
       "  <thead>\n",
       "    <tr style=\"text-align: right;\">\n",
       "      <th></th>\n",
       "      <th>2018년 사망자율</th>\n",
       "      <th>2019년 사망자율</th>\n",
       "      <th>2020년 사망자율</th>\n",
       "    </tr>\n",
       "  </thead>\n",
       "  <tbody>\n",
       "    <tr>\n",
       "      <th>0</th>\n",
       "      <td>2.848723</td>\n",
       "      <td>2.848738</td>\n",
       "      <td>3.395904</td>\n",
       "    </tr>\n",
       "    <tr>\n",
       "      <th>1</th>\n",
       "      <td>1.464543</td>\n",
       "      <td>1.634135</td>\n",
       "      <td>1.943794</td>\n",
       "    </tr>\n",
       "    <tr>\n",
       "      <th>2</th>\n",
       "      <td>4.205866</td>\n",
       "      <td>4.589788</td>\n",
       "      <td>6.116433</td>\n",
       "    </tr>\n",
       "    <tr>\n",
       "      <th>3</th>\n",
       "      <td>10.024450</td>\n",
       "      <td>10.322581</td>\n",
       "      <td>14.163090</td>\n",
       "    </tr>\n",
       "  </tbody>\n",
       "</table>\n",
       "</div>"
      ],
      "text/plain": [
       "   2018년 사망자율  2019년 사망자율  2020년 사망자율\n",
       "0    2.848723    2.848738    3.395904\n",
       "1    1.464543    1.634135    1.943794\n",
       "2    4.205866    4.589788    6.116433\n",
       "3   10.024450   10.322581   14.163090"
      ]
     },
     "execution_count": 141,
     "metadata": {},
     "output_type": "execute_result"
    }
   ],
   "source": [
    "data.columns = [\"2018년 사망자율\", \"2019년 사망자율\", \"2020년 사망자율\"]\n",
    "data"
   ]
  },
  {
   "cell_type": "code",
   "execution_count": 142,
   "id": "1f2cdbc3",
   "metadata": {
    "ExecuteTime": {
     "end_time": "2022-07-27T01:43:31.540032Z",
     "start_time": "2022-07-27T01:43:31.531595Z"
    }
   },
   "outputs": [],
   "source": [
    "# 행이름 변경\n",
    "data.rename(index={0:'오토바이 사고 전체', 1:'헬멧 착용', 2:'헬멧 미착용', 3:'헬멧 착용 미상'}, inplace=True)"
   ]
  },
  {
   "cell_type": "code",
   "execution_count": 143,
   "id": "0ac88551",
   "metadata": {
    "ExecuteTime": {
     "end_time": "2022-07-27T01:43:32.781697Z",
     "start_time": "2022-07-27T01:43:32.763023Z"
    },
    "scrolled": false
   },
   "outputs": [
    {
     "data": {
      "text/html": [
       "<div>\n",
       "<style scoped>\n",
       "    .dataframe tbody tr th:only-of-type {\n",
       "        vertical-align: middle;\n",
       "    }\n",
       "\n",
       "    .dataframe tbody tr th {\n",
       "        vertical-align: top;\n",
       "    }\n",
       "\n",
       "    .dataframe thead th {\n",
       "        text-align: right;\n",
       "    }\n",
       "</style>\n",
       "<table border=\"1\" class=\"dataframe\">\n",
       "  <thead>\n",
       "    <tr style=\"text-align: right;\">\n",
       "      <th></th>\n",
       "      <th>2018년 사망자율</th>\n",
       "      <th>2019년 사망자율</th>\n",
       "      <th>2020년 사망자율</th>\n",
       "    </tr>\n",
       "  </thead>\n",
       "  <tbody>\n",
       "    <tr>\n",
       "      <th>오토바이 사고 전체</th>\n",
       "      <td>2.848723</td>\n",
       "      <td>2.848738</td>\n",
       "      <td>3.395904</td>\n",
       "    </tr>\n",
       "    <tr>\n",
       "      <th>헬멧 착용</th>\n",
       "      <td>1.464543</td>\n",
       "      <td>1.634135</td>\n",
       "      <td>1.943794</td>\n",
       "    </tr>\n",
       "    <tr>\n",
       "      <th>헬멧 미착용</th>\n",
       "      <td>4.205866</td>\n",
       "      <td>4.589788</td>\n",
       "      <td>6.116433</td>\n",
       "    </tr>\n",
       "    <tr>\n",
       "      <th>헬멧 착용 미상</th>\n",
       "      <td>10.024450</td>\n",
       "      <td>10.322581</td>\n",
       "      <td>14.163090</td>\n",
       "    </tr>\n",
       "  </tbody>\n",
       "</table>\n",
       "</div>"
      ],
      "text/plain": [
       "            2018년 사망자율  2019년 사망자율  2020년 사망자율\n",
       "오토바이 사고 전체    2.848723    2.848738    3.395904\n",
       "헬멧 착용         1.464543    1.634135    1.943794\n",
       "헬멧 미착용        4.205866    4.589788    6.116433\n",
       "헬멧 착용 미상     10.024450   10.322581   14.163090"
      ]
     },
     "execution_count": 143,
     "metadata": {},
     "output_type": "execute_result"
    }
   ],
   "source": [
    "data"
   ]
  },
  {
   "cell_type": "code",
   "execution_count": 144,
   "id": "452b173c",
   "metadata": {
    "ExecuteTime": {
     "end_time": "2022-07-27T01:43:37.566241Z",
     "start_time": "2022-07-27T01:43:37.547958Z"
    }
   },
   "outputs": [],
   "source": [
    "data2 = data.T"
   ]
  },
  {
   "cell_type": "code",
   "execution_count": 145,
   "id": "aafdcb07",
   "metadata": {
    "ExecuteTime": {
     "end_time": "2022-07-27T01:43:39.466909Z",
     "start_time": "2022-07-27T01:43:39.449954Z"
    }
   },
   "outputs": [],
   "source": [
    "data3 = data2.drop(['헬멧 착용 미상'], axis=1)"
   ]
  },
  {
   "cell_type": "code",
   "execution_count": 147,
   "id": "fd47245e",
   "metadata": {
    "ExecuteTime": {
     "end_time": "2022-07-27T01:43:45.729165Z",
     "start_time": "2022-07-27T01:43:45.706226Z"
    }
   },
   "outputs": [],
   "source": [
    "data3.to_csv(\"./년도별 오토바이헬멧유무,사망자율.csv\")"
   ]
  },
  {
   "cell_type": "code",
   "execution_count": 187,
   "id": "45a94d03",
   "metadata": {
    "ExecuteTime": {
     "end_time": "2022-07-27T02:20:04.591448Z",
     "start_time": "2022-07-27T02:20:04.568540Z"
    }
   },
   "outputs": [
    {
     "data": {
      "text/html": [
       "<div>\n",
       "<style scoped>\n",
       "    .dataframe tbody tr th:only-of-type {\n",
       "        vertical-align: middle;\n",
       "    }\n",
       "\n",
       "    .dataframe tbody tr th {\n",
       "        vertical-align: top;\n",
       "    }\n",
       "\n",
       "    .dataframe thead th {\n",
       "        text-align: right;\n",
       "    }\n",
       "</style>\n",
       "<table border=\"1\" class=\"dataframe\">\n",
       "  <thead>\n",
       "    <tr style=\"text-align: right;\">\n",
       "      <th></th>\n",
       "      <th>오토바이 사고 전체</th>\n",
       "      <th>헬멧 착용</th>\n",
       "      <th>헬멧 미착용</th>\n",
       "    </tr>\n",
       "  </thead>\n",
       "  <tbody>\n",
       "    <tr>\n",
       "      <th>2018년 사망자율</th>\n",
       "      <td>2.848723</td>\n",
       "      <td>1.464543</td>\n",
       "      <td>4.205866</td>\n",
       "    </tr>\n",
       "    <tr>\n",
       "      <th>2019년 사망자율</th>\n",
       "      <td>2.848738</td>\n",
       "      <td>1.634135</td>\n",
       "      <td>4.589788</td>\n",
       "    </tr>\n",
       "    <tr>\n",
       "      <th>2020년 사망자율</th>\n",
       "      <td>3.395904</td>\n",
       "      <td>1.943794</td>\n",
       "      <td>6.116433</td>\n",
       "    </tr>\n",
       "  </tbody>\n",
       "</table>\n",
       "</div>"
      ],
      "text/plain": [
       "            오토바이 사고 전체     헬멧 착용    헬멧 미착용\n",
       "2018년 사망자율    2.848723  1.464543  4.205866\n",
       "2019년 사망자율    2.848738  1.634135  4.589788\n",
       "2020년 사망자율    3.395904  1.943794  6.116433"
      ]
     },
     "execution_count": 187,
     "metadata": {},
     "output_type": "execute_result"
    }
   ],
   "source": [
    "data3"
   ]
  },
  {
   "cell_type": "code",
   "execution_count": 163,
   "id": "b177f710",
   "metadata": {
    "ExecuteTime": {
     "end_time": "2022-07-27T01:58:47.442206Z",
     "start_time": "2022-07-27T01:58:47.426792Z"
    },
    "scrolled": true
   },
   "outputs": [
    {
     "data": {
      "text/html": [
       "<div>\n",
       "<style scoped>\n",
       "    .dataframe tbody tr th:only-of-type {\n",
       "        vertical-align: middle;\n",
       "    }\n",
       "\n",
       "    .dataframe tbody tr th {\n",
       "        vertical-align: top;\n",
       "    }\n",
       "\n",
       "    .dataframe thead th {\n",
       "        text-align: right;\n",
       "    }\n",
       "</style>\n",
       "<table border=\"1\" class=\"dataframe\">\n",
       "  <thead>\n",
       "    <tr style=\"text-align: right;\">\n",
       "      <th></th>\n",
       "      <th>사망자수</th>\n",
       "    </tr>\n",
       "  </thead>\n",
       "  <tbody>\n",
       "    <tr>\n",
       "      <th>2018년</th>\n",
       "      <td>174</td>\n",
       "    </tr>\n",
       "    <tr>\n",
       "      <th>2019년</th>\n",
       "      <td>184</td>\n",
       "    </tr>\n",
       "    <tr>\n",
       "      <th>2020년</th>\n",
       "      <td>199</td>\n",
       "    </tr>\n",
       "  </tbody>\n",
       "</table>\n",
       "</div>"
      ],
      "text/plain": [
       "       사망자수\n",
       "2018년   174\n",
       "2019년   184\n",
       "2020년   199"
      ]
     },
     "execution_count": 163,
     "metadata": {},
     "output_type": "execute_result"
    }
   ],
   "source": [
    "A = {\"2018년\" : 174,\n",
    "    \"2019년\" : 184,\n",
    "    \"2020년\" : 199}\n",
    "died = pd.DataFrame(A, index=[\"사망자수\"])\n",
    "died = died.T\n",
    "died"
   ]
  },
  {
   "cell_type": "code",
   "execution_count": 148,
   "id": "707c7a20",
   "metadata": {
    "ExecuteTime": {
     "end_time": "2022-07-27T01:43:48.715998Z",
     "start_time": "2022-07-27T01:43:48.699046Z"
    }
   },
   "outputs": [],
   "source": [
    "import matplotlib.pyplot as plt\n",
    "import matplotlib"
   ]
  },
  {
   "cell_type": "code",
   "execution_count": 223,
   "id": "e838381d",
   "metadata": {
    "ExecuteTime": {
     "end_time": "2022-07-27T02:51:37.752052Z",
     "start_time": "2022-07-27T02:51:37.245860Z"
    },
    "scrolled": false
   },
   "outputs": [
    {
     "data": {
      "text/plain": [
       "(array([1., 2., 3., 4., 5., 6., 7., 8.]),\n",
       " [Text(1, 0, ''),\n",
       "  Text(1, 0, ''),\n",
       "  Text(1, 0, ''),\n",
       "  Text(1, 0, ''),\n",
       "  Text(1, 0, ''),\n",
       "  Text(1, 0, ''),\n",
       "  Text(1, 0, ''),\n",
       "  Text(1, 0, '')])"
      ]
     },
     "execution_count": 223,
     "metadata": {},
     "output_type": "execute_result"
    },
    {
     "data": {
      "image/png": "[encoded data removed]",
      "text/plain": [
       "<Figure size 1440x720 with 3 Axes>"
      ]
     },
     "metadata": {
      "needs_background": "light"
     },
     "output_type": "display_data"
    }
   ],
   "source": [
    "fig, ax1 = plt.subplots()\n",
    "ax1.bar(died.index, died['사망자수'],color='skyblue', label='사망자수', alpha=0.7, width=0.7)\n",
    "plt.xticks([i for i in range(0,3,1)], ['2018년','2019년','2020년'], rotation = 0, fontsize='18')\n",
    "plt.yticks(fontsize = 20)\n",
    "plt.ylim(0,250)\n",
    "plt.title('-', fontsize= 30)\n",
    "plt.legend(loc=\"upper left\")\n",
    "\n",
    "# title\n",
    "plt.title(\"헬멧유무에 따른 오토바이 사고 사망자율\", size = 20, weight = 'bold', pad = 30)\n",
    "\n",
    "ax2 = ax1.twinx()\n",
    "ax2.plot(data3.index, data3['헬멧 착용'],'-s', color='blue', markersize=7, linewidth=5, alpha=0.7, label='헬멧 착용 사망자율')\n",
    "plt.ylim(1,8)\n",
    "#plt.legend(loc=\"upper right\")\n",
    "ax2.legend(bbox_to_anchor=(1, 0.96))\n",
    "\n",
    "ax3 = ax1.twinx()\n",
    "ax3.plot(data3.index, data3['헬멧 미착용'],'-s', color='red', markersize=7, linewidth=5, alpha=0.7, label='헬멧 미착용 사망자율')\n",
    "plt.ylim(1,8)\n",
    "plt.legend(loc=\"upper right\")\n",
    "\n",
    "\n",
    "#ax2.plot(data3.index, data3['헬멧 착용','헬멧 미착용']],'-s', color=['blue','red'], markersize=7, linewidth=5, alpha=0.7)\n",
    "plt.yticks(fontsize=20)"
   ]
  }
 ],
 "metadata": {
  "kernelspec": {
   "display_name": "Python 3 (ipykernel)",
   "language": "python",
   "name": "python3"
  },
  "language_info": {
   "codemirror_mode": {
    "name": "ipython",
    "version": 3
   },
   "file_extension": ".py",
   "mimetype": "text/x-python",
   "name": "python",
   "nbconvert_exporter": "python",
   "pygments_lexer": "ipython3",
   "version": "3.9.12"
  },
  "toc": {
   "base_numbering": 1,
   "nav_menu": {},
   "number_sections": true,
   "sideBar": true,
   "skip_h1_title": false,
   "title_cell": "Table of Contents",
   "title_sidebar": "Contents",
   "toc_cell": false,
   "toc_position": {},
   "toc_section_display": true,
   "toc_window_display": false
  }
 },
 "nbformat": 4,
 "nbformat_minor": 5
}
