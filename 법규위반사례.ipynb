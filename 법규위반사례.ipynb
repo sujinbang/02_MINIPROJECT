{
 "cells": [
  {
   "cell_type": "code",
   "execution_count": 2,
   "id": "9962503f-7a5a-44c5-915d-9cf130eee90a",
   "metadata": {},
   "outputs": [],
   "source": [
    "import pandas as pd"
   ]
  },
  {
   "cell_type": "code",
   "execution_count": 6,
   "id": "4e15bd01-9553-41e9-a898-e146081934f3",
   "metadata": {},
   "outputs": [
    {
     "data": {
      "text/html": [
       "<div>\n",
       "<style scoped>\n",
       "    .dataframe tbody tr th:only-of-type {\n",
       "        vertical-align: middle;\n",
       "    }\n",
       "\n",
       "    .dataframe tbody tr th {\n",
       "        vertical-align: top;\n",
       "    }\n",
       "\n",
       "    .dataframe thead th {\n",
       "        text-align: right;\n",
       "    }\n",
       "</style>\n",
       "<table border=\"1\" class=\"dataframe\">\n",
       "  <thead>\n",
       "    <tr style=\"text-align: right;\">\n",
       "      <th></th>\n",
       "      <th>연도</th>\n",
       "      <th>신호위반</th>\n",
       "      <th>중앙선침범</th>\n",
       "      <th>과속</th>\n",
       "      <th>안전운전 의무위반</th>\n",
       "      <th>보호장구미착용</th>\n",
       "      <th>보도통행</th>\n",
       "      <th>기타</th>\n",
       "    </tr>\n",
       "  </thead>\n",
       "  <tbody>\n",
       "    <tr>\n",
       "      <th>0</th>\n",
       "      <td>2017</td>\n",
       "      <td>38702</td>\n",
       "      <td>4987</td>\n",
       "      <td>71</td>\n",
       "      <td>3512</td>\n",
       "      <td>180889</td>\n",
       "      <td>14997</td>\n",
       "      <td>77212</td>\n",
       "    </tr>\n",
       "    <tr>\n",
       "      <th>1</th>\n",
       "      <td>2018</td>\n",
       "      <td>37087</td>\n",
       "      <td>4222</td>\n",
       "      <td>39</td>\n",
       "      <td>4360</td>\n",
       "      <td>138386</td>\n",
       "      <td>10677</td>\n",
       "      <td>46939</td>\n",
       "    </tr>\n",
       "    <tr>\n",
       "      <th>2</th>\n",
       "      <td>2019</td>\n",
       "      <td>47887</td>\n",
       "      <td>4602</td>\n",
       "      <td>95</td>\n",
       "      <td>3954</td>\n",
       "      <td>147080</td>\n",
       "      <td>12037</td>\n",
       "      <td>56131</td>\n",
       "    </tr>\n",
       "    <tr>\n",
       "      <th>3</th>\n",
       "      <td>2020</td>\n",
       "      <td>76356</td>\n",
       "      <td>6894</td>\n",
       "      <td>134</td>\n",
       "      <td>4414</td>\n",
       "      <td>164261</td>\n",
       "      <td>18833</td>\n",
       "      <td>80102</td>\n",
       "    </tr>\n",
       "    <tr>\n",
       "      <th>4</th>\n",
       "      <td>2021</td>\n",
       "      <td>86915</td>\n",
       "      <td>9620</td>\n",
       "      <td>404</td>\n",
       "      <td>4583</td>\n",
       "      <td>158241</td>\n",
       "      <td>20522</td>\n",
       "      <td>127189</td>\n",
       "    </tr>\n",
       "  </tbody>\n",
       "</table>\n",
       "</div>"
      ],
      "text/plain": [
       "     연도   신호위반  중앙선침범   과속  안전운전 의무위반  보호장구미착용   보도통행      기타\n",
       "0  2017  38702   4987   71       3512   180889  14997   77212\n",
       "1  2018  37087   4222   39       4360   138386  10677   46939\n",
       "2  2019  47887   4602   95       3954   147080  12037   56131\n",
       "3  2020  76356   6894  134       4414   164261  18833   80102\n",
       "4  2021  86915   9620  404       4583   158241  20522  127189"
      ]
     },
     "execution_count": 6,
     "metadata": {},
     "output_type": "execute_result"
    }
   ],
   "source": [
    "df = pd.read_csv('./data/경찰청_이륜차 위반법규별 단속 현황.csv', encoding = 'euc-kr')\n",
    "df"
   ]
  },
  {
   "cell_type": "code",
   "execution_count": null,
   "id": "90a9ae9f-8f70-4803-9af8-3c3da2ec1750",
   "metadata": {},
   "outputs": [],
   "source": []
  }
 ],
 "metadata": {
  "kernelspec": {
   "display_name": "Python 3 (ipykernel)",
   "language": "python",
   "name": "python3"
  },
  "language_info": {
   "codemirror_mode": {
    "name": "ipython",
    "version": 3
   },
   "file_extension": ".py",
   "mimetype": "text/x-python",
   "name": "python",
   "nbconvert_exporter": "python",
   "pygments_lexer": "ipython3",
   "version": "3.9.12"
  }
 },
 "nbformat": 4,
 "nbformat_minor": 5
}
