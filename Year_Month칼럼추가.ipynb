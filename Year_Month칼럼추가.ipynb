{
 "cells": [
  {
   "cell_type": "code",
   "execution_count": 2,
   "id": "e92be775-dd51-4775-91bb-4b262365871d",
   "metadata": {},
   "outputs": [],
   "source": [
    "import pandas as pd\n",
    "import matplotlib.pyplot as plt\n",
    "import numpy as np"
   ]
  },
  {
   "cell_type": "markdown",
   "id": "d15a2aa6-2a32-4f24-a513-39254508645a",
   "metadata": {
    "jp-MarkdownHeadingCollapsed": true,
    "tags": []
   },
   "source": [
    "# 데이터불러오기(이륜차신고현황)"
   ]
  },
  {
   "cell_type": "code",
   "execution_count": 3,
   "id": "2747d515-7147-47a7-ae28-05481a891350",
   "metadata": {},
   "outputs": [
    {
     "data": {
      "text/html": [
       "<div>\n",
       "<style scoped>\n",
       "    .dataframe tbody tr th:only-of-type {\n",
       "        vertical-align: middle;\n",
       "    }\n",
       "\n",
       "    .dataframe tbody tr th {\n",
       "        vertical-align: top;\n",
       "    }\n",
       "\n",
       "    .dataframe thead th {\n",
       "        text-align: right;\n",
       "    }\n",
       "</style>\n",
       "<table border=\"1\" class=\"dataframe\">\n",
       "  <thead>\n",
       "    <tr style=\"text-align: right;\">\n",
       "      <th></th>\n",
       "      <th>Unnamed: 0</th>\n",
       "      <th>시도명</th>\n",
       "      <th>소계</th>\n",
       "    </tr>\n",
       "  </thead>\n",
       "  <tbody>\n",
       "    <tr>\n",
       "      <th>0</th>\n",
       "      <td>0</td>\n",
       "      <td>합계</td>\n",
       "      <td>2194140.0</td>\n",
       "    </tr>\n",
       "    <tr>\n",
       "      <th>1</th>\n",
       "      <td>1</td>\n",
       "      <td>합계</td>\n",
       "      <td>2193273.0</td>\n",
       "    </tr>\n",
       "    <tr>\n",
       "      <th>2</th>\n",
       "      <td>2</td>\n",
       "      <td>합계</td>\n",
       "      <td>2195171.0</td>\n",
       "    </tr>\n",
       "    <tr>\n",
       "      <th>3</th>\n",
       "      <td>3</td>\n",
       "      <td>합계</td>\n",
       "      <td>2198065.0</td>\n",
       "    </tr>\n",
       "    <tr>\n",
       "      <th>4</th>\n",
       "      <td>4</td>\n",
       "      <td>합계</td>\n",
       "      <td>2200707.0</td>\n",
       "    </tr>\n",
       "    <tr>\n",
       "      <th>5</th>\n",
       "      <td>5</td>\n",
       "      <td>합계</td>\n",
       "      <td>2203142.0</td>\n",
       "    </tr>\n",
       "    <tr>\n",
       "      <th>6</th>\n",
       "      <td>6</td>\n",
       "      <td>합계</td>\n",
       "      <td>2206025.0</td>\n",
       "    </tr>\n",
       "    <tr>\n",
       "      <th>7</th>\n",
       "      <td>7</td>\n",
       "      <td>합계</td>\n",
       "      <td>2210071.0</td>\n",
       "    </tr>\n",
       "    <tr>\n",
       "      <th>8</th>\n",
       "      <td>8</td>\n",
       "      <td>합계</td>\n",
       "      <td>2212520.0</td>\n",
       "    </tr>\n",
       "    <tr>\n",
       "      <th>9</th>\n",
       "      <td>9</td>\n",
       "      <td>합계</td>\n",
       "      <td>2212121.0</td>\n",
       "    </tr>\n",
       "    <tr>\n",
       "      <th>10</th>\n",
       "      <td>10</td>\n",
       "      <td>합계</td>\n",
       "      <td>2210664.0</td>\n",
       "    </tr>\n",
       "    <tr>\n",
       "      <th>11</th>\n",
       "      <td>11</td>\n",
       "      <td>합계</td>\n",
       "      <td>2208424.0</td>\n",
       "    </tr>\n",
       "  </tbody>\n",
       "</table>\n",
       "</div>"
      ],
      "text/plain": [
       "    Unnamed: 0 시도명         소계\n",
       "0            0  합계  2194140.0\n",
       "1            1  합계  2193273.0\n",
       "2            2  합계  2195171.0\n",
       "3            3  합계  2198065.0\n",
       "4            4  합계  2200707.0\n",
       "5            5  합계  2203142.0\n",
       "6            6  합계  2206025.0\n",
       "7            7  합계  2210071.0\n",
       "8            8  합계  2212520.0\n",
       "9            9  합계  2212121.0\n",
       "10          10  합계  2210664.0\n",
       "11          11  합계  2208424.0"
      ]
     },
     "execution_count": 3,
     "metadata": {},
     "output_type": "execute_result"
    }
   ],
   "source": [
    "df = pd.read_csv('./data/2018_월별_이륜차신고현황.csv')\n",
    "df"
   ]
  },
  {
   "cell_type": "code",
   "execution_count": 4,
   "id": "b9dfba9e-2c0a-4169-aacd-ecd45c28b4e1",
   "metadata": {},
   "outputs": [],
   "source": [
    "df_num=pd.DataFrame()\n",
    "for i in range(18,22,1):\n",
    "    df = pd.read_csv(f'./data/20{i}_월별_이륜차신고현황.csv')\n",
    "    df_num = pd.concat([df_num,df])\n",
    "    \n",
    "df_num = df_num[['소계']]\n",
    "df_num.columns=['이륜차등록대수']\n",
    "df_num = df_num.reset_index(drop=True)"
   ]
  },
  {
   "cell_type": "markdown",
   "id": "8f195ae0-5967-4ed9-b959-3b7ae7741a95",
   "metadata": {},
   "source": [
    "# Year, Month 칼럼 추가(이륜차 신고현황)"
   ]
  },
  {
   "cell_type": "code",
   "execution_count": 7,
   "id": "be80c880-f685-4f9f-854e-0983b915062f",
   "metadata": {},
   "outputs": [
    {
     "data": {
      "text/html": [
       "<div>\n",
       "<style scoped>\n",
       "    .dataframe tbody tr th:only-of-type {\n",
       "        vertical-align: middle;\n",
       "    }\n",
       "\n",
       "    .dataframe tbody tr th {\n",
       "        vertical-align: top;\n",
       "    }\n",
       "\n",
       "    .dataframe thead th {\n",
       "        text-align: right;\n",
       "    }\n",
       "</style>\n",
       "<table border=\"1\" class=\"dataframe\">\n",
       "  <thead>\n",
       "    <tr style=\"text-align: right;\">\n",
       "      <th></th>\n",
       "      <th>이륜차등록대수</th>\n",
       "      <th>year</th>\n",
       "      <th>month</th>\n",
       "    </tr>\n",
       "  </thead>\n",
       "  <tbody>\n",
       "    <tr>\n",
       "      <th>0</th>\n",
       "      <td>2194140.0</td>\n",
       "      <td>2018</td>\n",
       "      <td>1</td>\n",
       "    </tr>\n",
       "    <tr>\n",
       "      <th>1</th>\n",
       "      <td>2193273.0</td>\n",
       "      <td>2018</td>\n",
       "      <td>2</td>\n",
       "    </tr>\n",
       "    <tr>\n",
       "      <th>2</th>\n",
       "      <td>2195171.0</td>\n",
       "      <td>2018</td>\n",
       "      <td>3</td>\n",
       "    </tr>\n",
       "    <tr>\n",
       "      <th>3</th>\n",
       "      <td>2198065.0</td>\n",
       "      <td>2018</td>\n",
       "      <td>4</td>\n",
       "    </tr>\n",
       "    <tr>\n",
       "      <th>4</th>\n",
       "      <td>2200707.0</td>\n",
       "      <td>2018</td>\n",
       "      <td>5</td>\n",
       "    </tr>\n",
       "  </tbody>\n",
       "</table>\n",
       "</div>"
      ],
      "text/plain": [
       "     이륜차등록대수  year  month\n",
       "0  2194140.0  2018      1\n",
       "1  2193273.0  2018      2\n",
       "2  2195171.0  2018      3\n",
       "3  2198065.0  2018      4\n",
       "4  2200707.0  2018      5"
      ]
     },
     "execution_count": 7,
     "metadata": {},
     "output_type": "execute_result"
    }
   ],
   "source": [
    "list_year = ['2018']*12 + ['2019']*12 + ['2020']*12 + ['2021']*12\n",
    "df_num['year']=list_year\n",
    "list_month = range(1,13)\n",
    "list_month = list(list_month)*4\n",
    "df_num['month'] = list_month\n",
    "df_num.head()"
   ]
  },
  {
   "cell_type": "markdown",
   "id": "cc176816-4f08-4319-a4f4-42d51881e86e",
   "metadata": {
    "tags": []
   },
   "source": [
    "# 이륜차 사고율"
   ]
  },
  {
   "cell_type": "code",
   "execution_count": 8,
   "id": "5e196725-6207-4977-985f-98b72ee8693b",
   "metadata": {},
   "outputs": [
    {
     "data": {
      "text/html": [
       "<div>\n",
       "<style scoped>\n",
       "    .dataframe tbody tr th:only-of-type {\n",
       "        vertical-align: middle;\n",
       "    }\n",
       "\n",
       "    .dataframe tbody tr th {\n",
       "        vertical-align: top;\n",
       "    }\n",
       "\n",
       "    .dataframe thead th {\n",
       "        text-align: right;\n",
       "    }\n",
       "</style>\n",
       "<table border=\"1\" class=\"dataframe\">\n",
       "  <thead>\n",
       "    <tr style=\"text-align: right;\">\n",
       "      <th></th>\n",
       "      <th>사고율</th>\n",
       "    </tr>\n",
       "  </thead>\n",
       "  <tbody>\n",
       "    <tr>\n",
       "      <th>0</th>\n",
       "      <td>5.162692</td>\n",
       "    </tr>\n",
       "    <tr>\n",
       "      <th>1</th>\n",
       "      <td>5.330701</td>\n",
       "    </tr>\n",
       "    <tr>\n",
       "      <th>2</th>\n",
       "      <td>6.861708</td>\n",
       "    </tr>\n",
       "    <tr>\n",
       "      <th>3</th>\n",
       "      <td>7.053135</td>\n",
       "    </tr>\n",
       "    <tr>\n",
       "      <th>4</th>\n",
       "      <td>7.029405</td>\n",
       "    </tr>\n",
       "  </tbody>\n",
       "</table>\n",
       "</div>"
      ],
      "text/plain": [
       "        사고율\n",
       "0  5.162692\n",
       "1  5.330701\n",
       "2  6.861708\n",
       "3  7.053135\n",
       "4  7.029405"
      ]
     },
     "execution_count": 8,
     "metadata": {},
     "output_type": "execute_result"
    }
   ],
   "source": [
    "df_percent = pd.read_csv('./data/이륜차사고율.csv')\n",
    "df_percent = df_percent[['사고율']]\n",
    "df_percent.head()"
   ]
  },
  {
   "cell_type": "code",
   "execution_count": 11,
   "id": "15ab5a72-aa73-489a-8e1e-6052100e752c",
   "metadata": {},
   "outputs": [],
   "source": [
    "list_year = ['2018']*12 + ['2019']*12 + ['2020']*12 + ['2021']*12\n",
    "list_month = range(1,13)\n",
    "list_month = list(list_month)*4\n",
    "df_percent['year']=list_year\n",
    "df_percent['month']=list_month\n",
    "df_percent.to_csv('./data_2/이륜차사고율.csv')"
   ]
  },
  {
   "cell_type": "markdown",
   "id": "19d57c26-66c8-43cf-b191-7093f4da6758",
   "metadata": {
    "tags": []
   },
   "source": [
    "# 온라인 판매량"
   ]
  },
  {
   "cell_type": "code",
   "execution_count": 14,
   "id": "6de2ccf9-e21a-4464-881b-19077960be5d",
   "metadata": {},
   "outputs": [
    {
     "data": {
      "text/html": [
       "<div>\n",
       "<style scoped>\n",
       "    .dataframe tbody tr th:only-of-type {\n",
       "        vertical-align: middle;\n",
       "    }\n",
       "\n",
       "    .dataframe tbody tr th {\n",
       "        vertical-align: top;\n",
       "    }\n",
       "\n",
       "    .dataframe thead th {\n",
       "        text-align: right;\n",
       "    }\n",
       "</style>\n",
       "<table border=\"1\" class=\"dataframe\">\n",
       "  <thead>\n",
       "    <tr style=\"text-align: right;\">\n",
       "      <th></th>\n",
       "      <th>온라인판매량</th>\n",
       "    </tr>\n",
       "  </thead>\n",
       "  <tbody>\n",
       "    <tr>\n",
       "      <th>0</th>\n",
       "      <td>309665</td>\n",
       "    </tr>\n",
       "    <tr>\n",
       "      <th>1</th>\n",
       "      <td>288800</td>\n",
       "    </tr>\n",
       "    <tr>\n",
       "      <th>2</th>\n",
       "      <td>325867</td>\n",
       "    </tr>\n",
       "    <tr>\n",
       "      <th>3</th>\n",
       "      <td>318369</td>\n",
       "    </tr>\n",
       "    <tr>\n",
       "      <th>4</th>\n",
       "      <td>355920</td>\n",
       "    </tr>\n",
       "  </tbody>\n",
       "</table>\n",
       "</div>"
      ],
      "text/plain": [
       "   온라인판매량\n",
       "0  309665\n",
       "1  288800\n",
       "2  325867\n",
       "3  318369\n",
       "4  355920"
      ]
     },
     "execution_count": 14,
     "metadata": {},
     "output_type": "execute_result"
    }
   ],
   "source": [
    "df_sale = pd.read_csv('./data/온라인판매량.csv')\n",
    "df_sale = df_sale[['온라인판매량']]\n",
    "df_sale.head()"
   ]
  },
  {
   "cell_type": "code",
   "execution_count": 17,
   "id": "2d2bb20c-f632-49e5-9d28-78e30d331ce7",
   "metadata": {},
   "outputs": [],
   "source": [
    "list_year = ['2018']*12 + ['2019']*12 + ['2020']*12 + ['2021']*12\n",
    "list_month = range(1,13)\n",
    "list_month = list(list_month)*4\n",
    "df_sale['year']=list_year\n",
    "df_sale['month']=list_month\n",
    "df_sale.to_csv('./data_2/온라인판매량.csv')"
   ]
  },
  {
   "cell_type": "code",
   "execution_count": null,
   "id": "72e1968a-2fe5-45b3-a33e-c02ef7d2278c",
   "metadata": {},
   "outputs": [],
   "source": []
  }
 ],
 "metadata": {
  "kernelspec": {
   "display_name": "Python 3 (ipykernel)",
   "language": "python",
   "name": "python3"
  },
  "language_info": {
   "codemirror_mode": {
    "name": "ipython",
    "version": 3
   },
   "file_extension": ".py",
   "mimetype": "text/x-python",
   "name": "python",
   "nbconvert_exporter": "python",
   "pygments_lexer": "ipython3",
   "version": "3.9.12"
  }
 },
 "nbformat": 4,
 "nbformat_minor": 5
}
