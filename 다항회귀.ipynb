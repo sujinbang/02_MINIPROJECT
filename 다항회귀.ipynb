{
 "cells": [
  {
   "cell_type": "markdown",
   "id": "54cd65cc-8d23-421d-b58c-ae7ce5f760a4",
   "metadata": {
    "tags": []
   },
   "source": [
    "# 월별 사고건수"
   ]
  },
  {
   "cell_type": "code",
   "execution_count": 1,
   "id": "94d0af53-18d2-4b00-b5ae-90b3c1422a07",
   "metadata": {},
   "outputs": [],
   "source": [
    "import pandas as pd\n",
    "import numpy as np\n",
    "import matplotlib.pyplot as plt"
   ]
  },
  {
   "cell_type": "code",
   "execution_count": 2,
   "id": "d80acbb3-cc0b-4aa6-aa34-989fc46ded43",
   "metadata": {},
   "outputs": [
    {
     "name": "stdout",
     "output_type": "stream",
     "text": [
      "<class 'pandas.core.frame.DataFrame'>\n",
      "RangeIndex: 48 entries, 0 to 47\n",
      "Data columns (total 1 columns):\n",
      " #   Column      Non-Null Count  Dtype \n",
      "---  ------      --------------  ----- \n",
      " 0   Unnamed: 1  48 non-null     object\n",
      "dtypes: object(1)\n",
      "memory usage: 512.0+ bytes\n"
     ]
    }
   ],
   "source": [
    "df_all = pd.DataFrame()\n",
    "for i in range(18, 22, 1):\n",
    "    df_file = pd.read_csv(f'./data/월별 교통사고(20{i}).csv', encoding='euc-kr')\n",
    "    df_all = pd.concat([df_all,df_file], axis=0)\n",
    "df_all = df_all[['Unnamed: 1']]\n",
    "df_all = df_all.reset_index(drop=True)\n",
    "df_all = df_all.dropna()\n",
    "df_all = df_all.drop(1)\n",
    "df_all = df_all.drop(15)\n",
    "df_all = df_all.drop(29)\n",
    "df_all = df_all.drop(43)\n",
    "# df_all.index = ['2018.01','2018.02','2018.03','2018.04','2018.05','2018.06','2018.07','2018.08','2018.09','2018.10','2018.11','2018.12','2019.01','2019.02','2019.03','2019.04','2019.05','2019.06','2019.07','2019.08','2019.09','2019.10','2019.11','2019.12','2020.01','2020.02','2020.03','2020.04','2020.05','2020.06','2020.07','2020.08','2020.09','2020.10','2020.11','2020.12','2021.01','2021.02','2021.03','2021.04','2021.05','2021.06','2021.07','2021.08','2021.09','2021.10','2021.11','2021.12']\n",
    "# df_all.index.astype(str)\n",
    "df_all = df_all.reset_index(drop=True)\n",
    "df_all.info()"
   ]
  },
  {
   "cell_type": "markdown",
   "id": "926ace64-318c-4e6e-8573-199f076fcdcb",
   "metadata": {},
   "source": [
    "# 월별 이륜차 사고건수"
   ]
  },
  {
   "cell_type": "code",
   "execution_count": 15,
   "id": "f72b86cf-6d25-4035-af09-6bfe0876b5a8",
   "metadata": {},
   "outputs": [],
   "source": [
    "df = pd.read_csv('./data/가해자_차종별_교통사고_20220726173801.csv', encoding='euc-kr')\n",
    "df = df[['월별(1)','2018','2019','2020','2021']]\n",
    "df\n",
    "df.to_csv('./data_2/월별이륜차사고건수.csv')"
   ]
  },
  {
   "cell_type": "code",
   "execution_count": 4,
   "id": "e47a415c-3abe-4a11-af0c-ae322ef162c4",
   "metadata": {},
   "outputs": [],
   "source": [
    "df_1 = df[['월별(1)', '2018']]\n",
    "df_2 = df[['월별(1)', '2019']]\n",
    "df_3 = df[['월별(1)', '2020']]\n",
    "df_4 = df[['월별(1)', '2021']]"
   ]
  },
  {
   "cell_type": "code",
   "execution_count": 5,
   "id": "da95d373-e917-4c23-9a9b-edace3aafeba",
   "metadata": {},
   "outputs": [],
   "source": [
    "df_1.columns=['월','사고건수']\n",
    "df_2.columns=['월','사고건수']\n",
    "df_3.columns=['월','사고건수']\n",
    "df_4.columns=['월','사고건수']"
   ]
  },
  {
   "cell_type": "code",
   "execution_count": 6,
   "id": "2afb8137-45e8-44e3-bdde-ad4e944b1238",
   "metadata": {},
   "outputs": [],
   "source": [
    "df = pd.concat([df_1,df_2,df_3,df_4],axis=0)\n",
    "df = df.drop(0).reset_index(drop=True)\n",
    "df = df.drop(0)\n",
    "df = df.drop(13)\n",
    "df = df.drop(26)\n",
    "df = df.drop(39)\n",
    "df['사고건수'] = df['사고건수'].astype(int)\n",
    "df = df[['사고건수']]\n",
    "df = df.reset_index(drop=True)"
   ]
  },
  {
   "cell_type": "code",
   "execution_count": 7,
   "id": "2dada8d9-6759-40a9-84f4-638b211162d5",
   "metadata": {},
   "outputs": [
    {
     "data": {
      "text/html": [
       "<div>\n",
       "<style scoped>\n",
       "    .dataframe tbody tr th:only-of-type {\n",
       "        vertical-align: middle;\n",
       "    }\n",
       "\n",
       "    .dataframe tbody tr th {\n",
       "        vertical-align: top;\n",
       "    }\n",
       "\n",
       "    .dataframe thead th {\n",
       "        text-align: right;\n",
       "    }\n",
       "</style>\n",
       "<table border=\"1\" class=\"dataframe\">\n",
       "  <thead>\n",
       "    <tr style=\"text-align: right;\">\n",
       "      <th></th>\n",
       "      <th>전체사고건수</th>\n",
       "      <th>사고건수</th>\n",
       "      <th>사고율</th>\n",
       "    </tr>\n",
       "  </thead>\n",
       "  <tbody>\n",
       "    <tr>\n",
       "      <th>0</th>\n",
       "      <td>17026</td>\n",
       "      <td>879</td>\n",
       "      <td>5.162692</td>\n",
       "    </tr>\n",
       "    <tr>\n",
       "      <th>1</th>\n",
       "      <td>16208</td>\n",
       "      <td>864</td>\n",
       "      <td>5.330701</td>\n",
       "    </tr>\n",
       "    <tr>\n",
       "      <th>2</th>\n",
       "      <td>17022</td>\n",
       "      <td>1168</td>\n",
       "      <td>6.861708</td>\n",
       "    </tr>\n",
       "    <tr>\n",
       "      <th>3</th>\n",
       "      <td>17992</td>\n",
       "      <td>1269</td>\n",
       "      <td>7.053135</td>\n",
       "    </tr>\n",
       "    <tr>\n",
       "      <th>4</th>\n",
       "      <td>18636</td>\n",
       "      <td>1310</td>\n",
       "      <td>7.029405</td>\n",
       "    </tr>\n",
       "  </tbody>\n",
       "</table>\n",
       "</div>"
      ],
      "text/plain": [
       "   전체사고건수  사고건수       사고율\n",
       "0   17026   879  5.162692\n",
       "1   16208   864  5.330701\n",
       "2   17022  1168  6.861708\n",
       "3   17992  1269  7.053135\n",
       "4   18636  1310  7.029405"
      ]
     },
     "execution_count": 7,
     "metadata": {},
     "output_type": "execute_result"
    }
   ],
   "source": [
    "df_final = pd.concat([df_all,df], axis=1)\n",
    "df_final.columns=['전체사고건수','사고건수']\n",
    "df_final = df_final.astype(int)\n",
    "df_final['사고율'] = df_final['사고건수'] / df_final['전체사고건수'] * 100\n",
    "df_final\n",
    "df = df_final[['사고율']]\n",
    "df_final.head()"
   ]
  },
  {
   "cell_type": "code",
   "execution_count": 8,
   "id": "35c09f85-0a85-4438-ad50-e8508b389323",
   "metadata": {},
   "outputs": [],
   "source": [
    "df.to_csv('./data/이륜차사고율.csv')"
   ]
  },
  {
   "cell_type": "code",
   "execution_count": 9,
   "id": "a7886b4b-6707-4166-8ad4-7a078efaa432",
   "metadata": {},
   "outputs": [
    {
     "data": {
      "text/html": [
       "<div>\n",
       "<style scoped>\n",
       "    .dataframe tbody tr th:only-of-type {\n",
       "        vertical-align: middle;\n",
       "    }\n",
       "\n",
       "    .dataframe tbody tr th {\n",
       "        vertical-align: top;\n",
       "    }\n",
       "\n",
       "    .dataframe thead th {\n",
       "        text-align: right;\n",
       "    }\n",
       "</style>\n",
       "<table border=\"1\" class=\"dataframe\">\n",
       "  <thead>\n",
       "    <tr style=\"text-align: right;\">\n",
       "      <th></th>\n",
       "      <th>사고율</th>\n",
       "    </tr>\n",
       "  </thead>\n",
       "  <tbody>\n",
       "    <tr>\n",
       "      <th>0</th>\n",
       "      <td>5.162692</td>\n",
       "    </tr>\n",
       "  </tbody>\n",
       "</table>\n",
       "</div>"
      ],
      "text/plain": [
       "        사고율\n",
       "0  5.162692"
      ]
     },
     "execution_count": 9,
     "metadata": {},
     "output_type": "execute_result"
    }
   ],
   "source": [
    "df_graph = df\n",
    "#df_graph.index = ['2018.01','2018.02','2018.03','2018.04','2018.05','2018.06','2018.07','2018.08','2018.09','2018.10','2018.11','2018.12','2019.01','2019.02','2019.03','2019.04','2019.05','2019.06','2019.07','2019.08','2019.09','2019.10','2019.11','2019.12','2020.01','2020.02','2020.03','2020.04','2020.05','2020.06','2020.07','2020.08','2020.09','2020.10','2020.11','2020.12','2021.01','2021.02','2021.03','2021.04','2021.05','2021.06','2021.07','2021.08','2021.09','2021.10','2021.11','2021.12']\n",
    "df_graph.head(1)"
   ]
  },
  {
   "cell_type": "code",
   "execution_count": 10,
   "id": "96434e42-9a49-45b3-9f46-97c869e4ba15",
   "metadata": {},
   "outputs": [
    {
     "data": {
      "text/plain": [
       "Text(0, 0.5, '사고율')"
      ]
     },
     "execution_count": 10,
     "metadata": {},
     "output_type": "execute_result"
    },
    {
     "name": "stderr",
     "output_type": "stream",
     "text": [
      "C:\\Users\\admin\\anaconda3\\lib\\site-packages\\IPython\\core\\pylabtools.py:151: UserWarning: Glyph 51060 (\\N{HANGUL SYLLABLE I}) missing from current font.\n",
      "  fig.canvas.print_figure(bytes_io, **kw)\n",
      "C:\\Users\\admin\\anaconda3\\lib\\site-packages\\IPython\\core\\pylabtools.py:151: UserWarning: Glyph 47452 (\\N{HANGUL SYLLABLE RYUN}) missing from current font.\n",
      "  fig.canvas.print_figure(bytes_io, **kw)\n",
      "C:\\Users\\admin\\anaconda3\\lib\\site-packages\\IPython\\core\\pylabtools.py:151: UserWarning: Glyph 52264 (\\N{HANGUL SYLLABLE CA}) missing from current font.\n",
      "  fig.canvas.print_figure(bytes_io, **kw)\n",
      "C:\\Users\\admin\\anaconda3\\lib\\site-packages\\IPython\\core\\pylabtools.py:151: UserWarning: Glyph 49324 (\\N{HANGUL SYLLABLE SA}) missing from current font.\n",
      "  fig.canvas.print_figure(bytes_io, **kw)\n",
      "C:\\Users\\admin\\anaconda3\\lib\\site-packages\\IPython\\core\\pylabtools.py:151: UserWarning: Glyph 44256 (\\N{HANGUL SYLLABLE GO}) missing from current font.\n",
      "  fig.canvas.print_figure(bytes_io, **kw)\n",
      "C:\\Users\\admin\\anaconda3\\lib\\site-packages\\IPython\\core\\pylabtools.py:151: UserWarning: Glyph 50984 (\\N{HANGUL SYLLABLE YUL}) missing from current font.\n",
      "  fig.canvas.print_figure(bytes_io, **kw)\n",
      "C:\\Users\\admin\\anaconda3\\lib\\site-packages\\IPython\\core\\pylabtools.py:151: UserWarning: Glyph 50672 (\\N{HANGUL SYLLABLE YEON}) missing from current font.\n",
      "  fig.canvas.print_figure(bytes_io, **kw)\n",
      "C:\\Users\\admin\\anaconda3\\lib\\site-packages\\IPython\\core\\pylabtools.py:151: UserWarning: Glyph 46020 (\\N{HANGUL SYLLABLE DO}) missing from current font.\n",
      "  fig.canvas.print_figure(bytes_io, **kw)\n",
      "C:\\Users\\admin\\anaconda3\\lib\\site-packages\\IPython\\core\\pylabtools.py:151: UserWarning: Glyph 48324 (\\N{HANGUL SYLLABLE BYEOL}) missing from current font.\n",
      "  fig.canvas.print_figure(bytes_io, **kw)\n"
     ]
    },
    {
     "data": {
      "image/png": "[encoded data removed]",
      "text/plain": [
       "<Figure size 432x288 with 1 Axes>"
      ]
     },
     "metadata": {
      "needs_background": "light"
     },
     "output_type": "display_data"
    }
   ],
   "source": [
    "plt.plot(df_graph)\n",
    "plt.title('2018~2021 이륜차사고율')\n",
    "plt.xlabel('연도별')\n",
    "plt.ylabel('사고율')"
   ]
  },
  {
   "cell_type": "markdown",
   "id": "4c600b95-9980-447b-a5c1-3c9927341d8e",
   "metadata": {},
   "source": [
    "# 월별 온라인매출액"
   ]
  },
  {
   "cell_type": "code",
   "execution_count": 11,
   "id": "afb63f62-10f9-49b7-aabf-862abcc4ff04",
   "metadata": {},
   "outputs": [],
   "source": [
    "df_2 = pd.read_csv('./data/온라인쇼핑몰_판매매체별_상품군별거래액_20220726151517.csv', encoding='euc-kr')\n",
    "df_2 = df_2.T\n",
    "df_2 = df_2[[2]]\n",
    "df_2 = df_2.drop('상품군별')\n",
    "df_2 = df_2.drop('판매매체별')\n",
    "df_2 = df_2.reset_index(drop=True)\n",
    "df_2.columns=['온라인판매량']\n",
    "df_2.to_csv('./data/온라인판매량.csv')"
   ]
  },
  {
   "cell_type": "code",
   "execution_count": 12,
   "id": "87f5841e-d16c-4121-8b98-1f394e9ed5c6",
   "metadata": {},
   "outputs": [
    {
     "data": {
      "text/html": [
       "<div>\n",
       "<style scoped>\n",
       "    .dataframe tbody tr th:only-of-type {\n",
       "        vertical-align: middle;\n",
       "    }\n",
       "\n",
       "    .dataframe tbody tr th {\n",
       "        vertical-align: top;\n",
       "    }\n",
       "\n",
       "    .dataframe thead th {\n",
       "        text-align: right;\n",
       "    }\n",
       "</style>\n",
       "<table border=\"1\" class=\"dataframe\">\n",
       "  <thead>\n",
       "    <tr style=\"text-align: right;\">\n",
       "      <th></th>\n",
       "      <th>온라인판매량</th>\n",
       "    </tr>\n",
       "  </thead>\n",
       "  <tbody>\n",
       "    <tr>\n",
       "      <th>2018.01</th>\n",
       "      <td>309665</td>\n",
       "    </tr>\n",
       "    <tr>\n",
       "      <th>2018.02</th>\n",
       "      <td>288800</td>\n",
       "    </tr>\n",
       "    <tr>\n",
       "      <th>2018.03</th>\n",
       "      <td>325867</td>\n",
       "    </tr>\n",
       "    <tr>\n",
       "      <th>2018.04</th>\n",
       "      <td>318369</td>\n",
       "    </tr>\n",
       "    <tr>\n",
       "      <th>2018.05</th>\n",
       "      <td>355920</td>\n",
       "    </tr>\n",
       "  </tbody>\n",
       "</table>\n",
       "</div>"
      ],
      "text/plain": [
       "         온라인판매량\n",
       "2018.01  309665\n",
       "2018.02  288800\n",
       "2018.03  325867\n",
       "2018.04  318369\n",
       "2018.05  355920"
      ]
     },
     "execution_count": 12,
     "metadata": {},
     "output_type": "execute_result"
    }
   ],
   "source": [
    "df_3 = pd.read_csv('./data/온라인쇼핑몰_판매매체별_상품군별거래액_20220726151517.csv', encoding='euc-kr')\n",
    "df_3 = df_3.T\n",
    "df_3 = df_3[[2]]\n",
    "df_3 = df_3.drop('상품군별')\n",
    "df_3 = df_3.drop('판매매체별')\n",
    "df_3.columns=['온라인판매량']\n",
    "df_3.head()"
   ]
  },
  {
   "cell_type": "code",
   "execution_count": 13,
   "id": "808c3bfd-2214-4fb3-85cb-6c9d83e35c72",
   "metadata": {},
   "outputs": [],
   "source": [
    "df_total = pd.concat([df, df_2], axis=1)\n",
    "df_total.columns = ['사고율','온라인매출액']\n",
    "df_total.head()\n",
    "df_total['온라인매출액'] = df_total['온라인매출액'].astype(int)"
   ]
  },
  {
   "cell_type": "code",
   "execution_count": 14,
   "id": "37e37978-c87c-4d75-a0b9-0ac3526da274",
   "metadata": {},
   "outputs": [
    {
     "ename": "NameError",
     "evalue": "name 'sns' is not defined",
     "output_type": "error",
     "traceback": [
      "\u001b[1;31m---------------------------------------------------------------------------\u001b[0m",
      "\u001b[1;31mNameError\u001b[0m                                 Traceback (most recent call last)",
      "Input \u001b[1;32mIn [14]\u001b[0m, in \u001b[0;36m<cell line: 6>\u001b[1;34m()\u001b[0m\n\u001b[0;32m      3\u001b[0m mask \u001b[38;5;241m=\u001b[39m np\u001b[38;5;241m.\u001b[39mzeros_like(df_total\u001b[38;5;241m.\u001b[39mcorr())\n\u001b[0;32m      4\u001b[0m mask[np\u001b[38;5;241m.\u001b[39mtriu_indices_from(mask)] \u001b[38;5;241m=\u001b[39m \u001b[38;5;28;01mTrue\u001b[39;00m\n\u001b[1;32m----> 6\u001b[0m \u001b[43msns\u001b[49m\u001b[38;5;241m.\u001b[39mheatmap(df_total\u001b[38;5;241m.\u001b[39mcorr(), annot\u001b[38;5;241m=\u001b[39m\u001b[38;5;28;01mTrue\u001b[39;00m, cmap\u001b[38;5;241m=\u001b[39m\u001b[38;5;124m'\u001b[39m\u001b[38;5;124mRdPu\u001b[39m\u001b[38;5;124m'\u001b[39m, linewidth\u001b[38;5;241m=\u001b[39m\u001b[38;5;241m0.1\u001b[39m, mask\u001b[38;5;241m=\u001b[39mmask)\n\u001b[0;32m      7\u001b[0m plt\u001b[38;5;241m.\u001b[39mshow()\n",
      "\u001b[1;31mNameError\u001b[0m: name 'sns' is not defined"
     ]
    },
    {
     "data": {
      "image/png": "[encoded data removed]",
      "text/plain": [
       "<Figure size 720x648 with 1 Axes>"
      ]
     },
     "metadata": {
      "needs_background": "light"
     },
     "output_type": "display_data"
    }
   ],
   "source": [
    "fig, ax = plt.subplots(1,1, figsize=(10,9))\n",
    "\n",
    "mask = np.zeros_like(df_total.corr())\n",
    "mask[np.triu_indices_from(mask)] = True\n",
    "\n",
    "sns.heatmap(df_total.corr(), annot=True, cmap='RdPu', linewidth=0.1, mask=mask)\n",
    "plt.show()"
   ]
  },
  {
   "cell_type": "code",
   "execution_count": null,
   "id": "e751a1bf-4771-4beb-b79e-038b1b902a1e",
   "metadata": {},
   "outputs": [],
   "source": [
    "plt.plot(df_total['온라인매출액'])\n",
    "plt.title('2018~2021 온라인 매출액 현황')\n",
    "plt.xlabel('연도별')\n",
    "plt.ylabel('온라인매출액')"
   ]
  },
  {
   "cell_type": "code",
   "execution_count": null,
   "id": "4397aa9b-a4a9-4e4f-aadf-c3ae0d3594b3",
   "metadata": {},
   "outputs": [],
   "source": [
    "df_total['온라인매출액'].astype(int)"
   ]
  },
  {
   "cell_type": "code",
   "execution_count": null,
   "id": "c1296ce6-c147-4174-83fb-1379f06ccc26",
   "metadata": {},
   "outputs": [],
   "source": [
    "### 라이브러리 불러오기\n",
    "import numpy as np\n",
    "import matplotlib.pyplot as plt\n",
    "\n",
    "plt.rc('font', family='Malgun Gothic')\n",
    "\n",
    "### 데이터 생성하기\n",
    "\n",
    "x = np.array(df_total['온라인매출액'])\n",
    "y = np.array(df_total['사고율'])\n",
    "\n",
    "# 산점도 시각화\n",
    "plt.scatter(x, y) \n",
    "plt.show()\n",
    "\n",
    "### 산점도가 직선을 띄지않고 곡선을 띄고 있다.\n",
    "\n",
    "### 독립변수(x) 데이터를 메트릭스 형태로 변형하기\n",
    "#    - 향후 다항회귀로 변환시 차원 확대를 위해서..\n",
    "\n",
    "from sklearn.linear_model import LinearRegression\n",
    "\n",
    "# np.newaxis : 입력을 matrix로 변환\n",
    "x = x[:, np.newaxis] \n",
    "print(\"x = \\n\", x)\n",
    "print(\"-------------------------------\")\n",
    "\n",
    "\n",
    "### 선형회귀 모델 생성하기\n",
    "\n",
    "# 선형회귀 학습모델 생성하기\n",
    "model = LinearRegression().fit(x, y) \n",
    "\n",
    "# 예측(테스트) 하기\n",
    "y_pred = model.predict(x)\n",
    "print(\"예측(테스트) 결과 = \", y_pred)\n",
    "# [2.  2.7 3.4 4.1 4.8]\n",
    "\n",
    "### 산점도 시각화\n",
    "plt.scatter(x, y) \n",
    "\n",
    "### 추세선 그래프 그리기\n",
    "plt.plot(x, y_pred, c='red') \n",
    "plt.show()\n",
    "\n",
    "### 다항식 특징을 추가하기\n",
    "\n",
    "from sklearn.preprocessing import PolynomialFeatures\n",
    "\n",
    "# PolynomialFeatures() : 2차항 적용을 위한 함수 \n",
    "#  - degree : 열 개수, \n",
    "#  - include_bias : 편향 (false = 고려안함)\n",
    "#  - 편향이란?\n",
    "#    : 예측값이 정답과 얼마나 다른가(차이가 있는가, 떨어져 있는가, \n",
    "#       멀게 있는가 등등) 를 표현한 것\n",
    "poly = PolynomialFeatures(degree=3, include_bias = False) \n",
    "print(\"poly = \", poly)\n",
    "\n",
    "### 특징 행렬 생성하기 : 다항으로 변환하기\n",
    "#  - fit_transform() : 독립변수(x)의 데이터를 2차항으로 변형\n",
    "x2 = poly.fit_transform(x) \n",
    "print(\"x2= \\n\", x2)\n",
    "\n",
    "### 다항으로 변환된 독립변수(x2)의 값 사용을 위한 \n",
    "### 선형회귀 모델 생성하기\n",
    "\n",
    "# 선형회귀분석에서 결정계수 확인을 위한 라이브러리\n",
    "from sklearn.metrics import r2_score\n",
    "\n",
    "# 선형회귀 학습모델 생성 : 다항 독립변수(x2)를 사용\n",
    "model2 = LinearRegression().fit(x2, y) \n",
    "\n",
    "print(\"model = \\n\", model2)\n",
    "print(\"---------------------------\")\n",
    "\n",
    "# 기울기 \n",
    "print(\"기울기 = \", model2.coef_)   \n",
    "print(\"-------------------------------\")\n",
    "\n",
    "# y절편\n",
    "print(\"y절편 = \", model2.intercept_) \n",
    "print(\"-------------------------------\")\n",
    "\n",
    "# 예측(테스트) 하기..\n",
    "y_pred2 = model2.predict(x2)\n",
    "\n",
    "### 결과 확인해 보기\n",
    "print(\"예측값(y_pred2) = \\n\", y_pred2)\n",
    "print(\"-------------------------------\")\n",
    "\n",
    "print(\"실제값(y) = \\n\", y)\n",
    "print(\"-------------------------------\")\n",
    "\n",
    "# 결정계수(R-squared)\n",
    "print(\"결정계수(R-squared) = \", r2_score(y, y_pred2))   \n",
    "print(\"-------------------------------\")\n",
    "\n",
    "### 다항 회귀 시각화 하기\n",
    "# 산점도 표시\n",
    "plt.scatter(x, y)\n",
    "\n",
    "# 다항회귀모델 예측결과 값을 이용한 추세선 그래프\n",
    "plt.plot(x, y_pred2, c='red') \n",
    "plt.show()\n",
    "\n",
    "### (해석)\n",
    "# - 실제 독립변수(x)의 곡선의 분포에 맞게\n",
    "# - 다항회귀분석 예측 결과 추세선이 잘 그려졌음\n",
    "# - 결정계수(R-squared)의 값이 [0.994]로 \n",
    "#   예측 결과가 매우 정확한 모델로 확인됨"
   ]
  },
  {
   "cell_type": "markdown",
   "id": "c0077820-ab1e-47a9-8e35-0c25e34551b7",
   "metadata": {},
   "source": [
    "# 상관관계도"
   ]
  },
  {
   "cell_type": "code",
   "execution_count": null,
   "id": "288c0115-aed3-43a9-8b5d-e0b9de2e04fd",
   "metadata": {},
   "outputs": [],
   "source": [
    "import seaborn as sns"
   ]
  },
  {
   "cell_type": "code",
   "execution_count": null,
   "id": "e4323bee-529f-4d46-9080-4c1c6c9f614d",
   "metadata": {},
   "outputs": [],
   "source": [
    "sns.pairplot(df_total)"
   ]
  },
  {
   "cell_type": "code",
   "execution_count": null,
   "id": "b0a7f3b8-bdb9-41da-9a1f-48c1fc05df8a",
   "metadata": {},
   "outputs": [],
   "source": []
  },
  {
   "cell_type": "code",
   "execution_count": null,
   "id": "45870db5-bc44-4c73-bd11-3bce5bb6569b",
   "metadata": {},
   "outputs": [],
   "source": []
  }
 ],
 "metadata": {
  "kernelspec": {
   "display_name": "Python 3 (ipykernel)",
   "language": "python",
   "name": "python3"
  },
  "language_info": {
   "codemirror_mode": {
    "name": "ipython",
    "version": 3
   },
   "file_extension": ".py",
   "mimetype": "text/x-python",
   "name": "python",
   "nbconvert_exporter": "python",
   "pygments_lexer": "ipython3",
   "version": "3.9.12"
  }
 },
 "nbformat": 4,
 "nbformat_minor": 5
}
